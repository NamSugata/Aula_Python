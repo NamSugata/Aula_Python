{
  "nbformat": 4,
  "nbformat_minor": 0,
  "metadata": {
    "kernelspec": {
      "display_name": "Python 3",
      "language": "python",
      "name": "python3"
    },
    "language_info": {
      "codemirror_mode": {
        "name": "ipython",
        "version": 3
      },
      "file_extension": ".py",
      "mimetype": "text/x-python",
      "name": "python",
      "nbconvert_exporter": "python",
      "pygments_lexer": "ipython3",
      "version": "3.7.0"
    },
    "colab": {
      "name": "Exercícios_aula9_1,2,3,4,5,6,7.ipynb",
      "provenance": [],
      "collapsed_sections": [],
      "include_colab_link": true
    }
  },
  "cells": [
    {
      "cell_type": "markdown",
      "metadata": {
        "id": "view-in-github",
        "colab_type": "text"
      },
      "source": [
        "<a href=\"https://colab.research.google.com/github/NamSugata/Aula_Python/blob/master/Exerc%C3%ADcios_aula9_1%2C2%2C3%2C4%2C5%2C6%2C7.ipynb\" target=\"_parent\"><img src=\"https://colab.research.google.com/assets/colab-badge.svg\" alt=\"Open In Colab\"/></a>"
      ]
    },
    {
      "cell_type": "markdown",
      "metadata": {
        "id": "E9ITlrNBiutZ"
      },
      "source": [
        "## Exercícios em aula:\n",
        "\n",
        "1) Considere a função abaixo. Esse tipo de função é considerada uma **função modificadora** pois modifica o objeto que é passado como argumento. "
      ]
    },
    {
      "cell_type": "code",
      "metadata": {
        "id": "iKwmsYgeiutZ",
        "outputId": "0336af11-d88e-4653-843d-32f6f44671b8",
        "colab": {
          "base_uri": "https://localhost:8080/",
          "height": 52
        }
      },
      "source": [
        "def dobrar_elementos(uma_lista):\n",
        "    \"\"\" Reescreve os elementos de uma_lista com o dobro de seus valores originais.\n",
        "    \"\"\"\n",
        "    for (i, valor) in enumerate(uma_lista):\n",
        "        novo_elem = 2 * valor\n",
        "        uma_lista[i] = novo_elem\n",
        "\n",
        "    return uma_lista\n",
        "\n",
        "minha_lista = [2, 4, 6]\n",
        "print(minha_lista)\n",
        "dobrar_elementos(minha_lista)\n",
        "print(minha_lista)"
      ],
      "execution_count": null,
      "outputs": [
        {
          "output_type": "stream",
          "text": [
            "[2, 4, 6]\n",
            "[4, 8, 12]\n"
          ],
          "name": "stdout"
        }
      ]
    },
    {
      "cell_type": "markdown",
      "metadata": {
        "id": "i23JYSmRiutb"
      },
      "source": [
        "a) Modifique a função para retornar uma **nova lista**, sem modificar a lista usada como parâmetro. Esse tipo de função é chamado de **função pura**.\n",
        "\n",
        "\n",
        "b) Modifique a documentação de ajuda da nova função, de tal forma que quando se chame a função ***help*** da nova função, se obtenha a descrição adequada."
      ]
    },
    {
      "cell_type": "markdown",
      "metadata": {
        "id": "LkKV2_H23Ts1"
      },
      "source": [
        "## Exercícios:\n",
        "\n",
        "1) Utilizando um arquivo de dados com várias colunas (por exemplo, o arquivo ```dados_alunos.txt```), faça um histograma com os dados de cada uma das colunas. **Dica**: utilize o ***matplotlib*** para fazer os histogramas.\n",
        "\n",
        "2) Estude os métodos do módulo ```os``` e faça um script que liste todos os arquivos de um dado diretório assim como de seus subdiretórios. **Dica**: use o método ```walk```.\n",
        "\n",
        "3) **Reescreva o script dessa aula, ```lcount.py``` na forma de uma módulo. Qual o valor da variável ```__name__``` quando o módulo é importado?**\n",
        "\n",
        "4) Escreva uma função chamada ler_arquivos que tome como argumento um nome de arquivo, leia um arquivo com um número qualquer de colunas e retorne um **dicionário** que tenha como *keys* os números das colunas e como valor uma lista dos valores associados a cada coluna do arquivo. Use o arquivo dados_alunos.txt. Caso o arquivo tiver o cabeçalho das colunas, p.ex. dados_alunos_cabecalho.txt, a key deve ser a palavra do cabeçalho.\n",
        "\n",
        "   * Caso não queria usar dicionários, você pode pensar em uma estrutura de dados alternativa para armazenar os dados do arquivo, como por exemplo uma ou mais listas.\n",
        "   * Também pode usar funções já existentes nos módulos de Python `numpy` ou `pandas` para ler arquivos de texto e armazenar nas estruturas desses módulos (`DataFrames` ou `arrays`).\n",
        "   * Adapte a função acima para, se ocorrer um erro ao abrir, ler ou fechar arquivos, o programa capturar a exceção, imprimir uma mensagem de erro e sair.\n",
        "\n",
        "5) **Adapte o script acima para ser um módulo.**\n",
        "\n",
        "**6) Escreva um script que importe o módulo criado acima e faça um histograma para cada coluna do arquivo, com seus respectivos valores. Use o dicionário ou a estrutura de dados criada em 1).**\n",
        "\n",
        "7) Adicione uma função ao script criado em 6), que calcule o desvio padrão amostral, desvio padrão populacional e média de cada distribuição representada nos histogramas acima. Para tal, use o módulo `statistics` do Python ou outro módulo de Python (`numpy`, `scipy`)."
      ]
    },
    {
      "cell_type": "markdown",
      "metadata": {
        "id": "pWgqamd65GLz"
      },
      "source": [
        "Solução exercícios:"
      ]
    },
    {
      "cell_type": "markdown",
      "metadata": {
        "id": "P5a3luP-THwH"
      },
      "source": [
        "Exercício 01:"
      ]
    },
    {
      "cell_type": "code",
      "metadata": {
        "id": "y9FevgJ45FK6",
        "outputId": "851a2121-c198-473c-d5c6-c997679225d4",
        "colab": {
          "base_uri": "https://localhost:8080/",
          "height": 1000
        }
      },
      "source": [
        "'Exercício 01:'\n",
        "\n",
        "import numpy as np\n",
        "import matplotlib.pyplot as plt\n",
        "\n",
        "a, b, c = np.loadtxt('dados_alunos.txt', unpack='True')\n",
        "\n",
        "bin_a = np.linspace(17, 45, 30)\n",
        "bin_b = np.linspace(1.5, 2, 30)\n",
        "bin_c = np.linspace(40, 115, 30)\n",
        "\n",
        "print(a)\n",
        "print(b)\n",
        "print(c)\n",
        "\n",
        "plt.figure(1)\n",
        "plt.hist(a, bin_a, color = 'red', histtype='bar', rwidth=0.8)\n",
        "plt.grid(True)\n",
        "plt.title('Coluna A')\n",
        "plt.xlabel('Idade')\n",
        "plt.ylabel('Alunos')\n",
        "\n",
        "plt.figure(2)\n",
        "plt.hist(b, bin_b, histtype='bar', rwidth=0.8)\n",
        "plt.grid(True)\n",
        "plt.title('Coluna B')\n",
        "plt.xlabel('Altura')\n",
        "plt.ylabel('Alunos')\n",
        "\n",
        "plt.figure(3)\n",
        "plt.hist(c, bin_c, color = 'yellow',histtype='bar', rwidth=0.8)\n",
        "plt.grid(True)\n",
        "plt.title('Coluna C')\n",
        "plt.xlabel('Massa')\n",
        "plt.ylabel('Alunos')\n",
        "\n",
        "plt.show()"
      ],
      "execution_count": 6,
      "outputs": [
        {
          "output_type": "stream",
          "text": [
            "[18. 18. 18. 18. 19. 18. 21. 18. 18. 18. 17. 18. 18. 17. 19. 22. 18. 19.\n",
            " 18. 20. 17. 18. 18. 17. 19. 18. 34. 18. 19. 18. 18. 20. 18. 23. 18. 18.\n",
            " 17. 19. 18. 18. 19. 19. 28. 19. 26. 19. 19. 20. 20. 19. 22. 19. 18. 28.\n",
            " 20. 44. 18.]\n",
            "[1.68 1.94 1.7  1.76 1.73 1.66 1.8  1.6  1.67 1.73 1.73 1.61 1.69 1.71\n",
            " 1.78 1.68 1.7  1.64 1.64 1.8  1.75 1.78 1.75 1.69 1.78 1.7  1.75 1.64\n",
            " 1.75 1.67 1.7  1.8  1.63 1.89 1.71 1.65 1.72 1.65 1.75 1.7  1.81 1.65\n",
            " 1.52 1.79 1.79 1.75 1.8  1.75 1.73 1.7  1.78 1.77 1.53 1.54 1.83 1.85\n",
            " 1.6 ]\n",
            "[ 80.   60.   80.   66.   87.5  58.   92.   57.   64.   57.   75.   59.\n",
            "  90.   67.   60.   72.   73.   86.   75.   95.   60.   75.   65.   60.\n",
            "  73.   63.   78.   64.   50.   61.   70.   60.   57.  110.   71.   65.\n",
            "  67.   58.   90.   64.   70.   43.   50.   78.   82.   61.   70.   70.\n",
            "  70.   50.   72.   55.   58.   50.   70.   90.   51. ]\n"
          ],
          "name": "stdout"
        },
        {
          "output_type": "display_data",
          "data": {
            "image/png": "[encoded data removed]",
            "text/plain": [
              "<Figure size 432x288 with 1 Axes>"
            ]
          },
          "metadata": {
            "tags": [],
            "needs_background": "light"
          }
        },
        {
          "output_type": "display_data",
          "data": {
            "image/png": "[encoded data removed]",
            "text/plain": [
              "<Figure size 432x288 with 1 Axes>"
            ]
          },
          "metadata": {
            "tags": [],
            "needs_background": "light"
          }
        },
        {
          "output_type": "display_data",
          "data": {
            "image/png": "[encoded data removed]",
            "text/plain": [
              "<Figure size 432x288 with 1 Axes>"
            ]
          },
          "metadata": {
            "tags": [],
            "needs_background": "light"
          }
        }
      ]
    },
    {
      "cell_type": "markdown",
      "metadata": {
        "id": "UnphdN9mTTj2"
      },
      "source": [
        "Exercício 02:\n"
      ]
    },
    {
      "cell_type": "code",
      "metadata": {
        "id": "ZzN3965UGIAe",
        "outputId": "f7932be6-1acb-4b50-f9ff-49239c18b634",
        "colab": {
          "base_uri": "https://localhost:8080/",
          "height": 381
        }
      },
      "source": [
        "\"Exercício 02:\"\n",
        "import os\n",
        "\n",
        "def walk(pasta):\n",
        "    \"\"\"Imprime os arquivos de uma pasta e de seus subdiretorios.\n",
        "    pasta: nome de string da pasta.\n",
        "    \"\"\"\n",
        "    for nome in os.listdir(pasta):        #lista conteúdo de arquivos numa pasta\n",
        "        path = os.path.join(pasta, nome)  #une duas ou mais pastas inserindo '/' para separá-las.\n",
        "\n",
        "        if os.path.isfile(path):  #testa quando um path é um caminho regular\n",
        "            print(path)     # vai mostrar o nome do arquivo (file)\n",
        "        else:\n",
        "            walk(path)      # se não for um arquivo, mostrará o diretório e os arquvos dentro do mesmo\n",
        "\n",
        "if __name__ == '__main__':\n",
        "    walk('.')"
      ],
      "execution_count": 7,
      "outputs": [
        {
          "output_type": "stream",
          "text": [
            "./.config/.last_opt_in_prompt.yaml\n",
            "./.config/.last_survey_prompt.yaml\n",
            "./.config/configurations/config_default\n",
            "./.config/.last_update_check.json\n",
            "./.config/active_config\n",
            "./.config/logs/2020.10.14/16.31.46.824031.log\n",
            "./.config/logs/2020.10.14/16.31.31.333159.log\n",
            "./.config/logs/2020.10.14/16.30.50.869240.log\n",
            "./.config/logs/2020.10.14/16.31.46.119103.log\n",
            "./.config/logs/2020.10.14/16.31.25.706256.log\n",
            "./.config/logs/2020.10.14/16.31.10.843101.log\n",
            "./.config/gce\n",
            "./.config/config_sentinel\n",
            "./.config/.metricsUUID\n",
            "./dados_alunos.txt\n",
            "./sample_data/anscombe.json\n",
            "./sample_data/README.md\n",
            "./sample_data/mnist_test.csv\n",
            "./sample_data/california_housing_test.csv\n",
            "./sample_data/california_housing_train.csv\n",
            "./sample_data/mnist_train_small.csv\n"
          ],
          "name": "stdout"
        }
      ]
    },
    {
      "cell_type": "markdown",
      "metadata": {
        "id": "Oe5gs4UUTgLb"
      },
      "source": [
        "Exercício 03:"
      ]
    },
    {
      "cell_type": "code",
      "metadata": {
        "id": "70DlwrHoH1v6",
        "outputId": "77bae638-ab68-448f-e720-b03081626d9b",
        "colab": {
          "base_uri": "https://localhost:8080/",
          "height": 35
        }
      },
      "source": [
        "%%writefile lcount.py\n",
        "\n",
        "def linecount(filename):\n",
        "    count = 0\n",
        "    for line in open(filename):\n",
        "        count += 1\n",
        "    return count\n",
        "\n",
        "linecount('lcount.py')"
      ],
      "execution_count": 8,
      "outputs": [
        {
          "output_type": "stream",
          "text": [
            "Writing lcount.py\n"
          ],
          "name": "stdout"
        }
      ]
    },
    {
      "cell_type": "code",
      "metadata": {
        "id": "Wjl8hE1hKp2-",
        "outputId": "73de8809-4cac-4de8-961c-93835cd9fe41",
        "colab": {
          "base_uri": "https://localhost:8080/",
          "height": 35
        }
      },
      "source": [
        "import lcount\n",
        "\n",
        "if __name__ == '__main__':\n",
        "    print(__name__)"
      ],
      "execution_count": 9,
      "outputs": [
        {
          "output_type": "stream",
          "text": [
            "__main__\n"
          ],
          "name": "stdout"
        }
      ]
    },
    {
      "cell_type": "markdown",
      "metadata": {
        "id": "eM2GVltKUDeY"
      },
      "source": [
        "Exercício 04 (a):"
      ]
    },
    {
      "cell_type": "code",
      "metadata": {
        "id": "916eOLZbNOWK",
        "outputId": "a44f9d5a-6d1d-4458-e34e-1e6697e035bb",
        "colab": {
          "base_uri": "https://localhost:8080/",
          "height": 277
        }
      },
      "source": [
        "\"Exercício 04:\"\n",
        "import numpy as np\n",
        "\n",
        "def ler_arquivos(filename):\n",
        "    x, y, z = np.loadtxt(filename, unpack='True')\n",
        "    print(\"Coluna A: \", x)\n",
        "    print(\"Coluna B: \", y)\n",
        "    print(\"Coluna C: \", z)\n",
        "\n",
        "def num_colunas(filename):\n",
        "    num_column = np.loadtxt(filename, dtype='str').shape[1]\n",
        "    print(\"Colunas: \", num_column)\n",
        "\n",
        "ler_arquivos('dados_alunos.txt')\n",
        "num_colunas('dados_alunos.txt')"
      ],
      "execution_count": 10,
      "outputs": [
        {
          "output_type": "stream",
          "text": [
            "Coluna A:  [18. 18. 18. 18. 19. 18. 21. 18. 18. 18. 17. 18. 18. 17. 19. 22. 18. 19.\n",
            " 18. 20. 17. 18. 18. 17. 19. 18. 34. 18. 19. 18. 18. 20. 18. 23. 18. 18.\n",
            " 17. 19. 18. 18. 19. 19. 28. 19. 26. 19. 19. 20. 20. 19. 22. 19. 18. 28.\n",
            " 20. 44. 18.]\n",
            "Coluna B:  [1.68 1.94 1.7  1.76 1.73 1.66 1.8  1.6  1.67 1.73 1.73 1.61 1.69 1.71\n",
            " 1.78 1.68 1.7  1.64 1.64 1.8  1.75 1.78 1.75 1.69 1.78 1.7  1.75 1.64\n",
            " 1.75 1.67 1.7  1.8  1.63 1.89 1.71 1.65 1.72 1.65 1.75 1.7  1.81 1.65\n",
            " 1.52 1.79 1.79 1.75 1.8  1.75 1.73 1.7  1.78 1.77 1.53 1.54 1.83 1.85\n",
            " 1.6 ]\n",
            "Coluna C:  [ 80.   60.   80.   66.   87.5  58.   92.   57.   64.   57.   75.   59.\n",
            "  90.   67.   60.   72.   73.   86.   75.   95.   60.   75.   65.   60.\n",
            "  73.   63.   78.   64.   50.   61.   70.   60.   57.  110.   71.   65.\n",
            "  67.   58.   90.   64.   70.   43.   50.   78.   82.   61.   70.   70.\n",
            "  70.   50.   72.   55.   58.   50.   70.   90.   51. ]\n",
            "Colunas:  3\n"
          ],
          "name": "stdout"
        }
      ]
    },
    {
      "cell_type": "code",
      "metadata": {
        "id": "3EBQtFQ9txE6",
        "outputId": "f3477fcd-0b11-497c-ed7e-2e9aef983848",
        "colab": {
          "base_uri": "https://localhost:8080/",
          "height": 329
        }
      },
      "source": [
        "'Exercício 04:'\n",
        "import numpy as np\n",
        "\n",
        "def ler_arquivos(filename):\n",
        "    try:\n",
        "        fin = open(filename)\n",
        "    except: \n",
        "        print('Erro.')\n",
        "        return \n",
        "\n",
        "    x, y, z = np.loadtxt(filename, unpack='True')\n",
        "    print(f'Coluna A \\n {x:} \\n Coluna B \\n {y:} \\n Coluna C \\n {z:}')\n",
        "   \n",
        "def num_colunas(filename):\n",
        "    num_column = np.loadtxt(filename, dtype='str').shape[1]\n",
        "    print(\"Colunas: \", num_column)\n",
        "\n",
        "ler_arquivos('dados_alunos.txt')\n",
        "num_colunas('dados_alunos.txt')"
      ],
      "execution_count": 11,
      "outputs": [
        {
          "output_type": "stream",
          "text": [
            "Coluna A \n",
            " [18. 18. 18. 18. 19. 18. 21. 18. 18. 18. 17. 18. 18. 17. 19. 22. 18. 19.\n",
            " 18. 20. 17. 18. 18. 17. 19. 18. 34. 18. 19. 18. 18. 20. 18. 23. 18. 18.\n",
            " 17. 19. 18. 18. 19. 19. 28. 19. 26. 19. 19. 20. 20. 19. 22. 19. 18. 28.\n",
            " 20. 44. 18.] \n",
            " Coluna B \n",
            " [1.68 1.94 1.7  1.76 1.73 1.66 1.8  1.6  1.67 1.73 1.73 1.61 1.69 1.71\n",
            " 1.78 1.68 1.7  1.64 1.64 1.8  1.75 1.78 1.75 1.69 1.78 1.7  1.75 1.64\n",
            " 1.75 1.67 1.7  1.8  1.63 1.89 1.71 1.65 1.72 1.65 1.75 1.7  1.81 1.65\n",
            " 1.52 1.79 1.79 1.75 1.8  1.75 1.73 1.7  1.78 1.77 1.53 1.54 1.83 1.85\n",
            " 1.6 ] \n",
            " Coluna C \n",
            " [ 80.   60.   80.   66.   87.5  58.   92.   57.   64.   57.   75.   59.\n",
            "  90.   67.   60.   72.   73.   86.   75.   95.   60.   75.   65.   60.\n",
            "  73.   63.   78.   64.   50.   61.   70.   60.   57.  110.   71.   65.\n",
            "  67.   58.   90.   64.   70.   43.   50.   78.   82.   61.   70.   70.\n",
            "  70.   50.   72.   55.   58.   50.   70.   90.   51. ]\n",
            "Colunas:  3\n"
          ],
          "name": "stdout"
        }
      ]
    },
    {
      "cell_type": "markdown",
      "metadata": {
        "id": "aODyCagAQutw"
      },
      "source": [
        "Exercício 05"
      ]
    },
    {
      "cell_type": "code",
      "metadata": {
        "id": "zMY7opREQd2u",
        "outputId": "120053c2-84e8-42e9-a9c8-47d2a51ade8e",
        "colab": {
          "base_uri": "https://localhost:8080/",
          "height": 35
        }
      },
      "source": [
        "%%writefile leitura.py\n",
        "import numpy as np\n",
        "\n",
        "def ler_arquivos(filename):\n",
        "    try:\n",
        "        fin = open(filename)\n",
        "    except: \n",
        "        print('Erro.')\n",
        "        return \n",
        "\n",
        "    x, y, z = np.loadtxt(filename, unpack='True')\n",
        "    #print(f'Coluna A \\n {x:} \\n Coluna B \\n {y:} \\n Coluna C \\n {z:}')\n",
        "    return x, y, z\n",
        "\n",
        "def num_colunas(filename):\n",
        "    n_column = np.loadtxt(filename, dtype='str').shape[1]\n",
        "    return n_column\n",
        "\n",
        "if __name__=='__main__':\n",
        "    ler_arquivos('dados_alunos.txt')\n",
        "    num_colunas('dados_alunos.txt')\n",
        "    print(\"Número de colunas: \", num_colunas('dados_alunos.txt'))\n"
      ],
      "execution_count": 12,
      "outputs": [
        {
          "output_type": "stream",
          "text": [
            "Writing leitura.py\n"
          ],
          "name": "stdout"
        }
      ]
    },
    {
      "cell_type": "code",
      "metadata": {
        "id": "YR7OJdFdQsQa",
        "outputId": "4af89264-9b91-4538-82ea-bc30a16aea7c",
        "colab": {
          "base_uri": "https://localhost:8080/",
          "height": 381
        }
      },
      "source": [
        "%cat leitura.py"
      ],
      "execution_count": 13,
      "outputs": [
        {
          "output_type": "stream",
          "text": [
            "import numpy as np\n",
            "\n",
            "def ler_arquivos(filename):\n",
            "    try:\n",
            "        fin = open(filename)\n",
            "    except: \n",
            "        print('Erro.')\n",
            "        return \n",
            "\n",
            "    x, y, z = np.loadtxt(filename, unpack='True')\n",
            "    #print(f'Coluna A \\n {x:} \\n Coluna B \\n {y:} \\n Coluna C \\n {z:}')\n",
            "    return x, y, z\n",
            "\n",
            "def num_colunas(filename):\n",
            "    n_column = np.loadtxt(filename, dtype='str').shape[1]\n",
            "    return n_column\n",
            "\n",
            "if __name__=='__main__':\n",
            "    ler_arquivos('dados_alunos.txt')\n",
            "    num_colunas('dados_alunos.txt')\n",
            "    print(\"Número de colunas: \", num_colunas('dados_alunos.txt'))"
          ],
          "name": "stdout"
        }
      ]
    },
    {
      "cell_type": "markdown",
      "metadata": {
        "id": "BoOBlFzEVGDa"
      },
      "source": [
        "Exercício 06:"
      ]
    },
    {
      "cell_type": "code",
      "metadata": {
        "id": "wiuvM0cCVJjo",
        "outputId": "ffa7f4a0-05c3-4ef8-b61d-a5c08b9bb8e0",
        "colab": {
          "base_uri": "https://localhost:8080/",
          "height": 809
        }
      },
      "source": [
        "from leitura import*\n",
        "import numpy as np\n",
        "import matplotlib.pyplot as plt\n",
        "\n",
        "x, y, z = ler_arquivos('dados_alunos.txt')\n",
        "\n",
        "bins_x = np.linspace(15, 45, 30)\n",
        "bins_y = np.linspace(1.5, 2, 30)\n",
        "bins_z = np.linspace(40, 120, 30)\n",
        "\n",
        "plt.figure(1)\n",
        "plt.hist(x, bins_x, color = 'yellow', histtype='bar', rwidth=0.8)\n",
        "plt.grid(True)\n",
        "plt.title('Primeira Coluna')\n",
        "plt.figure(2)\n",
        "plt.hist(y, bins_y, color = 'red', histtype='bar', rwidth=0.8)\n",
        "plt.grid(True)\n",
        "plt.title('Segunda Coluna')\n",
        "plt.figure(3)\n",
        "plt.hist(z, bins_z, color = 'purple', histtype='bar', rwidth=0.8)\n",
        "plt.grid(True)\n",
        "plt.title('Terceira Coluna')\n",
        "plt.show()"
      ],
      "execution_count": 24,
      "outputs": [
        {
          "output_type": "display_data",
          "data": {
            "image/png": "[encoded data removed]",
            "text/plain": [
              "<Figure size 432x288 with 1 Axes>"
            ]
          },
          "metadata": {
            "tags": [],
            "needs_background": "light"
          }
        },
        {
          "output_type": "display_data",
          "data": {
            "image/png": "[encoded data removed]",
            "text/plain": [
              "<Figure size 432x288 with 1 Axes>"
            ]
          },
          "metadata": {
            "tags": [],
            "needs_background": "light"
          }
        },
        {
          "output_type": "display_data",
          "data": {
            "image/png": "[encoded data removed]",
            "text/plain": [
              "<Figure size 432x288 with 1 Axes>"
            ]
          },
          "metadata": {
            "tags": [],
            "needs_background": "light"
          }
        }
      ]
    },
    {
      "cell_type": "markdown",
      "metadata": {
        "id": "hJ7-Wgc4V3nR"
      },
      "source": [
        "Exercício 07:"
      ]
    },
    {
      "cell_type": "code",
      "metadata": {
        "id": "Mdfc0uanV3On",
        "outputId": "f710e12b-5d78-4959-cb8c-3255a21a29ad",
        "colab": {
          "base_uri": "https://localhost:8080/",
          "height": 1000
        }
      },
      "source": [
        "from leitura import*\n",
        "import numpy as np\n",
        "import matplotlib.pyplot as plt\n",
        "from scipy.stats import tstd\n",
        "\n",
        "def desvio(x):\n",
        "    print(\"Desvio padrao populacional:  \", np.std(x)) #Compute the standard deviation along the specified axis.\n",
        "    print(\"Desvio padrao amostral: \", tstd(x))        #Compute the trimmed sample standard deviation. \n",
        "    print(\"Media: \", np.mean(x))                      #Compute the arithmetic mean along the specified axis.\n",
        "    return np.std(x), tstd(x), np.mean(x)\n",
        "\n",
        "x, y, z = ler_arquivos('dados_alunos.txt')\n",
        "\n",
        "print(\"Figura 1: \")\n",
        "desvio(x)\n",
        "print(\"Figura 2: \")\n",
        "desvio(y)\n",
        "print(\"Figura 3: \")\n",
        "desvio(z)\n",
        "\n",
        "bins_x = np.linspace(15, 45, 30)\n",
        "bins_y = np.linspace(1.5, 2, 30)\n",
        "bins_z = np.linspace(40, 120, 30)\n",
        "\n",
        "plt.figure(1)\n",
        "plt.hist(x, bins_x, color = 'yellow', histtype='bar', rwidth=0.8)\n",
        "plt.grid(True)\n",
        "plt.title('Primeira Coluna')\n",
        "plt.figure(2)\n",
        "plt.hist(y, bins_y, color = 'green', histtype='bar', rwidth=0.8)\n",
        "plt.grid(True)\n",
        "plt.title('Segunda Coluna')\n",
        "plt.figure(3)\n",
        "plt.hist(z, bins_z, color = 'purple', histtype='bar', rwidth=0.8)\n",
        "plt.grid(True)\n",
        "plt.title('Terceira Coluna')\n",
        "plt.show()"
      ],
      "execution_count": 25,
      "outputs": [
        {
          "output_type": "stream",
          "text": [
            "Figura 1: \n",
            "Desvio padrao populacional:   4.413387953566483\n",
            "Desvio padrao amostral:  4.452618840226598\n",
            "Media:  19.82456140350877\n",
            "Figura 2: \n",
            "Desvio padrao populacional:   0.08189168502559452\n",
            "Desvio padrao amostral:  0.08261962543043672\n",
            "Media:  1.7175438596491226\n",
            "Figura 3: \n",
            "Desvio padrao populacional:   13.108855986056064\n",
            "Desvio padrao amostral:  13.225381441974152\n",
            "Media:  68.5\n"
          ],
          "name": "stdout"
        },
        {
          "output_type": "display_data",
          "data": {
            "image/png": "[encoded data removed]",
            "text/plain": [
              "<Figure size 432x288 with 1 Axes>"
            ]
          },
          "metadata": {
            "tags": [],
            "needs_background": "light"
          }
        },
        {
          "output_type": "display_data",
          "data": {
            "image/png": "[encoded data removed]",
            "text/plain": [
              "<Figure size 432x288 with 1 Axes>"
            ]
          },
          "metadata": {
            "tags": [],
            "needs_background": "light"
          }
        },
        {
          "output_type": "display_data",
          "data": {
            "image/png": "[encoded data removed]",
            "text/plain": [
              "<Figure size 432x288 with 1 Axes>"
            ]
          },
          "metadata": {
            "tags": [],
            "needs_background": "light"
          }
        }
      ]
    },
    {
      "cell_type": "markdown",
      "metadata": {
        "id": "snhyTs4rN_Kd"
      },
      "source": [
        "Arquivo dados_alunos.txt"
      ]
    },
    {
      "cell_type": "code",
      "metadata": {
        "id": "yd8PXxSYJAzx",
        "outputId": "c4307976-a14c-4809-ad62-a1a44fe42697",
        "colab": {
          "base_uri": "https://localhost:8080/",
          "height": 35
        }
      },
      "source": [
        "%%writefile dados_alunos.txt\n",
        "18\t1.68\t80\n",
        "18\t1.94\t60\n",
        "18\t1.7\t80\n",
        "18\t1.76\t66\n",
        "19\t1.73\t87.5\n",
        "18\t1.66\t58\n",
        "21\t1.8\t92\n",
        "18\t1.6\t57\n",
        "18\t1.67\t64\n",
        "18\t1.73\t57\n",
        "17\t1.73\t75\n",
        "18\t1.61\t59\n",
        "18\t1.69\t90\n",
        "17\t1.71\t67\n",
        "19\t1.78\t60\n",
        "22\t1.68\t72\n",
        "18\t1.7\t73\n",
        "19\t1.64\t86\n",
        "18\t1.64\t75\n",
        "20\t1.8\t95\n",
        "17\t1.75\t60\n",
        "18\t1.78\t75\n",
        "18\t1.75\t65\n",
        "17\t1.69\t60\n",
        "19\t1.78\t73\n",
        "18\t1.7\t63\n",
        "34\t1.75\t78\n",
        "18\t1.64\t64\n",
        "19\t1.75\t50\n",
        "18\t1.67\t61\n",
        "18\t1.7\t70\n",
        "20\t1.8\t60\n",
        "18\t1.63\t57\n",
        "23\t1.89\t110\n",
        "18\t1.71\t71\n",
        "18\t1.65\t65\n",
        "17\t1.72\t67\n",
        "19\t1.65\t58\n",
        "18\t1.75\t90\n",
        "18\t1.7\t64\n",
        "19\t1.81\t70\n",
        "19\t1.65\t43\n",
        "28\t1.52\t50\n",
        "19\t1.79\t78\n",
        "26\t1.79\t82\n",
        "19\t1.75\t61\n",
        "19\t1.8\t70\n",
        "20\t1.75\t70\n",
        "20\t1.73\t70\n",
        "19\t1.7\t50\n",
        "22\t1.78\t72\n",
        "19\t1.77\t55\n",
        "18\t1.53\t58\n",
        "28\t1.54\t50\n",
        "20\t1.83\t70\n",
        "44\t1.85\t90\n",
        "18\t1.6\t51"
      ],
      "execution_count": 4,
      "outputs": [
        {
          "output_type": "stream",
          "text": [
            "Overwriting dados_alunos.txt\n"
          ],
          "name": "stdout"
        }
      ]
    }
  ]
}