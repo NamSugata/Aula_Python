{
  "nbformat": 4,
  "nbformat_minor": 0,
  "metadata": {
    "kernelspec": {
      "display_name": "Python 3",
      "language": "python",
      "name": "python3"
    },
    "language_info": {
      "codemirror_mode": {
        "name": "ipython",
        "version": 3
      },
      "file_extension": ".py",
      "mimetype": "text/x-python",
      "name": "python",
      "nbconvert_exporter": "python",
      "pygments_lexer": "ipython3",
      "version": "3.6.4"
    },
    "colab": {
      "name": "Exercícios_aula11_1,2,3.ipynb",
      "provenance": [],
      "collapsed_sections": [
        "b1kSeXP37Nkd"
      ],
      "include_colab_link": true
    }
  },
  "cells": [
    {
      "cell_type": "markdown",
      "metadata": {
        "id": "view-in-github",
        "colab_type": "text"
      },
      "source": [
        "<a href=\"https://colab.research.google.com/github/NamSugata/Aula_Python/blob/master/Exerc%C3%ADcios_aula11_1%2C2%2C3.ipynb\" target=\"_parent\"><img src=\"https://colab.research.google.com/assets/colab-badge.svg\" alt=\"Open In Colab\"/></a>"
      ]
    },
    {
      "cell_type": "markdown",
      "metadata": {
        "id": "vOKNlvJg7NjD"
      },
      "source": [
        "# Dicionários\n",
        "\n",
        "Todos os tipos de **dados compostos** (***compounds***) que estudamos em detalhes até agora - strings, listas - são **tipos de sequência**, que usam inteiros como índices para acessar os valores que contêm dentro deles.\n",
        "\n",
        "Os **dicionários** são outro tipo de composto. Eles são o **tipo de mapeamento** integrado do Python. Eles mapeiam **chaves** (**keys**), que podem ser de qualquer **tipo imutável**, para valores, que podem ser de qualquer tipo (heterogêneos), assim como os elementos de uma lista ou tupla. \n",
        "\n",
        "\n",
        "**dicionários: chave -> valor**"
      ]
    },
    {
      "cell_type": "code",
      "metadata": {
        "id": "CVrqsQxN7NjE",
        "outputId": "66b95c16-36b7-4a13-f9ba-8f59585f27f8"
      },
      "source": [
        "tradutor = {}                # atribuição de criação de um dicionário vazio\n",
        "tradutor[\"one\"] = \"um\"       # atribuição do par key:value\n",
        "tradutor[\"two\"] = \"dois\"\n",
        "tradutor[\"three\"] = \"tres\"\n",
        "print(tradutor)"
      ],
      "execution_count": null,
      "outputs": [
        {
          "output_type": "stream",
          "text": [
            "{'one': 'um', 'two': 'dois', 'three': 'tres'}\n"
          ],
          "name": "stdout"
        }
      ]
    },
    {
      "cell_type": "markdown",
      "metadata": {
        "id": "yz7y6h397NjJ"
      },
      "source": [
        "Os pares de ***key:valor*** do dicionário são separados por vírgulas. Cada par contém uma ***key*** e um valor separados por dois pontos."
      ]
    },
    {
      "cell_type": "code",
      "metadata": {
        "id": "B_WbmsB57NjK",
        "outputId": "deb1c3a3-9981-4eef-cc7c-269ceb35ed21"
      },
      "source": [
        "frutas = {\"maçãs\": 430, \"bananas\": 312, \"laranjas\": 525, \"peras\": 217, \"goiabas\": 88, \"figos\": 108, \"jambos\": 249}\n",
        "print (frutas)"
      ],
      "execution_count": null,
      "outputs": [
        {
          "output_type": "stream",
          "text": [
            "{'maçãs': 430, 'bananas': 312, 'laranjas': 525, 'peras': 217, 'goiabas': 88, 'figos': 108, 'jambos': 249}\n"
          ],
          "name": "stdout"
        }
      ]
    },
    {
      "cell_type": "markdown",
      "metadata": {
        "id": "TvAys1QL7NjO"
      },
      "source": [
        "**Dicionários não são ordenados!!!!**"
      ]
    },
    {
      "cell_type": "code",
      "metadata": {
        "id": "js1S9P8R7NjO",
        "outputId": "faf691d3-e009-4d12-bdc5-77b07a467280"
      },
      "source": [
        "dict = {}\n",
        "for i in range(200):\n",
        "    dict[i] = \"valor\" + str(i)\n",
        "print (dict)"
      ],
      "execution_count": null,
      "outputs": [
        {
          "output_type": "stream",
          "text": [
            "{0: 'valor0', 1: 'valor1', 2: 'valor2', 3: 'valor3', 4: 'valor4', 5: 'valor5', 6: 'valor6', 7: 'valor7', 8: 'valor8', 9: 'valor9', 10: 'valor10', 11: 'valor11', 12: 'valor12', 13: 'valor13', 14: 'valor14', 15: 'valor15', 16: 'valor16', 17: 'valor17', 18: 'valor18', 19: 'valor19', 20: 'valor20', 21: 'valor21', 22: 'valor22', 23: 'valor23', 24: 'valor24', 25: 'valor25', 26: 'valor26', 27: 'valor27', 28: 'valor28', 29: 'valor29', 30: 'valor30', 31: 'valor31', 32: 'valor32', 33: 'valor33', 34: 'valor34', 35: 'valor35', 36: 'valor36', 37: 'valor37', 38: 'valor38', 39: 'valor39', 40: 'valor40', 41: 'valor41', 42: 'valor42', 43: 'valor43', 44: 'valor44', 45: 'valor45', 46: 'valor46', 47: 'valor47', 48: 'valor48', 49: 'valor49', 50: 'valor50', 51: 'valor51', 52: 'valor52', 53: 'valor53', 54: 'valor54', 55: 'valor55', 56: 'valor56', 57: 'valor57', 58: 'valor58', 59: 'valor59', 60: 'valor60', 61: 'valor61', 62: 'valor62', 63: 'valor63', 64: 'valor64', 65: 'valor65', 66: 'valor66', 67: 'valor67', 68: 'valor68', 69: 'valor69', 70: 'valor70', 71: 'valor71', 72: 'valor72', 73: 'valor73', 74: 'valor74', 75: 'valor75', 76: 'valor76', 77: 'valor77', 78: 'valor78', 79: 'valor79', 80: 'valor80', 81: 'valor81', 82: 'valor82', 83: 'valor83', 84: 'valor84', 85: 'valor85', 86: 'valor86', 87: 'valor87', 88: 'valor88', 89: 'valor89', 90: 'valor90', 91: 'valor91', 92: 'valor92', 93: 'valor93', 94: 'valor94', 95: 'valor95', 96: 'valor96', 97: 'valor97', 98: 'valor98', 99: 'valor99', 100: 'valor100', 101: 'valor101', 102: 'valor102', 103: 'valor103', 104: 'valor104', 105: 'valor105', 106: 'valor106', 107: 'valor107', 108: 'valor108', 109: 'valor109', 110: 'valor110', 111: 'valor111', 112: 'valor112', 113: 'valor113', 114: 'valor114', 115: 'valor115', 116: 'valor116', 117: 'valor117', 118: 'valor118', 119: 'valor119', 120: 'valor120', 121: 'valor121', 122: 'valor122', 123: 'valor123', 124: 'valor124', 125: 'valor125', 126: 'valor126', 127: 'valor127', 128: 'valor128', 129: 'valor129', 130: 'valor130', 131: 'valor131', 132: 'valor132', 133: 'valor133', 134: 'valor134', 135: 'valor135', 136: 'valor136', 137: 'valor137', 138: 'valor138', 139: 'valor139', 140: 'valor140', 141: 'valor141', 142: 'valor142', 143: 'valor143', 144: 'valor144', 145: 'valor145', 146: 'valor146', 147: 'valor147', 148: 'valor148', 149: 'valor149', 150: 'valor150', 151: 'valor151', 152: 'valor152', 153: 'valor153', 154: 'valor154', 155: 'valor155', 156: 'valor156', 157: 'valor157', 158: 'valor158', 159: 'valor159', 160: 'valor160', 161: 'valor161', 162: 'valor162', 163: 'valor163', 164: 'valor164', 165: 'valor165', 166: 'valor166', 167: 'valor167', 168: 'valor168', 169: 'valor169', 170: 'valor170', 171: 'valor171', 172: 'valor172', 173: 'valor173', 174: 'valor174', 175: 'valor175', 176: 'valor176', 177: 'valor177', 178: 'valor178', 179: 'valor179', 180: 'valor180', 181: 'valor181', 182: 'valor182', 183: 'valor183', 184: 'valor184', 185: 'valor185', 186: 'valor186', 187: 'valor187', 188: 'valor188', 189: 'valor189', 190: 'valor190', 191: 'valor191', 192: 'valor192', 193: 'valor193', 194: 'valor194', 195: 'valor195', 196: 'valor196', 197: 'valor197', 198: 'valor198', 199: 'valor199'}\n"
          ],
          "name": "stdout"
        }
      ]
    },
    {
      "cell_type": "code",
      "metadata": {
        "id": "N5roFdqe7NjS",
        "outputId": "613e1f27-d417-441d-ab18-3326e105fbd9"
      },
      "source": [
        "print(dict[48])"
      ],
      "execution_count": null,
      "outputs": [
        {
          "output_type": "stream",
          "text": [
            "valor48\n"
          ],
          "name": "stdout"
        }
      ]
    },
    {
      "cell_type": "code",
      "metadata": {
        "id": "WbjrPvCv7NjW",
        "outputId": "ed049dd2-3a0c-485f-d49d-0b04ead4cc9e"
      },
      "source": [
        "print(tradutor[\"two\"])"
      ],
      "execution_count": null,
      "outputs": [
        {
          "output_type": "stream",
          "text": [
            "dois\n"
          ],
          "name": "stdout"
        }
      ]
    },
    {
      "cell_type": "markdown",
      "metadata": {
        "id": "zldkRW8x7Nja"
      },
      "source": [
        "Até agora, os tipos de dados que tínhamos visto, eram sequências, como listas e strings. Porém **os dicionários não são sequências, sendo assim não podemos indexá-los**."
      ]
    },
    {
      "cell_type": "markdown",
      "metadata": {
        "id": "GzmfKnYZ7Nja"
      },
      "source": [
        "## Operações com dicionários\n",
        "\n",
        "A instrução ***del*** retira um par key:valor de um dicionário. Por exemplo, o dicionário a seguir contém os nomes de várias frutas e o número de cada fruta em estoque:"
      ]
    },
    {
      "cell_type": "code",
      "metadata": {
        "id": "78RhkpBl7Njb",
        "outputId": "9a5f1055-539d-43d4-c5c8-8295f371f5b5"
      },
      "source": [
        "frutas = {\"maçãs\": 430, \"bananas\": 312, \"laranjas\": 525, \"peras\": 217, \"goiabas\": 88, \"figos\": 108, \"jambos\": 249}\n",
        "print(frutas)"
      ],
      "execution_count": null,
      "outputs": [
        {
          "output_type": "stream",
          "text": [
            "{'maçãs': 430, 'bananas': 312, 'laranjas': 525, 'peras': 217, 'goiabas': 88, 'figos': 108, 'jambos': 249}\n"
          ],
          "name": "stdout"
        }
      ]
    },
    {
      "cell_type": "code",
      "metadata": {
        "id": "Ts_WdhJ57Nje",
        "outputId": "147f12be-7c15-4d35-ec41-a89602c407f4"
      },
      "source": [
        "del frutas[\"peras\"]\n",
        "print(frutas)"
      ],
      "execution_count": null,
      "outputs": [
        {
          "output_type": "stream",
          "text": [
            "{'maçãs': 430, 'bananas': 312, 'laranjas': 525, 'goiabas': 88, 'figos': 108, 'jambos': 249}\n"
          ],
          "name": "stdout"
        }
      ]
    },
    {
      "cell_type": "code",
      "metadata": {
        "id": "VAo432ix7Njh",
        "outputId": "b42cdefd-f927-4eef-f75d-416d3ef4a8d4"
      },
      "source": [
        "frutas[\"peras\"] = 0\n",
        "print(frutas)"
      ],
      "execution_count": null,
      "outputs": [
        {
          "output_type": "stream",
          "text": [
            "{'maçãs': 430, 'bananas': 312, 'laranjas': 525, 'goiabas': 88, 'figos': 108, 'jambos': 249, 'peras': 0}\n"
          ],
          "name": "stdout"
        }
      ]
    },
    {
      "cell_type": "code",
      "metadata": {
        "id": "xVxHAmYQ7Njk",
        "outputId": "c181ba1f-f610-46f6-e79f-fb6be1d2ff55"
      },
      "source": [
        "len(frutas)  #a função len também funciona com dicionários"
      ],
      "execution_count": null,
      "outputs": [
        {
          "output_type": "execute_result",
          "data": {
            "text/plain": [
              "7"
            ]
          },
          "metadata": {
            "tags": []
          },
          "execution_count": 29
        }
      ]
    },
    {
      "cell_type": "markdown",
      "metadata": {
        "id": "G8fdDD-l7Njm"
      },
      "source": [
        "## Métodos de dicionários\n",
        "\n",
        "Dicionários têm vários métodos úteis.\n",
        "\n",
        "Podemos visualizar as ***keys*** de um dado dicionário:"
      ]
    },
    {
      "cell_type": "code",
      "metadata": {
        "id": "ke0oIdSa7Njn",
        "outputId": "c324bcb7-df34-478d-c88d-4452ae8c8603"
      },
      "source": [
        "frutas.keys()"
      ],
      "execution_count": null,
      "outputs": [
        {
          "output_type": "execute_result",
          "data": {
            "text/plain": [
              "dict_keys(['maçãs', 'bananas', 'laranjas', 'goiabas', 'figos', 'jambos', 'peras'])"
            ]
          },
          "metadata": {
            "tags": []
          },
          "execution_count": 30
        }
      ]
    },
    {
      "cell_type": "code",
      "metadata": {
        "id": "msGo310a7Njq",
        "outputId": "a46f6b28-7d45-4162-eb95-62a236226ffe"
      },
      "source": [
        "for fruta in frutas.keys():\n",
        "    print(fruta, ' = ', frutas[fruta])"
      ],
      "execution_count": null,
      "outputs": [
        {
          "output_type": "stream",
          "text": [
            "maçãs  =  430\n",
            "bananas  =  312\n",
            "laranjas  =  525\n",
            "goiabas  =  88\n",
            "figos  =  108\n",
            "jambos  =  249\n",
            "peras  =  0\n"
          ],
          "name": "stdout"
        }
      ]
    },
    {
      "cell_type": "code",
      "metadata": {
        "id": "I0ijcTbV7Njs",
        "outputId": "425896bb-9165-47a4-fadf-29566c51de1a"
      },
      "source": [
        "print(frutas)"
      ],
      "execution_count": null,
      "outputs": [
        {
          "output_type": "stream",
          "text": [
            "{'maçãs': 430, 'bananas': 312, 'laranjas': 525, 'goiabas': 88, 'figos': 108, 'jambos': 249, 'peras': 0}\n"
          ],
          "name": "stdout"
        }
      ]
    },
    {
      "cell_type": "code",
      "metadata": {
        "id": "6h5fsv7l7Njv",
        "outputId": "171558af-ca51-471c-b17c-1cceb9c152cc"
      },
      "source": [
        "lista_frutas = list(frutas.keys())\n",
        "print(lista_frutas)"
      ],
      "execution_count": null,
      "outputs": [
        {
          "output_type": "stream",
          "text": [
            "['maçãs', 'bananas', 'laranjas', 'goiabas', 'figos', 'jambos', 'peras']\n"
          ],
          "name": "stdout"
        }
      ]
    },
    {
      "cell_type": "markdown",
      "metadata": {
        "id": "fxzgsBL57Nj1"
      },
      "source": [
        "É tão comum iterar sobre as ***keys*** de um dicionário que podemos omitir a chamada do método de ***keys*** no loop ***for***\n",
        "   * **iterar sobre um dicionário itera implicitamente sobre suas chaves:**"
      ]
    },
    {
      "cell_type": "code",
      "metadata": {
        "id": "FUF_efrT7Nj1",
        "outputId": "62946a1f-d8e8-403c-e23d-cea1beadf857"
      },
      "source": [
        "for fruta in frutas:\n",
        "    print(fruta, frutas[fruta])"
      ],
      "execution_count": null,
      "outputs": [
        {
          "output_type": "stream",
          "text": [
            "maçãs 430\n",
            "bananas 312\n",
            "laranjas 525\n",
            "goiabas 88\n",
            "figos 108\n",
            "jambos 249\n",
            "peras 0\n"
          ],
          "name": "stdout"
        }
      ]
    },
    {
      "cell_type": "code",
      "metadata": {
        "id": "SD4j2Khb7Nj4",
        "outputId": "43484f28-2932-438f-c5db-1911e9235987"
      },
      "source": [
        "keys_frutas = [fruta for fruta in frutas] # list comprehension\n",
        "print(keys_frutas)"
      ],
      "execution_count": null,
      "outputs": [
        {
          "output_type": "stream",
          "text": [
            "['maçãs', 'bananas', 'laranjas', 'goiabas', 'figos', 'jambos', 'peras']\n"
          ],
          "name": "stdout"
        }
      ]
    },
    {
      "cell_type": "code",
      "metadata": {
        "id": "62d7teE67Nj6",
        "outputId": "a649677d-ecb8-46be-ec6d-23bf2ffc1d8c"
      },
      "source": [
        "valores_frutas = [frutas[fruta] for fruta in frutas]\n",
        "print(valores_frutas)"
      ],
      "execution_count": null,
      "outputs": [
        {
          "output_type": "stream",
          "text": [
            "[430, 312, 525, 88, 108, 249, 0]\n"
          ],
          "name": "stdout"
        }
      ]
    },
    {
      "cell_type": "markdown",
      "metadata": {
        "id": "7iJiBb5E7Nj9"
      },
      "source": [
        "O método **values** nos possibilita acessar diretamente os valores do dicionário:"
      ]
    },
    {
      "cell_type": "code",
      "metadata": {
        "id": "6RN8RrE97Nj-",
        "outputId": "32139a3a-7e43-4904-cb23-def216639bed"
      },
      "source": [
        "valores = list(frutas.values())\n",
        "print(valores)"
      ],
      "execution_count": null,
      "outputs": [
        {
          "output_type": "stream",
          "text": [
            "[430, 312, 525, 88, 108, 249, 0]\n"
          ],
          "name": "stdout"
        }
      ]
    },
    {
      "cell_type": "markdown",
      "metadata": {
        "id": "tkG073LW7NkA"
      },
      "source": [
        "O método ***items*** retorna uma tupla para cada par (***key:valor***):"
      ]
    },
    {
      "cell_type": "code",
      "metadata": {
        "id": "OmOf_Dai7NkB",
        "outputId": "133fb388-9e53-42f9-d41c-f259f6631545"
      },
      "source": [
        "list(frutas.items())"
      ],
      "execution_count": null,
      "outputs": [
        {
          "output_type": "execute_result",
          "data": {
            "text/plain": [
              "[('maçãs', 430),\n",
              " ('bananas', 312),\n",
              " ('laranjas', 525),\n",
              " ('goiabas', 88),\n",
              " ('figos', 108),\n",
              " ('jambos', 249),\n",
              " ('peras', 0)]"
            ]
          },
          "metadata": {
            "tags": []
          },
          "execution_count": 51
        }
      ]
    },
    {
      "cell_type": "markdown",
      "metadata": {
        "id": "6AqtrM7j7NkD"
      },
      "source": [
        "As tuplas podem ser úteis para obter a ***key*** e o valor ao mesmo tempo durante a execução do loop:"
      ]
    },
    {
      "cell_type": "code",
      "metadata": {
        "id": "-pwLAgLa7NkE",
        "outputId": "a0e7b32d-93c6-42eb-d6f5-2e7263a649f4"
      },
      "source": [
        "for (k,v) in frutas.items():\n",
        "    print(\"Encontrei a key\",k,\"que mapeia para o valor\",v)"
      ],
      "execution_count": null,
      "outputs": [
        {
          "output_type": "stream",
          "text": [
            "Encontrei a key maçãs que mapeia para o valor 430\n",
            "Encontrei a key bananas que mapeia para o valor 312\n",
            "Encontrei a key laranjas que mapeia para o valor 525\n",
            "Encontrei a key goiabas que mapeia para o valor 88\n",
            "Encontrei a key figos que mapeia para o valor 108\n",
            "Encontrei a key jambos que mapeia para o valor 249\n",
            "Encontrei a key peras que mapeia para o valor 0\n"
          ],
          "name": "stdout"
        }
      ]
    },
    {
      "cell_type": "markdown",
      "metadata": {
        "id": "bUk5-UXJ7NkG"
      },
      "source": [
        "Os operadores ***in*** e ***not in*** podem testar se uma chave está no dicionário:"
      ]
    },
    {
      "cell_type": "code",
      "metadata": {
        "id": "qjROePKe7NkG",
        "outputId": "1f337e8d-a2cf-4780-9f8f-9cc517ed1a5d"
      },
      "source": [
        "\"bananas\" in frutas"
      ],
      "execution_count": null,
      "outputs": [
        {
          "output_type": "execute_result",
          "data": {
            "text/plain": [
              "True"
            ]
          },
          "metadata": {
            "tags": []
          },
          "execution_count": 53
        }
      ]
    },
    {
      "cell_type": "code",
      "metadata": {
        "id": "tEvsAVkI7NkJ",
        "outputId": "44a4426b-34bb-44c1-9062-f6764fd66444"
      },
      "source": [
        " \"jambos\" in frutas"
      ],
      "execution_count": null,
      "outputs": [
        {
          "output_type": "execute_result",
          "data": {
            "text/plain": [
              "True"
            ]
          },
          "metadata": {
            "tags": []
          },
          "execution_count": 54
        }
      ]
    },
    {
      "cell_type": "markdown",
      "metadata": {
        "id": "jYoSpTzx7NkN"
      },
      "source": [
        "Esse método pode ser bastante útil pois ao tentar acessar uma ***key*** não exitente, Python retorna um erro de execução:"
      ]
    },
    {
      "cell_type": "code",
      "metadata": {
        "id": "JF1ceabu7NkO",
        "outputId": "6bd9f706-dfd9-49c9-c6b5-15b3341dccfb"
      },
      "source": [
        "frutas[\"manga\"]"
      ],
      "execution_count": null,
      "outputs": [
        {
          "output_type": "error",
          "ename": "KeyError",
          "evalue": "'manga'",
          "traceback": [
            "\u001b[0;31m---------------------------------------------------------------------------\u001b[0m",
            "\u001b[0;31mKeyError\u001b[0m                                  Traceback (most recent call last)",
            "\u001b[0;32m<ipython-input-55-e214eded2c6d>\u001b[0m in \u001b[0;36m<module>\u001b[0;34m()\u001b[0m\n\u001b[0;32m----> 1\u001b[0;31m \u001b[0mfrutas\u001b[0m\u001b[0;34m[\u001b[0m\u001b[0;34m\"manga\"\u001b[0m\u001b[0;34m]\u001b[0m\u001b[0;34m\u001b[0m\u001b[0m\n\u001b[0m",
            "\u001b[0;31mKeyError\u001b[0m: 'manga'"
          ]
        }
      ]
    },
    {
      "cell_type": "markdown",
      "metadata": {
        "id": "mbw_Jma17NkR"
      },
      "source": [
        "O método ***get*** é também bem útil. Ele retorna o valor da ***key*** especificada e caso a ***key*** não exista, retorna o valor indicado como parâmetro:"
      ]
    },
    {
      "cell_type": "code",
      "metadata": {
        "id": "fD1zZaO17NkR",
        "outputId": "ddf2881f-7f4d-4e20-978c-5665ffc4d65b"
      },
      "source": [
        "matrix = {(0, 3): 1, (2, 1): 2, (4, 3): 3}\n",
        "matrix.get((4,3))"
      ],
      "execution_count": null,
      "outputs": [
        {
          "output_type": "execute_result",
          "data": {
            "text/plain": [
              "3"
            ]
          },
          "metadata": {
            "tags": []
          },
          "execution_count": 74
        }
      ]
    },
    {
      "cell_type": "code",
      "metadata": {
        "id": "RrnoVp6b7NkU",
        "outputId": "17683d69-c653-459e-875e-ed58afb16a0e"
      },
      "source": [
        "matrix.get((2,2))\n",
        "print(matrix)"
      ],
      "execution_count": null,
      "outputs": [
        {
          "output_type": "stream",
          "text": [
            "{(0, 3): 1, (2, 1): 2, (4, 3): 3}\n"
          ],
          "name": "stdout"
        }
      ]
    },
    {
      "cell_type": "code",
      "metadata": {
        "id": "PIkoDTI-7NkY",
        "outputId": "4934366f-bab5-447d-e5b9-0c83bd9768e3"
      },
      "source": [
        "matrix.get((2,2), 0)"
      ],
      "execution_count": null,
      "outputs": [
        {
          "output_type": "execute_result",
          "data": {
            "text/plain": [
              "0"
            ]
          },
          "metadata": {
            "tags": []
          },
          "execution_count": 81
        }
      ]
    },
    {
      "cell_type": "markdown",
      "metadata": {
        "id": "b1kSeXP37Nkd"
      },
      "source": [
        "## Aliasing e cópia\n",
        "\n",
        "Como no caso das listas, porque os **dicionários são mutáveis**, precisamos estar cientes do **aliasing**. \n",
        "\n",
        "Sempre que duas variáveis se referem ao mesmo objeto, as alterações em uma afetam a outra.\n",
        "\n",
        "Se quiser modificar um dicionário e manter uma cópia do original, use o método de **cópia**. \n",
        "\n",
        "Consideremos um dicionário chamado **opostos**, que contém pares de opostos:"
      ]
    },
    {
      "cell_type": "code",
      "metadata": {
        "id": "PalgqxJ17Nkd"
      },
      "source": [
        "opostos = {\"up\": \"down\", \"right\": \"wrong\", \"yes\": \"no\"}    # criação de um dicionário\n",
        "alias = opostos                                            # criação de um alias. o dicionário alias e opostos se referem ao mesmo objeto.\n",
        "copia = opostos.copy()                                     # cópia do dicionario opostos        "
      ],
      "execution_count": null,
      "outputs": []
    },
    {
      "cell_type": "markdown",
      "metadata": {
        "id": "ZU8QqGAA7Nkg"
      },
      "source": [
        "* Os dicionários ***alias*** e ***opostos*** se referem ao **mesmo objeto**; \n",
        "* O dicionário ***copia*** se refere a uma nova cópia do mesmo dicionário. \n",
        "* Se modificarmos o ***alias***, o dicionário ***opostos*** também será alterado:"
      ]
    },
    {
      "cell_type": "code",
      "metadata": {
        "id": "txSBGzJU7Nkg",
        "outputId": "febad8cb-c0b0-41e1-c65f-977d548d8331"
      },
      "source": [
        "print(alias)"
      ],
      "execution_count": null,
      "outputs": [
        {
          "output_type": "stream",
          "text": [
            "{'up': 'down', 'right': 'wrong', 'yes': 'no'}\n"
          ],
          "name": "stdout"
        }
      ]
    },
    {
      "cell_type": "code",
      "metadata": {
        "id": "mJPsCMol7Nko",
        "outputId": "e355e1b9-290f-4a60-e2b9-60504189b7ce"
      },
      "source": [
        "alias[\"right\"] = \"left\"\n",
        "print(opostos)"
      ],
      "execution_count": null,
      "outputs": [
        {
          "output_type": "stream",
          "text": [
            "{'up': 'down', 'right': 'left', 'yes': 'no'}\n"
          ],
          "name": "stdout"
        }
      ]
    },
    {
      "cell_type": "code",
      "metadata": {
        "id": "Y6S-lq4R7Nkr",
        "outputId": "c5d6a296-e788-4724-a43e-232720453991"
      },
      "source": [
        "print(copia)"
      ],
      "execution_count": null,
      "outputs": [
        {
          "output_type": "stream",
          "text": [
            "{'up': 'down', 'right': 'wrong', 'yes': 'no'}\n"
          ],
          "name": "stdout"
        }
      ]
    },
    {
      "cell_type": "code",
      "metadata": {
        "id": "phshME4m7Nku",
        "outputId": "d769c28c-e0ae-4bdc-e16e-6cb4b2f6db8f"
      },
      "source": [
        "copia[\"goodbye\"] = \"hello\"\n",
        "print(copia)"
      ],
      "execution_count": null,
      "outputs": [
        {
          "output_type": "stream",
          "text": [
            "{'up': 'down', 'right': 'wrong', 'yes': 'no', 'goodbye': 'hello'}\n"
          ],
          "name": "stdout"
        }
      ]
    },
    {
      "cell_type": "code",
      "metadata": {
        "id": "oyrpRao37Nkw"
      },
      "source": [
        ""
      ],
      "execution_count": null,
      "outputs": []
    },
    {
      "cell_type": "markdown",
      "metadata": {
        "id": "rDXrBE-d7Nky"
      },
      "source": [
        "## Exercícios:\n",
        "\n",
        "1) Utilizando dicionários e o método ***get***, contrua a seguinte matriz em python e acesse os valores de índices (0,3), (2,1), (4,3) e (2,2).\n",
        "![matrix](https://github.com/malbouis/Python_intro/blob/master/aulas_2019/pics/matrix_aula12.png?raw=1)"
      ]
    },
    {
      "cell_type": "markdown",
      "metadata": {
        "id": "gwRvP0RSIvHn"
      },
      "source": [
        "b) Faça o mesmo utilizando o pacote numpy."
      ]
    },
    {
      "cell_type": "markdown",
      "metadata": {
        "id": "Uq6sTtnq7Nky"
      },
      "source": [
        "2) Contagem de Letras. \n",
        "\n",
        "a) Utilizando dicionários, escreva uma função que tome como argumento uma palavra (string) e  retorne um dicionário que tem como ***key*** a letra da palavra e como valor o número de vezes que ela aparece na palavra. Tal dicionário é chamado de **tabela de frequência**.\n",
        "***Dica***: Utilize o método ***get*** dos dicionários.\n",
        "\n",
        "b) Utilizando os métodos sort() (referente a listas) e items() (referente a dicionários), imprima na tela uma lista ordenada alfabeticamente da tabela de frequência obtida no item a)."
      ]
    },
    {
      "cell_type": "markdown",
      "metadata": {
        "id": "XO898Foq7Nkz"
      },
      "source": [
        "3) Escreva um programa que leia uma string e retorne uma tabela das letras do alfabeto em ordem alfabética que ocorrem na string junto com o número de vezes que cada letra ocorre. Letras maiúsculas devem deve ser ignoradas. Um exemplo de saída do programa quando o usuário digita os dados “ThiS is String with Upper and lower case Letters”, seria o seguinte:\n",
        "\n",
        "a  2\n",
        "\n",
        "c  1\n",
        "\n",
        "\n",
        "d  1\n",
        "\n",
        "\n",
        "e  5\n",
        "\n",
        "\n",
        "g  1\n",
        "\n",
        "\n",
        "h  2\n",
        "\n",
        "\n",
        "i  4\n",
        "\n",
        "\n",
        "l  2\n",
        "\n",
        "\n",
        "n  2\n",
        "\n",
        "\n",
        "o  1\n",
        "\n",
        "\n",
        "p  2\n",
        "\n",
        "\n",
        "r  4\n",
        "\n",
        "\n",
        "s  5\n",
        "\n",
        "\n",
        "t  5\n",
        "\n",
        "\n",
        "u  1\n",
        "\n",
        "\n",
        "w  2"
      ]
    },
    {
      "cell_type": "code",
      "metadata": {
        "id": "125WPpu27Nkz",
        "outputId": "24d896e4-8384-4445-df8c-9334d76130cb",
        "colab": {
          "base_uri": "https://localhost:8080/"
        }
      },
      "source": [
        "'Exercício 01 (a):'\n",
        "\n",
        "matriz = {(0,0): 0, (0,1): 0, (0,2): 0, (0,3): 1, (0,4): 0, \n",
        "          (1,0): 0, (1,1): 0, (1,2): 0, (1,3): 0, (1,4): 0, \n",
        "          (2,0): 0, (2,1): 2, (2,2): 0, (2,3): 0, (2,4): 0, \n",
        "          (3,0): 0, (3,1): 0, (3,2): 0, (3,3): 0, (3,4): 0, \n",
        "          (4,0): 0, (4,1): 0, (4,2): 0, (4,3): 3, (4,4): 0}\n",
        "\n",
        "print(matriz)\n",
        "print(matriz.get((0,3)))\n",
        "print(matriz.get((2,1)))\n",
        "print(matriz.get((4,3)))\n",
        "print(matriz.get((2,2)))"
      ],
      "execution_count": 7,
      "outputs": [
        {
          "output_type": "stream",
          "text": [
            "{(0, 0): 0, (0, 1): 0, (0, 2): 0, (0, 3): 1, (0, 4): 0, (1, 0): 0, (1, 1): 0, (1, 2): 0, (1, 3): 0, (1, 4): 0, (2, 0): 0, (2, 1): 2, (2, 2): 0, (2, 3): 0, (2, 4): 0, (3, 0): 0, (3, 1): 0, (3, 2): 0, (3, 3): 0, (3, 4): 0, (4, 0): 0, (4, 1): 0, (4, 2): 0, (4, 3): 3, (4, 4): 0}\n",
            "1\n",
            "2\n",
            "3\n",
            "0\n"
          ],
          "name": "stdout"
        }
      ]
    },
    {
      "cell_type": "code",
      "metadata": {
        "id": "zcDGRYE1K7ON",
        "outputId": "f4998b05-4c84-4b49-e6b6-def136e67272",
        "colab": {
          "base_uri": "https://localhost:8080/"
        }
      },
      "source": [
        "'Exercícios 1(b):'\n",
        "import numpy as np\n",
        "a = np.array([[0, 0, 0, 1, 0], [0,0,0,0,0],[0,2,0,0,0], [0,0,0,0,0], [0,0,0,3,0]])\n",
        "print(a)"
      ],
      "execution_count": 5,
      "outputs": [
        {
          "output_type": "stream",
          "text": [
            "[[0 0 0 1 0]\n",
            " [0 0 0 0 0]\n",
            " [0 2 0 0 0]\n",
            " [0 0 0 0 0]\n",
            " [0 0 0 3 0]]\n"
          ],
          "name": "stdout"
        }
      ]
    },
    {
      "cell_type": "code",
      "metadata": {
        "id": "LRF_PR1TRj6v",
        "outputId": "154ec504-3f97-406a-84b8-b54138a0bcd0",
        "colab": {
          "base_uri": "https://localhost:8080/"
        }
      },
      "source": [
        "'Exercício 02:'\n",
        "\n",
        "teste = 'socorro'\n",
        "dicio={}\n",
        "\n",
        "for i in range(len(teste)):\n",
        "    dicio[teste[i]] = teste.count(teste[i])\n",
        "\n",
        "print(dicio)\n",
        "                                "
      ],
      "execution_count": 10,
      "outputs": [
        {
          "output_type": "stream",
          "text": [
            "{'s': 1, 'o': 3, 'c': 1, 'r': 2}\n"
          ],
          "name": "stdout"
        }
      ]
    },
    {
      "cell_type": "code",
      "metadata": {
        "id": "ulPzv5l2X0PG",
        "outputId": "f190c6be-f86a-463a-af5f-5e6f9ed8663a",
        "colab": {
          "base_uri": "https://localhost:8080/"
        }
      },
      "source": [
        "ordem = sorted(dicio)\n",
        "for i in ordem:\n",
        "  print(i,dicio[i])"
      ],
      "execution_count": 12,
      "outputs": [
        {
          "output_type": "stream",
          "text": [
            "c 1\n",
            "o 3\n",
            "r 2\n",
            "s 1\n"
          ],
          "name": "stdout"
        }
      ]
    },
    {
      "cell_type": "code",
      "metadata": {
        "id": "IUhAOtGTZL9m",
        "outputId": "b9cf43ff-69fc-4741-ca1b-2de75bddbd9b",
        "colab": {
          "base_uri": "https://localhost:8080/"
        }
      },
      "source": [
        "palavra = 'ThiS is String with Upper and lower case Letters'.lower().replace(' ','')\n",
        "dicio = {}\n",
        " \n",
        "for i in range(len(palavra)):\n",
        "    dicio[palavra[i]] = palavra.count(palavra[i])\n",
        " \n",
        "ordenado = sorted(dicio)\n",
        "\n",
        "for i in ordenado:\n",
        "  print(f'{i} = {dicio[i]}')"
      ],
      "execution_count": 13,
      "outputs": [
        {
          "output_type": "stream",
          "text": [
            "a = 2\n",
            "c = 1\n",
            "d = 1\n",
            "e = 5\n",
            "g = 1\n",
            "h = 2\n",
            "i = 4\n",
            "l = 2\n",
            "n = 2\n",
            "o = 1\n",
            "p = 2\n",
            "r = 4\n",
            "s = 5\n",
            "t = 5\n",
            "u = 1\n",
            "w = 2\n"
          ],
          "name": "stdout"
        }
      ]
    }
  ]
}