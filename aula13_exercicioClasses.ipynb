{
  "nbformat": 4,
  "nbformat_minor": 0,
  "metadata": {
    "kernelspec": {
      "display_name": "Python 3",
      "language": "python",
      "name": "python3"
    },
    "language_info": {
      "codemirror_mode": {
        "name": "ipython",
        "version": 3
      },
      "file_extension": ".py",
      "mimetype": "text/x-python",
      "name": "python",
      "nbconvert_exporter": "python",
      "pygments_lexer": "ipython3",
      "version": "3.6.4"
    },
    "colab": {
      "name": "aula13_exercicioClasses.ipynb",
      "provenance": [],
      "collapsed_sections": [],
      "include_colab_link": true
    }
  },
  "cells": [
    {
      "cell_type": "markdown",
      "metadata": {
        "id": "view-in-github",
        "colab_type": "text"
      },
      "source": [
        "<a href=\"https://colab.research.google.com/github/NamSugata/Aula_Python/blob/master/aula13_exercicioClasses.ipynb\" target=\"_parent\"><img src=\"https://colab.research.google.com/assets/colab-badge.svg\" alt=\"Open In Colab\"/></a>"
      ]
    },
    {
      "cell_type": "markdown",
      "metadata": {
        "id": "EwvQUSAVEnlD"
      },
      "source": [
        "# Exercícios da aula de hoje:\n",
        "\n",
        "5) Usando a classe **Ponto** criada na última aula escreva uma classe **Retangulo**. A definição da classe Retangulo é:\n",
        "**Dica**: use o método criado no exercício 1)."
      ]
    },
    {
      "cell_type": "code",
      "metadata": {
        "id": "TtQKKKt8EnlD"
      },
      "source": [
        "class Rectangle:\n",
        "    \"\"\"Representa um retangulo. \n",
        "\n",
        "    atributos: \n",
        "    - largura, do tipo float\n",
        "    - altura, do tipo float \n",
        "    - canto, do tipo Ponto.\n",
        "    \"\"\""
      ],
      "execution_count": null,
      "outputs": []
    },
    {
      "cell_type": "code",
      "metadata": {
        "id": "DpkFyT6kEnlD"
      },
      "source": [
        "'Exercício 05:'\n",
        "\n",
        "class Ponto:\n",
        "    \"\"\" Cria um novo Ponto, com coordenadas x, y \"\"\"\n",
        "\n",
        "    def __init__(self, x=0, y=0):\n",
        "        \"\"\" Inicializa em x, y o novo ponto criado pela classe \"\"\"\n",
        "        self.x = x\n",
        "        self.y = y\n",
        "\n",
        "    def distancia_da_origem(self):\n",
        "        \"\"\" Calcula a distânica da origem \"\"\"\n",
        "        return ((self.x ** 2) + (self.y ** 2)) ** 0.5\n",
        "    \n",
        "    def ponto_medio(self, alvo):\n",
        "        \"\"\" Retorna o ponto medio entre esse ponto e o alvo \"\"\"\n",
        "        mx = (self.x + alvo.x)/2\n",
        "        my = (self.y + alvo.y)/2\n",
        "        return Ponto(mx, my)\n",
        "    \n",
        "    def __str__(self):\n",
        "        return \"({0}, {1})\".format(self.x, self.y)\n",
        "    \n",
        "    def distancia_pontos(self, alvo):\n",
        "        \"\"\" Retorna o ponto medio entre esse ponto e o alvo \"\"\"\n",
        "        distancia = ((alvo.x - self.x)**2 + (alvo.y - self.y)**2)**0.5\n",
        "        return distancia\n",
        "    \n",
        "    def reflexao_x(self):\n",
        "        \"\"\"Retorna o ponto reflexão no eixo x\"\"\"\n",
        "        x = self.x\n",
        "        y = -self.y\n",
        "        return Ponto(x,y)\n",
        "    def inclinacao_origem(self):\n",
        "        \"\"\" Retorna a inclinação do ponto com relação a origem\"\"\"\n",
        "        if self.x == 0 and self.y ==0:\n",
        "            return print('Esse ponto não apresenta inclinção com relação a origem.\\nEle está na origem!!!!!.')\n",
        "        else:\n",
        "            return self.y / self.x    \n",
        "    def parametros_reta(self, alvo):\n",
        "        \"\"\" Retorna os coeficientes da reta\"\"\"\n",
        "        a = (alvo.y - self.y)/(alvo.x - self.x)\n",
        "        b = self.y - a*self.x\n",
        "        return (a,b)                     "
      ],
      "execution_count": null,
      "outputs": []
    },
    {
      "cell_type": "code",
      "metadata": {
        "id": "x388Sd65g0Jq"
      },
      "source": [
        "class Retangulo:\n",
        "    \"\"\" Classe que cria um retangulo \"\"\"\n",
        "\n",
        "    def __init__(self, pos, l, h):\n",
        "        \"\"\" Inicializa um retangulo num ponto, com largura l e altura h \"\"\"\n",
        "        self.canto = pos\n",
        "        self.largura = l\n",
        "        self.altura = h\n",
        "\n",
        "    def __str__(self):\n",
        "        return  '{}, {}, {}'.format(self.canto, self.largura, self.altura)"
      ],
      "execution_count": null,
      "outputs": []
    },
    {
      "cell_type": "code",
      "metadata": {
        "colab": {
          "base_uri": "https://localhost:8080/"
        },
        "id": "pjXFCoR_hUcu",
        "outputId": "56440045-6b3f-4e31-8e95-ae2e97cd8749"
      },
      "source": [
        "#Retangulo(Ponto(3,3),2,4)\n",
        "\n",
        "box = Retangulo(Ponto(0, 0), 400, 600) #retangulo com coord de canto, largura e altura.\n",
        "print(\"box: \", box)\n"
      ],
      "execution_count": null,
      "outputs": [
        {
          "output_type": "stream",
          "text": [
            "box:  (0, 0), 400, 600\n"
          ],
          "name": "stdout"
        }
      ]
    },
    {
      "cell_type": "markdown",
      "metadata": {
        "id": "reckpP0Pc45o"
      },
      "source": [
        "6) Escreva uma definição para uma classe chamada **Circulo** com atributos ***centro*** e ***raio***, em que ***centro*** é um objeto do tipo **Ponto** e ***raio*** é um número.\n",
        "   * Instancie um objeto **Circulo** que represente um círculo com seu centro em (150, 100) e raio 75 e imprima na tela as coordenadas (x,y) do centro do círculo.\n",
        "   * Escreva uma função chamada ponto_no_circulo que use um Circulo e um Ponto e retorne True se o Ponto estiver dentro do círculo ou no limite do mesmo."
      ]
    },
    {
      "cell_type": "code",
      "metadata": {
        "id": "fcjge47888w3"
      },
      "source": [
        "'Exercício 06:'\n",
        "\n",
        "class Circulo:\n",
        "    \"\"\" A class to manufacture rectangle objects \"\"\"\n",
        "\n",
        "    def __init__(self, c, r):\n",
        "        \"\"\" Initialize rectangle at pos, with width w, height h \"\"\"\n",
        "        self.centro = c\n",
        "        self.raio = r\n",
        "\n",
        "    def __str__(self):\n",
        "        return  '{}, {}.'.format(self.centro, self.raio)\n",
        "    \n",
        "    def ponto_no_circulo(ponto, circulo):\n",
        "        \"\"\"Checks whether a point lies inside a circle (or on the boundary).\n",
        "        point: Point object\n",
        "        circle: Circle object\n",
        "        \"\"\"\n",
        "        d = distancia_pontos(ponto, circulo.centro)\n",
        "        if dist <= self.raio:\n",
        "            return print('Este ponto está dentro.')\n",
        "        else:\n",
        "            return print('Este ponto está fora.') "
      ],
      "execution_count": 1,
      "outputs": []
    },
    {
      "cell_type": "code",
      "metadata": {
        "colab": {
          "base_uri": "https://localhost:8080/"
        },
        "id": "m0E747M0TAmJ",
        "outputId": "a9c6df79-be3b-4f41-e255-b41c7cb2910e"
      },
      "source": [
        "circulo = Circulo(Ponto(150,100),75)\n",
        "print(circulo)"
      ],
      "execution_count": null,
      "outputs": [
        {
          "output_type": "stream",
          "text": [
            "(150, 100), 75.\n"
          ],
          "name": "stdout"
        }
      ]
    },
    {
      "cell_type": "markdown",
      "metadata": {
        "id": "LQxPZpjXdYjL"
      },
      "source": [
        "7) Escreva uma função chamada **desenhar_ret** que use um objeto ***Turtle*** e um ***Retangulo*** e use o Turtle para desenhar o retângulo."
      ]
    },
    {
      "cell_type": "code",
      "metadata": {
        "id": "wLVTDQMLUIy3"
      },
      "source": [
        "!pip3 install ColabTurtle\n",
        "import ColabTurtle"
      ],
      "execution_count": null,
      "outputs": []
    },
    {
      "cell_type": "code",
      "metadata": {
        "id": "0-rsL-iKUSpN"
      },
      "source": [
        "import ColabTurtle.Turtle as joana # Cria uma tartaruga, atribui a joana\n",
        "joana.initializeTurtle()"
      ],
      "execution_count": null,
      "outputs": []
    },
    {
      "cell_type": "code",
      "metadata": {
        "id": "sOXIYj98l72W"
      },
      "source": [
        "import turtle\n",
        "class Ponto:\n",
        "    \"\"\" Cria um novo Ponto, com coordenadas x, y \"\"\"\n",
        "\n",
        "    def __init__(self, x=0, y=0):\n",
        "        \"\"\" Inicializa em x, y o novo ponto criado pela classe \"\"\"\n",
        "        self.x = x\n",
        "        self.y = y\n",
        "\n",
        "    def distancia_da_origem(self):\n",
        "        \"\"\" Calcula a distânica da origem \"\"\"\n",
        "        return ((self.x ** 2) + (self.y ** 2)) ** 0.5\n",
        "\n",
        "    def ponto_medio(self, alvo):\n",
        "        \"\"\" Retorna o ponto medio entre esse ponto e o alvo \"\"\"\n",
        "        mx = (self.x + alvo.x) / 2\n",
        "        my = (self.y + alvo.y) / 2\n",
        "        return Ponto(mx, my)\n",
        "\n",
        "    def __str__(self):\n",
        "        return \"({0}, {1})\".format(self.x, self.y)\n",
        "\n",
        "    def distancia_pontos(self, alvo):\n",
        "        \"\"\" Retorna o ponto medio entre esse ponto e o alvo \"\"\"\n",
        "        distancia = ((alvo.x - self.x) ** 2 + (alvo.y - self.y) ** 2) ** 0.5\n",
        "        return distancia\n",
        "\n",
        "    def reflexao_x(self):\n",
        "        \"\"\"Retorna o ponto reflexão no eixo x\"\"\"\n",
        "        x = self.x\n",
        "        y = -self.y\n",
        "        return Ponto(x, y)\n",
        "\n",
        "    def inclinacao_origem(self):\n",
        "        \"\"\" Retorna a inclinação do ponto com relação a origem\"\"\"\n",
        "        if self.x == 0 and self.y == 0:\n",
        "            return print('Esse ponto não apresenta inclinção com relação a origem.\\nEle está na origem!!!!!.')\n",
        "        else:\n",
        "            return self.y / self.x\n",
        "\n",
        "    def parametros_reta(self, alvo):\n",
        "        \"\"\" Retorna os coeficientes da reta\"\"\"\n",
        "        a = (alvo.y - self.y) / (alvo.x - self.x)\n",
        "        b = self.y - a * self.x\n",
        "        return (a, b)\n",
        "\n",
        "class Retangulo:\n",
        "    \"\"\" Classe que cria um retangulo \"\"\"\n",
        "\n",
        "    def __init__(self, pos, l, h):\n",
        "        \"\"\" Inicializa um retangulo num ponto, com largura l e altura h \"\"\"\n",
        "        self.canto = pos\n",
        "        self.largura = l\n",
        "        self.altura = h\n",
        "\n",
        "    def __str__(self):\n",
        "        return  '{}, {}, {}'.format(self.canto, self.largura, self.altura)\n",
        "\n",
        "\n",
        "\n",
        "def desenhar_ret(t, r):\n",
        "    t.forward(r.largura)\n",
        "    t.left(90)\n",
        "    t.forward(r.altura)\n",
        "    t.left(90)\n",
        "    t.forward(r.largura)\n",
        "    t.left(90)\n",
        "    t.forward(r.altura)\n",
        "\n",
        "janela = turtle.Screen()      # Configura a janela e seus atribtos\n",
        "janela.bgcolor(\"light blue\")       # Define a cor do fundo da janela\n",
        "janela.title(\"Retângulo\")     # Define o título da janela\n",
        "\n",
        "joana = turtle.Turtle()\n",
        "joana.shape(\"turtle\")\n",
        "joana.pensize(3)\n",
        "joana.speed(\"fastest\")\n",
        "\n",
        "\n",
        "r = Retangulo((0,0), 100, 50)\n",
        "#p = Ponto(40,40)\n",
        "desenhar_ret(joana, r)\n",
        "turtle.done()"
      ],
      "execution_count": null,
      "outputs": []
    },
    {
      "cell_type": "markdown",
      "metadata": {
        "id": "1CC5FSUgdfiG"
      },
      "source": [
        "8) Escreva uma função chamada desenhar_circulo que use uma ***Turtle*** e um ***Circulo*** e desenhe o ***Circulo***."
      ]
    },
    {
      "cell_type": "code",
      "metadata": {
        "id": "1UuUBlzxmESa"
      },
      "source": [
        "Class Ponto:\n",
        "    \"\"\" Cria um novo Ponto, com coordenadas x, y \"\"\"\n",
        "\n",
        "    def __init__(self, x=0, y=0):\n",
        "        \"\"\" Inicializa em x, y o novo ponto criado pela classe \"\"\"\n",
        "        self.x = x\n",
        "        self.y = y\n",
        "\n",
        "    def distancia_da_origem(self):\n",
        "        \"\"\" Calcula a distânica da origem \"\"\"\n",
        "        return ((self.x ** 2) + (self.y ** 2)) ** 0.5\n",
        "\n",
        "    def ponto_medio(self, alvo):\n",
        "        \"\"\" Retorna o ponto medio entre esse ponto e o alvo \"\"\"\n",
        "        mx = (self.x + alvo.x) / 2\n",
        "        my = (self.y + alvo.y) / 2\n",
        "        return Ponto(mx, my)\n",
        "\n",
        "    def __str__(self):\n",
        "        return \"({0}, {1})\".format(self.x, self.y)\n",
        "\n",
        "    def distancia_pontos(self, alvo):\n",
        "        \"\"\" Retorna o ponto medio entre esse ponto e o alvo \"\"\"\n",
        "        distancia = ((alvo.x - self.x) ** 2 + (alvo.y - self.y) ** 2) ** 0.5\n",
        "        return distancia\n",
        "\n",
        "    def reflexao_x(self):\n",
        "        \"\"\"Retorna o ponto reflexão no eixo x\"\"\"\n",
        "        x = self.x\n",
        "        y = -self.y\n",
        "        return Ponto(x, y)\n",
        "\n",
        "    def inclinacao_origem(self):\n",
        "        \"\"\" Retorna a inclinação do ponto com relação a origem\"\"\"\n",
        "        if self.x == 0 and self.y == 0:\n",
        "            return print('Esse ponto não apresenta inclinção com relação a origem.\\nEle está na origem!!!!!.')\n",
        "        else:\n",
        "            return self.y / self.x\n",
        "\n",
        "    def parametros_reta(self, alvo):\n",
        "        \"\"\" Retorna os coeficientes da reta\"\"\"\n",
        "        a = (alvo.y - self.y) / (alvo.x - self.x)\n",
        "        b = self.y - a * self.x\n",
        "        return (a, b)\n",
        "\n",
        "class Retangulo:\n",
        "    \"\"\" Classe que cria um retangulo \"\"\"\n",
        "\n",
        "    def __init__(self, pos, l, h):\n",
        "        \"\"\" Inicializa um retangulo num ponto, com largura l e altura h \"\"\"\n",
        "        self.canto = pos\n",
        "        self.largura = l\n",
        "        self.altura = h\n",
        "\n",
        "    def __str__(self):\n",
        "        return  '{}, {}, {}'.format(self.canto, self.largura, self.altura)\n",
        "\n",
        "\n",
        "class Circulo:\n",
        "    \"\"\" A class to manufacture rectangle objects \"\"\"\n",
        "\n",
        "    def __init__(self, raio, centro = Ponto()):\n",
        "        \"\"\" Initialize rectangle at pos, with width w, height h \"\"\"\n",
        "        self.centro = centro\n",
        "        self.raio = raio\n",
        "\n",
        "    def __str__(self):\n",
        "        return '{}, {}.'.format(self.centro, self.raio)\n",
        "\n",
        "import turtle\n",
        "\n",
        "def desenhar_circulo(t, circ):\n",
        "    t.pu()\n",
        "    # t.setx(circ.p.x)    # Define a coordenada x do cenro do circulo\n",
        "    # t.sety(circ.p.y)    # Define a coordenada y do contro do circulo\n",
        "    #t.goto(circ.centro.x, circ.centro.y)\n",
        "    t.fd(circ.raio)        # Anda o valor do raio\n",
        "    t.lt(90)\n",
        "    t.pd()\n",
        "    t.circle(circ.raio)    # Desenha o círculo\n",
        "\n",
        "\n",
        "janela = turtle.Screen()      # Configura a janela e seus atribtos\n",
        "janela.bgcolor(\"light blue\")       # Define a cor do fundo da janela\n",
        "janela.title(\"Círculo\")     # Define o título da janela\n",
        "\n",
        "joana = turtle.Turtle()\n",
        "joana.shape(\"turtle\")\n",
        "joana.pensize(2)\n",
        "#bob.speed(\"fastest\")\n",
        "p = Ponto(4,4)\n",
        "circ = Circulo(50,(0,0))\n",
        "\n",
        "desenhar_circulo(joana, circ)\n",
        "\n",
        "turtle.done()"
      ],
      "execution_count": null,
      "outputs": []
    }
  ]
}