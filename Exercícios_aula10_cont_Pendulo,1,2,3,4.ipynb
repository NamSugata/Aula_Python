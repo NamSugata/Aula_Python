{
  "nbformat": 4,
  "nbformat_minor": 0,
  "metadata": {
    "kernelspec": {
      "display_name": "Python 3",
      "language": "python",
      "name": "python3"
    },
    "language_info": {
      "codemirror_mode": {
        "name": "ipython",
        "version": 3
      },
      "file_extension": ".py",
      "mimetype": "text/x-python",
      "name": "python",
      "nbconvert_exporter": "python",
      "pygments_lexer": "ipython3",
      "version": "3.7.0"
    },
    "colab": {
      "name": "Exercícios_aula10_cont_Pendulo,1,2,3,4.ipynb",
      "provenance": [],
      "collapsed_sections": [],
      "include_colab_link": true
    }
  },
  "cells": [
    {
      "cell_type": "markdown",
      "metadata": {
        "id": "view-in-github",
        "colab_type": "text"
      },
      "source": [
        "<a href=\"https://colab.research.google.com/github/NamSugata/Aula_Python/blob/master/Exerc%C3%ADcios_aula10_cont_Pendulo%2C1%2C2%2C3%2C4.ipynb\" target=\"_parent\"><img src=\"https://colab.research.google.com/assets/colab-badge.svg\" alt=\"Open In Colab\"/></a>"
      ]
    },
    {
      "cell_type": "markdown",
      "metadata": {
        "id": "E6VwkvIQhF7T"
      },
      "source": [
        "### O pêndulo simples\n",
        "\n",
        "No caso da **aceleração** assim como no caso do **pêndulo simples**, a equação diferencial é de segundo grau. \n",
        "\n",
        "Nesse caso é necessário na iteração resolver para $v$ e para $x$. \n",
        "\n",
        "A expressão para a aceleração pode ser uma função da posição, do tempo e também da velocidade, $a(v,x,t)$.\n",
        "\n",
        "$ v(t_i)= v_{i} = v_{i-1} + a(v_{i-1},x_{i-1},t_{i-1}) * h $\n",
        "\n",
        "e\n",
        "\n",
        "$ x(t_i)= x_{i} = x_{i-1} + v_{i-1} *h $\n",
        "<br>\n",
        "<br>\n",
        "\n",
        "A escolha do valor da velocidade pode ser:\n",
        "* a velocidade no ponto anterior (**método de Euler**);\n",
        "* a velocidade atualizada;\n",
        "* uma média das duas (método do ponto médio). "
      ]
    },
    {
      "cell_type": "markdown",
      "metadata": {
        "id": "oFqx0jRchF7T"
      },
      "source": [
        "### Exercícios extras de resolução numérica de equações  diferenciais (da aula passada)\n",
        "\n",
        "1. Imagine que tem um/a maratonista treinando, que num trecho de $5 km$ tem velocidade quase constante de $12 km/h$. Produza uma lista distância percorrida em intervalos de 1 minuto.\n",
        "\n",
        "1. O/A mesmo/a atleta no seguinte trecho acelera por $200$ metros até chegar em $15 km/h$ por $2 km$. Queremos obter uma tabela ou gráfico da distância percorrida en função do tempo e o tempo total para chegar em $7 km$, faça isto utilizando listas.\n",
        "\n",
        "1. Considere um pêndulo simples num plano. O comprimento da linha é $1$ metro, a massa é $0,2 kg$ e a aceleração de gravidade $9,8 m/s^2$. Faça um gráfico ou crie uma tabela para a posição em coordenadas cartesianas em função do tempo, utilizando listas.\n",
        "\n",
        "1. Resolva o pêndulo simples com coordenadas polares (ao invés de coordenadas cartesianas).\n",
        "\n",
        "- (opcional) Pesquise sobre o pacote numpy e os objetos desse pacote chamados array, tente utilizálos ao invés de listas para resolver os exercícios.\n",
        "\n",
        "- (opcional) Pesquise sobre o pacote scipy e seu modulo integrate para resolver integrações ou equações diferenciais numéricamente.\n"
      ]
    },
    {
      "cell_type": "code",
      "metadata": {
        "id": "7zZmMxCrISyT"
      },
      "source": [
        "\"Exercício 01:\"\n",
        "import math\n",
        "import matplotlib.pyplot as plt\n",
        "\n",
        "v=12\n",
        "\n",
        "t=[i for i in range(0,26)]  #t0 = 0\n",
        "y=[]\n",
        "y.append(0)      #y_0 = 0\n",
        "\n",
        "dt = t[1]-t[0] #sabemos que nesse caso o intervalo é 1 pela construção da lista t, mas é melhor colocar para ser geral\n",
        "\n",
        "for i in range(1,len(t)) :\n",
        "    yi = y[i-1]  + v/60 * dt\n",
        "    y.append(yi)\n",
        "print(y)\n",
        "\n",
        "plt.plot(t,y)\n",
        "\n"
      ],
      "execution_count": null,
      "outputs": []
    },
    {
      "cell_type": "code",
      "metadata": {
        "id": "8riolqAZeuVe"
      },
      "source": [
        "\"Exercício 02:\"\n",
        "v=12\n",
        "vf=15\n",
        "\n",
        "t=[i for i in range(0,26)]  #t0 = 0\n",
        "y=[]\n",
        "y.append(0)      #y_0 = 0\n",
        "\n",
        "tf=[i for i in range(0,10)]  #t0 = 0\n",
        "\n",
        "dt = t[1]-t[0] #intervalo é 1 pela construção da lista t.\n",
        "\n",
        "for i in range(1,len(t)) :\n",
        "    yi = y[i-1]  + v/60 * dt \n",
        "    y.append(yi)\n",
        "for i in range(1,len(tf)-1) :\n",
        "    yi = yi + vf/60 * dt \n",
        "    y.append(yi)\n",
        "\n",
        "print(y)\n"
      ],
      "execution_count": null,
      "outputs": []
    },
    {
      "cell_type": "code",
      "metadata": {
        "id": "ZPY8RTdptUpV"
      },
      "source": [
        "\"Exercício 03:\"\n",
        "def y2_prime(y2, y1, t):\n",
        "  return y2 - 3*y1 + t\n",
        "\n",
        "def y1_prime(y2):\n",
        "  return y2\n",
        "\n",
        "dt = 0.01\n",
        "t = np.arange(0,4, dt)\n",
        "\n",
        "y1_0 = 1           # condição de contorno\n",
        "y1=[]\n",
        "y1.append(y1_0)\n",
        "\n",
        "y2_0 = -2          # condição de contorno\n",
        "y2=[]\n",
        "y2.append(y2_0)\n",
        "\n",
        "for i in range(len(t)-1):\n",
        "  #y1i = y1[i-1] + y1_prime(y2[i-1])*dt\n",
        "  #y2i = y2[i-1] + y2_prime(y2[i-1], y1[i-1], t[i-1])*dt\n",
        "  y1i = y1[i] + y1_prime(y2[i])*dt\n",
        "  y2i = y2[i] + y2_prime(y2[i], y1[i], t[i])*dt\n",
        "\n",
        "  y1.append(y1i)\n",
        "  y2.append(y2i)\n",
        "\n",
        "print(y1[-1])\n",
        "print(y2[-1])\n",
        "\n",
        "plt.plot(t, y1)"
      ],
      "execution_count": null,
      "outputs": []
    },
    {
      "cell_type": "code",
      "metadata": {
        "id": "_YljTaYOq6gX",
        "outputId": "eb1b22e8-e3bd-4668-c2bb-6b193106500e",
        "colab": {
          "base_uri": "https://localhost:8080/",
          "height": 607
        }
      },
      "source": [
        "'Exercício 04:'\n",
        "#importando os módulos\n",
        "import numpy as np\n",
        "from numpy import sin, cos\n",
        "from scipy.integrate import odeint\n",
        "from matplotlib import pyplot as plt\n",
        "\n",
        "#definindo as equações\n",
        "def equations(y0,t):\n",
        "    theta, x = y0\n",
        "    f = [x, -(g/l) * sin(theta)]\n",
        "    return f\n",
        "\n",
        "def plotar_resultados(tempo,theta1, theta2):\n",
        "    plt.plot(tempo, theta1[:,0])\n",
        "    plt.plot(tempo, theta2)\n",
        "\n",
        "    plt.title('Movimento pendular: ')\n",
        "    plt.xlabel('tempo (s)')\n",
        "    plt.ylabel('ângulo em (radianos)')\n",
        "    plt.grid(True)\n",
        "    plt.legend('não-linear', 'linear', loc='lower right')\n",
        "    plt.show()\n",
        "\n",
        "#parâmetros\n",
        "g = 9.8\n",
        "l = 1.0\n",
        "tempo = np.arange(0,10,0.025)\n",
        "\n",
        "#condições iniciais\n",
        "angulo_inicial = 70.0 #graus\n",
        "theta0 = np.radians(angulo_inicial)\n",
        "x0 = np.radians(0.0)\n",
        "\n",
        "#encontrando as soluções possíveis\n",
        "theta1 = odeint(equations,[theta0,x0], tempo) #não-linear\n",
        "w = np.sqrt(g/l)\n",
        "theta2 = [theta0 * cos(w*t)for t in tempo]\n",
        "\n",
        "#plotar os resultados\n",
        "plotar_resultados(tempo, theta1, theta2)"
      ],
      "execution_count": 1,
      "outputs": [
        {
          "output_type": "stream",
          "text": [
            "/usr/local/lib/python3.6/dist-packages/ipykernel_launcher.py:22: UserWarning: Legend does not support 'n' instances.\n",
            "A proxy artist may be used instead.\n",
            "See: http://matplotlib.org/users/legend_guide.html#creating-artists-specifically-for-adding-to-the-legend-aka-proxy-artists\n",
            "/usr/local/lib/python3.6/dist-packages/ipykernel_launcher.py:22: UserWarning: Legend does not support 'ã' instances.\n",
            "A proxy artist may be used instead.\n",
            "See: http://matplotlib.org/users/legend_guide.html#creating-artists-specifically-for-adding-to-the-legend-aka-proxy-artists\n",
            "/usr/local/lib/python3.6/dist-packages/ipykernel_launcher.py:22: UserWarning: Legend does not support 'o' instances.\n",
            "A proxy artist may be used instead.\n",
            "See: http://matplotlib.org/users/legend_guide.html#creating-artists-specifically-for-adding-to-the-legend-aka-proxy-artists\n",
            "/usr/local/lib/python3.6/dist-packages/ipykernel_launcher.py:22: UserWarning: Legend does not support '-' instances.\n",
            "A proxy artist may be used instead.\n",
            "See: http://matplotlib.org/users/legend_guide.html#creating-artists-specifically-for-adding-to-the-legend-aka-proxy-artists\n",
            "/usr/local/lib/python3.6/dist-packages/ipykernel_launcher.py:22: UserWarning: Legend does not support 'l' instances.\n",
            "A proxy artist may be used instead.\n",
            "See: http://matplotlib.org/users/legend_guide.html#creating-artists-specifically-for-adding-to-the-legend-aka-proxy-artists\n",
            "/usr/local/lib/python3.6/dist-packages/ipykernel_launcher.py:22: UserWarning: Legend does not support 'i' instances.\n",
            "A proxy artist may be used instead.\n",
            "See: http://matplotlib.org/users/legend_guide.html#creating-artists-specifically-for-adding-to-the-legend-aka-proxy-artists\n"
          ],
          "name": "stderr"
        },
        {
          "output_type": "display_data",
          "data": {
            "image/png": "[encoded data removed]",
            "text/plain": [
              "<Figure size 432x288 with 1 Axes>"
            ]
          },
          "metadata": {
            "tags": [],
            "needs_background": "light"
          }
        }
      ]
    },
    {
      "cell_type": "code",
      "metadata": {
        "id": "w4FNTK9G6NZV",
        "outputId": "98347b8b-25fb-40f1-e767-2d306c8b614f",
        "colab": {
          "base_uri": "https://localhost:8080/",
          "height": 235
        }
      },
      "source": [
        "\"teste:\"\n",
        "v = 20\n",
        "a=1\n",
        "def a(v,x,t):\n",
        "    return v/t\n",
        "\n",
        "def y2_prime(a,v,t):\n",
        "    return v + a*v * dt\n",
        "\n",
        "def y1_prime(y2,t):\n",
        "    return y1 + (v * t)\n",
        "\n",
        "dt = 0.01\n",
        "t = np.arange(0,4, dt)\n",
        "\n",
        "y1_0 = 1           # condição de contorno\n",
        "y1=[]\n",
        "y1.append(y1_0)\n",
        "\n",
        "y2_0 = 20          # condição de contorno\n",
        "y2=[]\n",
        "y2.append(y2_0)\n",
        "\n",
        "for i in range(len(t)-1):\n",
        "  y1i = y1[i] + y1_prime(y2[i],t[i])*dt\n",
        "  y2i = y2[i] + y2_prime(y2[i], y1[i], t[i])*dt\n",
        "\n",
        "  y1.append(y1i)\n",
        "  y2.append(y2i) "
      ],
      "execution_count": 13,
      "outputs": [
        {
          "output_type": "error",
          "ename": "ValueError",
          "evalue": "ignored",
          "traceback": [
            "\u001b[0;31m---------------------------------------------------------------------------\u001b[0m",
            "\u001b[0;31mValueError\u001b[0m                                Traceback (most recent call last)",
            "\u001b[0;32m<ipython-input-13-7291f8bd7462>\u001b[0m in \u001b[0;36m<module>\u001b[0;34m()\u001b[0m\n\u001b[1;32m     23\u001b[0m \u001b[0;34m\u001b[0m\u001b[0m\n\u001b[1;32m     24\u001b[0m \u001b[0;32mfor\u001b[0m \u001b[0mi\u001b[0m \u001b[0;32min\u001b[0m \u001b[0mrange\u001b[0m\u001b[0;34m(\u001b[0m\u001b[0mlen\u001b[0m\u001b[0;34m(\u001b[0m\u001b[0mt\u001b[0m\u001b[0;34m)\u001b[0m\u001b[0;34m-\u001b[0m\u001b[0;36m1\u001b[0m\u001b[0;34m)\u001b[0m\u001b[0;34m:\u001b[0m\u001b[0;34m\u001b[0m\u001b[0;34m\u001b[0m\u001b[0m\n\u001b[0;32m---> 25\u001b[0;31m   \u001b[0my1i\u001b[0m \u001b[0;34m=\u001b[0m \u001b[0my1\u001b[0m\u001b[0;34m[\u001b[0m\u001b[0mi\u001b[0m\u001b[0;34m]\u001b[0m \u001b[0;34m+\u001b[0m \u001b[0my1_prime\u001b[0m\u001b[0;34m(\u001b[0m\u001b[0my2\u001b[0m\u001b[0;34m[\u001b[0m\u001b[0mi\u001b[0m\u001b[0;34m]\u001b[0m\u001b[0;34m,\u001b[0m\u001b[0mt\u001b[0m\u001b[0;34m[\u001b[0m\u001b[0mi\u001b[0m\u001b[0;34m]\u001b[0m\u001b[0;34m)\u001b[0m\u001b[0;34m*\u001b[0m\u001b[0mdt\u001b[0m\u001b[0;34m\u001b[0m\u001b[0;34m\u001b[0m\u001b[0m\n\u001b[0m\u001b[1;32m     26\u001b[0m   \u001b[0my2i\u001b[0m \u001b[0;34m=\u001b[0m \u001b[0my2\u001b[0m\u001b[0;34m[\u001b[0m\u001b[0mi\u001b[0m\u001b[0;34m]\u001b[0m \u001b[0;34m+\u001b[0m \u001b[0my2_prime\u001b[0m\u001b[0;34m(\u001b[0m\u001b[0my2\u001b[0m\u001b[0;34m[\u001b[0m\u001b[0mi\u001b[0m\u001b[0;34m]\u001b[0m\u001b[0;34m,\u001b[0m \u001b[0my1\u001b[0m\u001b[0;34m[\u001b[0m\u001b[0mi\u001b[0m\u001b[0;34m]\u001b[0m\u001b[0;34m,\u001b[0m \u001b[0mt\u001b[0m\u001b[0;34m[\u001b[0m\u001b[0mi\u001b[0m\u001b[0;34m]\u001b[0m\u001b[0;34m)\u001b[0m\u001b[0;34m*\u001b[0m\u001b[0mdt\u001b[0m\u001b[0;34m\u001b[0m\u001b[0;34m\u001b[0m\u001b[0m\n\u001b[1;32m     27\u001b[0m \u001b[0;34m\u001b[0m\u001b[0m\n",
            "\u001b[0;31mValueError\u001b[0m: operands could not be broadcast together with shapes (2,) (3,) "
          ]
        }
      ]
    }
  ]
}