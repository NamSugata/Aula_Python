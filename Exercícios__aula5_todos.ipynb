{
  "nbformat": 4,
  "nbformat_minor": 0,
  "metadata": {
    "kernelspec": {
      "display_name": "Python 3",
      "language": "python",
      "name": "python3"
    },
    "language_info": {
      "codemirror_mode": {
        "name": "ipython",
        "version": 3
      },
      "file_extension": ".py",
      "mimetype": "text/x-python",
      "name": "python",
      "nbconvert_exporter": "python",
      "pygments_lexer": "ipython3",
      "version": "3.6.4"
    },
    "colab": {
      "name": "Exercícios_ aula5_todos.ipynb",
      "provenance": [],
      "collapsed_sections": [],
      "include_colab_link": true
    }
  },
  "cells": [
    {
      "cell_type": "markdown",
      "metadata": {
        "id": "view-in-github",
        "colab_type": "text"
      },
      "source": [
        "<a href=\"https://colab.research.google.com/github/NamSugata/Aula_Python/blob/master/Exerc%C3%ADcios__aula5_todos.ipynb\" target=\"_parent\"><img src=\"https://colab.research.google.com/assets/colab-badge.svg\" alt=\"Open In Colab\"/></a>"
      ]
    },
    {
      "cell_type": "code",
      "metadata": {
        "id": "pNr_5Ik2LUGY",
        "outputId": "b5597896-77e2-4f58-d7e9-87cc24dc2bb7",
        "colab": {
          "base_uri": "https://localhost:8080/",
          "height": 193
        }
      },
      "source": [
        "# declarações para instalar e importar o módulo Turtle no âmbito do Google Colab\n",
        "!pip3 install ColabTurtle\n",
        "import ColabTurtle.Turtle as joana"
      ],
      "execution_count": 4,
      "outputs": [
        {
          "output_type": "stream",
          "text": [
            "Collecting ColabTurtle\n",
            "  Downloading https://files.pythonhosted.org/packages/49/01/6da7091c2c6c917cce99c000b89acb6aa27b66ef6eafc0c0ccf59b98694f/ColabTurtle-2.0.0.tar.gz\n",
            "Building wheels for collected packages: ColabTurtle\n",
            "  Building wheel for ColabTurtle (setup.py) ... \u001b[?25l\u001b[?25hdone\n",
            "  Created wheel for ColabTurtle: filename=ColabTurtle-2.0.0-cp36-none-any.whl size=4032 sha256=e6e46e4eb62c830458a066af08dd720ad2af7c2366454fc7c1ce5b2e6802e3ad\n",
            "  Stored in directory: /root/.cache/pip/wheels/a8/29/ec/ad346f0042ae467cc74f4378916348faf975b07890651dcae7\n",
            "Successfully built ColabTurtle\n",
            "Installing collected packages: ColabTurtle\n",
            "Successfully installed ColabTurtle-2.0.0\n"
          ],
          "name": "stdout"
        }
      ]
    },
    {
      "cell_type": "markdown",
      "metadata": {
        "id": "ED-KXBaRKyYi"
      },
      "source": [
        "### Exercícios:\n",
        "1. [**Não é possível fazer no Google Colab. Pule para o exercício 2**] Modifique o programa da tartaruga (primeiro exemplo) para que, antes de criar a janela, ele solicite que o usuário insira a cor de fundo desejada. Ele deve armazenar as respostas do usuário em uma variável e modificar a cor da janela de acordo com os desejos do usuário. \n",
        "   * ***Dicas***: faça uso da função ***input***, built-in do python\n",
        "   * você pode encontrar uma lista de nomes de cores permitidos em http://www.tcl.tk/man/tcl8.4/TkCmd/colors.htm. Inclui alguns bem incomuns, como “peach puff” e “HotPink” ”***\n",
        "   \n",
        "1. Faça modificações similares para permitir que o usuário mude a cor da tartaruga durante a execução do programa.\n",
        "   1. Faça o mesmo para a largura da caneta da tartaruga. *Dica: seu diálogo com o usuário retornará uma string, mas o método ```pensize``` ( ```width``` no Google Colab) espera que seu argumento seja um **int**. Então, você precisará converter a **string** em um **int** antes de passá-la para **pensize**.*   \n",
        "   \n",
        "1. Investiguem os métodos e atributos do módulo ```turtle```  (```ColabTurtle``` no Google Colab);\n",
        "\n",
        "1. Desenhe um quadrado, usando a forma de tartaruga, ao invés da flecha, para desenhar (caso esteja no Google Colab, não precisa mudar a forma).\n",
        "   1. mude a velocidade com que a tartaruga faz o desenho.\n",
        "   \n",
        "1. Sabendo que o ângulo interno da ponta de uma estrela de 5 pontas é de 36 graus, desenhe uma estrela.\n",
        "![title](https://github.com/malbouis/Python_intro/blob/master/aulas_2019/pics/estrela.png?raw=1)\n",
        "\n",
        "1. Sabendo o ângulo interno da ponta de uma estrela, desenhe quatro estrelas em uma janela, com uma certa distância entre elas. Dica: use a função penup() e pendown() do módulo ```turtle```."
      ]
    },
    {
      "cell_type": "markdown",
      "metadata": {
        "id": "DZXmIVJAKyYj"
      },
      "source": [
        "### Exercícios em preparação para os próximos capítulos\n",
        "\n",
        "1. Escreva uma função chamada `square`, que toma um parâmetro `t`, que é uma `ColabTurtle`. Essa função deve usar o `ColabTurtle` para desenhar um quadrado. Escreva uma chamada de função que passe `joana` como argumento para `square` e rode o programa novamente. \n",
        "\n",
        "1. Adicione um outro parâmetro, chamado `length`, à função `square`. Modifique o corpo da função de tal forma que o comprimento dos lados do quadrado seja `length` e então modifique a chamada da função para que seja passado o segundo argumento. Rode o programa novamente. Teste o seu programa com diversos valores para `length`.\n",
        "\n",
        "1. Faça uma cópia da função `square` e mude o nome para `polygon`. Adicione um outro parâmetro chamado `n` e modifique o corpo da função para que ela desenhe um polígono regular de `n` lados. Dica: Os ângulos externos de um polígono regular de `n` lados são de `360/n` graus.  \n",
        "\n",
        "1. Escreva uma função chamada `circle` que toma como argumento uma `Turtle`, `t`, e um raio, `r`, e desenha um círculo aproximado ao chamar a função `polygon` com `length` e número `n` de lados apropriados. Teste sua função com um intervalo de valores de `r`. Dica: Determine a circunferência do círculo e se certifique que `comprimento * n = circunferência`.\n",
        "\n",
        "1. Faça uma versão mais geral da função `circle`, chamada `arc`, que toma um parâmetro adicional, `angle`, que determina qual a fração do circulo a ser desenhada. `angle` está em unidades de graus, logo quando `angle=360`, a função `arc` deve desenhar um cículo completo.\n"
      ]
    },
    {
      "cell_type": "markdown",
      "metadata": {
        "id": "2Iqa-hi_mJnO"
      },
      "source": [
        "Exercícios Parte 1\n"
      ]
    },
    {
      "cell_type": "code",
      "metadata": {
        "id": "gMLY_9kkqjxE"
      },
      "source": [
        "##################FEITO NO PYCHARM\n",
        "#'Exercício 01'\n",
        "#import turtle\n",
        "#joana = turtle.Turtle()\n",
        "#tela = input('Digite a cor da tela: ')\n",
        "#jojo = turtle.Screen()\n",
        "#jojo.bgcolor(tela)\n",
        "#\n",
        "#for i in [0,1,2,3]:\n",
        "#    joana.forward(50)\n",
        "#    joana.left(90)\n",
        "#turtle.done()"
      ],
      "execution_count": null,
      "outputs": []
    },
    {
      "cell_type": "code",
      "metadata": {
        "id": "0vGUBoTgmQPI"
      },
      "source": [
        "'exercício 02:'\n",
        "\n",
        "import ColabTurtle.Turtle as joana\n",
        "largura = int(input('Digite a largura da tartaruga: '))\n",
        "cor = input('Digite a cor da tartaruga: ')\n",
        "joana.initializeTurtle()\n",
        "joana.width(largura)\n",
        "joana.color(cor)\n",
        "for i in [0,1,2,3]:           \n",
        "    joana.forward(50)\n",
        "    joana.left(90)"
      ],
      "execution_count": null,
      "outputs": []
    },
    {
      "cell_type": "code",
      "metadata": {
        "id": "c554r3qVC5bb"
      },
      "source": [
        "'Exercício 03:'\n",
        "help(joana)"
      ],
      "execution_count": null,
      "outputs": []
    },
    {
      "cell_type": "code",
      "metadata": {
        "id": "2EjXbmxoMtyJ"
      },
      "source": [
        "#'Exercício 04:' FEITO NO PYCHARM\n",
        "#import turtle\n",
        "#joana = turtle.Turtle()\n",
        "#forma = input('Digite a forma da tartaruga: ')\n",
        "#jojo = joana.shape(forma)\n",
        "#joana.color(\"medium aquamarine\")\n",
        "#for i in [0,1,2,3]:\n",
        "#    joana.forward(50)\n",
        "#    joana.left(90)\n",
        "#turtle.done()"
      ],
      "execution_count": null,
      "outputs": []
    },
    {
      "cell_type": "code",
      "metadata": {
        "id": "YEZ3OZSvFipN"
      },
      "source": [
        "'Exercício 05:'\n",
        "\n",
        "import ColabTurtle.Turtle as joana\n",
        "largura = int(input('Digite a largura da tartaruga: '))\n",
        "cor = input('Digite a cor da tartaruga: ')\n",
        "joana.initializeTurtle()\n",
        "joana.width(largura)\n",
        "joana.color(cor)\n",
        "for i in [0,1,2,3,4]:           \n",
        "    joana.forward(100)\n",
        "    joana.left(144)"
      ],
      "execution_count": null,
      "outputs": []
    },
    {
      "cell_type": "code",
      "metadata": {
        "id": "9m8dlYgzIbdG"
      },
      "source": [
        "'Exercício 06:'\n",
        "import ColabTurtle.Turtle as joana\n",
        "joana.initializeTurtle()\n",
        "joana.width(3)\n",
        "joana.color(\"purple\")\n",
        "joana.speed(10)\n",
        "\n",
        "for i in range(5):           \n",
        "    joana.forward(100)\n",
        "    joana.left(144)\n",
        "\n",
        "joana.penup()\n",
        "joana.left(90)\n",
        "joana.forward(100)\n",
        "joana.pendown()\n",
        "\n",
        "joana.color(\"yellow\")\n",
        "joana.width(3)\n",
        "\n",
        "for i in range(5):           \n",
        "    joana.forward(100)\n",
        "    joana.left(144)\n",
        "\n",
        "joana.penup()\n",
        "joana.left(90)\n",
        "joana.forward(100)\n",
        "joana.pendown()\n",
        "\n",
        "joana.color(\"red\")\n",
        "joana.width(3)\n",
        "\n",
        "for i in range(5):           \n",
        "    joana.forward(100)\n",
        "    joana.left(144)\n",
        "\n",
        "joana.penup()\n",
        "joana.left(90)\n",
        "joana.forward(100)\n",
        "joana.pendown()\n",
        "\n",
        "joana.color(\"blue\")\n",
        "joana.width(3)\n",
        "\n",
        "for i in range(5):           \n",
        "    joana.forward(100)\n",
        "    joana.left(144)"
      ],
      "execution_count": null,
      "outputs": []
    },
    {
      "cell_type": "markdown",
      "metadata": {
        "id": "egNCoK7XZqN2"
      },
      "source": [
        "Exercícios em preparação para os próximos capítulos"
      ]
    },
    {
      "cell_type": "code",
      "metadata": {
        "id": "5qSJLhQbZ-N2"
      },
      "source": [
        "'Exercício 01'\n",
        "\n",
        "import ColabTurtle.Turtle as joana\n",
        "joana.initializeTurtle()\n",
        "def square(t):\n",
        "    for i in range(4):\n",
        "        t.forward(100)\n",
        "        t.left(90)\n",
        "\n",
        "square(joana)"
      ],
      "execution_count": null,
      "outputs": []
    },
    {
      "cell_type": "code",
      "metadata": {
        "id": "0y9XPIc7e1cI"
      },
      "source": [
        "'Exercício 02'\n",
        "import ColabTurtle.Turtle as joana\n",
        "joana.initializeTurtle()\n",
        "\n",
        "def square(t, length):\n",
        "    for i in range(4):\n",
        "        t.forward(length)\n",
        "        t.left(90)\n",
        "\n",
        "square(joana, 90)"
      ],
      "execution_count": null,
      "outputs": []
    },
    {
      "cell_type": "code",
      "metadata": {
        "id": "NmZk0rclfZv0"
      },
      "source": [
        "'Exercício 03'\n",
        "import ColabTurtle.Turtle as joana\n",
        "joana.initializeTurtle()\n",
        "def polygon(t, n, length):\n",
        "    angulo = 360 / n\n",
        "    for i in range(n):\n",
        "        t.forward(length)\n",
        "        t.left(angulo)\n",
        "\n",
        "polygon(joana, 7, 70)"
      ],
      "execution_count": null,
      "outputs": []
    },
    {
      "cell_type": "code",
      "metadata": {
        "id": "DE4qF3hjg6qj"
      },
      "source": [
        "'Exercício 04'\n",
        "import ColabTurtle.Turtle as joana\n",
        "import math \n",
        "def polygon(t, n, length):\n",
        "    angulo = 360 / n\n",
        "    for i in range(n):\n",
        "        t.forward(length)\n",
        "        t.left(angulo)\n",
        "\n",
        "\n",
        "def circle(t, r): \n",
        "    circumference = 2 * math.pi * r  \n",
        "    n = 50 \n",
        "    length = int(circumference / n )        # circumference = n*length\n",
        "    polygon(t, n, length)\n",
        "\n",
        "joana.initializeTurtle()\n",
        "joana.speed(10)\n",
        "circle(joana, 100)"
      ],
      "execution_count": null,
      "outputs": []
    },
    {
      "cell_type": "code",
      "metadata": {
        "id": "PBeytcYgwbCs"
      },
      "source": [
        "'Exercício 05'\n",
        "\n",
        "import ColabTurtle.Turtle as joana\n",
        "import math\n",
        "\n",
        "def arc(t, r, angle):\n",
        "    arc_length = 2 * math.pi * r * angle / 360\n",
        "    n = int(arc_length / 3) + 1\n",
        "    step_length = arc_length / n\n",
        "    step_angle = angle / n\n",
        "    for i in range(n):\n",
        "        t.forward(int(step_length))\n",
        "        t.left(step_angle)\n",
        "\n",
        "joana.initializeTurtle()\n",
        "joana.speed(10)\n",
        "arc(joana,100, 180)        "
      ],
      "execution_count": null,
      "outputs": []
    },
    {
      "cell_type": "markdown",
      "metadata": {
        "id": "UH2R01Dze5YW"
      },
      "source": [
        "## Exercícios - Parte 2:\n",
        "  \n",
        "1. Escreva um conjunto apropriadamente geral de funções que possam desenhar flores como na Figura abaixo:\n",
        "![flowers](https://github.com/malbouis/Python_intro/blob/master/aulas_2019/pics/flowers.png?raw=1)\n",
        "1. Escreva um conjunto apropriadamente geral de funções que podem desenhar formas como na figura:\n",
        "![shapes](https://github.com/malbouis/Python_intro/blob/master/aulas_2019/pics/shapes_turtle.png?raw=1)\n",
        "Veja mais exercícios em: http://greenteapress.com/thinkpython2/html/thinkpython2005.html#sec42\n",
        "e: http://dfnae.fis.uerj.br/twiki/bin/view/DFNAE/IntroPython#Aula_6\n",
        "\n",
        "1. Adicione instruções para desenhar o talo e folha da flor. Faça a refatoração apropriada para a interface da flor completa ficar \"limpa\".\n",
        "1. As letras do alfabeto podem ser construídas a partir de um número moderado de elementos básicos, como linhas verticais e horizontais e algumas curvas. Projete um alfabeto que possa ser desenhado com um número mínimo de elementos básicos e depois escreva funções que desenhem as letras.\n",
        "   1. Você deve escrever uma função para cada letra, com os nomes ```draw_a_```, ```_draw_b_```, etc., e colocar suas funções em um arquivo chamado ```letters.py```. Você pode baixar uma “turtle typewriter” de http://thinkpython2.com/code/typewriter.py para ajudá-lo a testar seu código.\n",
        "   1. Você pode obter uma solução em http://thinkpython2.com/code/letters.py; também requer http://thinkpython2.com/code/polygon.py.\n",
        "1. Leia sobre espirais em http://en.wikipedia.org/wiki/Spiral; em seguida, escreva um programa que desenhe uma espiral arquimediana (ou um dos outros tipos). Solução: http://thinkpython2.com/code/spiral.py."
      ]
    },
    {
      "cell_type": "markdown",
      "metadata": {
        "id": "ZOFnt6u_ge2-"
      },
      "source": [
        "Solução dos problemas Parte 2:"
      ]
    },
    {
      "cell_type": "code",
      "metadata": {
        "id": "FLVQPV3CglYp"
      },
      "source": [
        "\"\"\"'Exercício 01 - FEITO NO PYCHARM' \n",
        "import turtle\n",
        "joana = turtle.Turtle()\n",
        "\n",
        "def petala(x, y, r, angle, cor):\n",
        "    \"\"\" Desenho de uma pétala.\"\"\"\n",
        "    joana.penup()\n",
        "    joana.goto(x, y)\n",
        "    joana.pendown()\n",
        "    joana.fillcolor(cor)\n",
        "    joana.begin_fill()\n",
        "    joana.circle(r, angle)\n",
        "    joana.setheading(joana.heading() + 180 - angle)\n",
        "    joana.circle(r, angle)\n",
        "    joana.setheading(joana.heading() + 180 - angle)\n",
        "    joana.end_fill()\n",
        "    joana.hideturtle()\n",
        "\n",
        "for i in range(19):\n",
        "    petala(0,0,100,18,\"blue\")\n",
        "    joana.penup()\n",
        "    joana.goto(0,0)\n",
        "    joana.left(18)\n",
        "    petala(0,0,100,18,\"blue\")\n",
        "\n",
        "for i in range(9):\n",
        "    petala(0,0,100,36,\"blue\")\n",
        "    joana.penup()\n",
        "    joana.goto(0,0)\n",
        "    joana.left(36)\n",
        "    petala(0,0,100,36,\"blue\")\n",
        "\n",
        "for i in range(6):\n",
        "    petala(0,0,100,60,\"blue\")\n",
        "    joana.penup()\n",
        "    joana.goto(0,0)\n",
        "    joana.left(60)\n",
        "    petala(0,0,100,60,\"blue\")\n",
        "\n",
        "joana.speed(100)\n",
        "turtle.done()\"\"\"\n"
      ],
      "execution_count": null,
      "outputs": []
    },
    {
      "cell_type": "code",
      "metadata": {
        "id": "4shEkJEmHgHZ"
      },
      "source": [
        "\"\"\"Exercício 02 - Feito PYCHARM\n",
        "\n",
        "import math\n",
        "import turtle\n",
        "\n",
        "\n",
        "def desenha_torta(t, n, r):\n",
        "    \"\"\"desenha uma torta.\n",
        "    t: Turtle\n",
        "    n: número de segmentos\n",
        "    r: tamanho dos segmentos radiais\n",
        "    \"\"\"\n",
        "    torta(t, n, r)\n",
        "    t.pu()\n",
        "    t.fd(r*2 + 10)\n",
        "    t.pd()\n",
        "\n",
        "\n",
        "def torta(t, n, r):\n",
        "    \"\"\"Desenha uma torta dividida.\n",
        "    t: Turtle\n",
        "    n: número de segmentos \n",
        "    r: tamanho dos segmentos radiais\n",
        "    \"\"\"\n",
        "    angle = 360.0 / n\n",
        "    for i in range(n):\n",
        "        isosceles(t, r, angle/2)\n",
        "        t.lt(angle)\n",
        "\n",
        "\n",
        "def isosceles(t, r, angle):\n",
        "    \"\"\"Desenha um triangulo isosceles.\n",
        "    t: Turtle\n",
        "    r: tamanho dos lados iguais\n",
        "    angle: metade do angulo em graus\n",
        "    \"\"\"\n",
        "    y = r * math.sin(angle * math.pi / 180)\n",
        "\n",
        "    t.rt(angle)\n",
        "    t.fd(r)\n",
        "    t.lt(90+angle)\n",
        "    t.fd(2*y)\n",
        "    t.lt(90+angle)\n",
        "    t.fd(r)\n",
        "    t.lt(180-angle)\n",
        "\n",
        "\n",
        "joana = turtle.Turtle()\n",
        "\n",
        "joana.pu()\n",
        "joana.bk(130)\n",
        "joana.pd()\n",
        "\n",
        "#tortas de vários tamanhos\n",
        "size = 40\n",
        "desenha_torta(joana, 5, size)\n",
        "desenha_torta(joana, 6, size)\n",
        "desenha_torta(joana, 7, size)\n",
        "\n",
        "joana.hideturtle()\n",
        "joana.mainloop()\n",
        "\"\"\""
      ],
      "execution_count": null,
      "outputs": []
    },
    {
      "cell_type": "code",
      "metadata": {
        "id": "yGlQ0cjnopkV"
      },
      "source": [
        "\"\"\" EXERCÍCIO 03 - FEITO NO PYCHARM\n",
        "\n",
        "import turtle\n",
        "joana = turtle.Turtle()\n",
        "\n",
        "def petala(x, y, r, angle, cor):\n",
        "    \"\"\" Desenho de uma pétala.\"\"\"\n",
        "    joana.penup()\n",
        "    joana.goto(x, y)\n",
        "    joana.pendown()\n",
        "    joana.fillcolor(cor)\n",
        "    joana.begin_fill()\n",
        "    joana.circle(r, angle)\n",
        "    joana.setheading(joana.heading() + 180 - angle)\n",
        "    joana.circle(r, angle)\n",
        "    joana.setheading(joana.heading() + 180 - angle)\n",
        "    joana.end_fill()\n",
        "    joana.hideturtle()\n",
        "\n",
        "def talo_folha():\n",
        "    joana.right(90)\n",
        "    joana.goto(0,-200)\n",
        "    joana.penup()\n",
        "    joana.goto(0,-100)\n",
        "    joana.pendown()\n",
        "    joana.left(90)\n",
        "    petala(0,-100,100,60,\"green\")\n",
        "\n",
        "talo_folha()\n",
        "joana.goto(0,0)\n",
        "\n",
        "for i in range(12):\n",
        "    petala(0,0,100,60,\"red\")\n",
        "    joana.penup()\n",
        "    joana.goto(0,0)\n",
        "    joana.left(30)\n",
        "    petala(0,0,100,60,\"red\")\n",
        "\n",
        "joana.speed(100)\n",
        "turtle.done()\"\"\""
      ],
      "execution_count": null,
      "outputs": []
    },
    {
      "cell_type": "code",
      "metadata": {
        "id": "wjxbXVjW_eys"
      },
      "source": [
        "Exercício 05 - Feito no PYCHARM\n",
        "\"\"\"\n",
        "import turtle\n",
        "joana = turtle.Turtle()\n",
        "\n",
        "\n",
        "def desenha_espiral(t, n, tamanho=2, frouxa=0.3, enrola=0.0002):\n",
        "    \"\"\"Espiral arquimediana:\n",
        "      n: voltas\n",
        "      tamanho: tamanho do segmento\n",
        "      frouxa: o quão frouxa a espiral começa\n",
        "      enrola: o quão frouxa a espiral termina\n",
        "    \"\"\"\n",
        "    theta = 0.0\n",
        "\n",
        "    for i in range(n):\n",
        "        t.fd(tamanho)\n",
        "        dtheta = 1 / (frouxa + enrola * theta)\n",
        "\n",
        "        t.lt(dtheta)\n",
        "        theta += dtheta\n",
        "\n",
        "joana = turtle.Turtle()\n",
        "desenha_espiral(joana, n=1000)\n",
        "turtle.done()\"\"\""
      ],
      "execution_count": null,
      "outputs": []
    }
  ]
}