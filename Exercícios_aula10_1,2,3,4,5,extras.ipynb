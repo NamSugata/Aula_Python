{
  "nbformat": 4,
  "nbformat_minor": 0,
  "metadata": {
    "kernelspec": {
      "display_name": "Python 3",
      "language": "python",
      "name": "python3"
    },
    "language_info": {
      "codemirror_mode": {
        "name": "ipython",
        "version": 3
      },
      "file_extension": ".py",
      "mimetype": "text/x-python",
      "name": "python",
      "nbconvert_exporter": "python",
      "pygments_lexer": "ipython3",
      "version": "3.7.0"
    },
    "colab": {
      "name": "Exercícios_aula10_1,2,3,4,5,extras.ipynb",
      "provenance": [],
      "collapsed_sections": [],
      "include_colab_link": true
    }
  },
  "cells": [
    {
      "cell_type": "markdown",
      "metadata": {
        "id": "view-in-github",
        "colab_type": "text"
      },
      "source": [
        "<a href=\"https://colab.research.google.com/github/NamSugata/Aula_Python/blob/master/Exerc%C3%ADcios_aula10_1%2C2%2C3%2C4%2C5%2Cextras.ipynb\" target=\"_parent\"><img src=\"https://colab.research.google.com/assets/colab-badge.svg\" alt=\"Open In Colab\"/></a>"
      ]
    },
    {
      "cell_type": "markdown",
      "metadata": {
        "id": "ek0aPbb2gkU3"
      },
      "source": [
        "# Integração e análise numérica\n",
        "\n",
        "A integração numérica é composta por uma ampla gama de algoritmos para calcular o valor numérico de uma integral definida. \n",
        "\n",
        "O termo também é usado para se referir a métodos numéricos para determinar a solução de equações diferenciais ordinárias (ODEs), que veremos na próxima aula.\n",
        "\n",
        "## Soma de Riemann\n",
        "\n",
        "Podemos estimar a integral acima com uma **soma de Riemann**, que é um tipo de aproximação de uma integral, por uma soma finita.\n",
        "\n",
        "A soma de Riemann é calculada particionando-se a região de integração em ***formas*** \"pequenas\" (retângulos, trapezóides, parábolas, cubos) que somadas compõem uma região que é similar à função sendo medida. Ao calcular-se a área de cada uma dessa formas e ao adicionar cada uma dessas pequenas áreas, obtém-se a integral. Essa abordagem pode ser usada para encontrar uma aproximação númerica de uma integral definida.\n",
        "\n",
        "\n",
        "### Definição de soma de Riemann\n",
        "\n",
        "Considerando-se uma função $f$ definida no intervalo fechado $[a,b] \\in \\mathbb{R}$, a soma de Riemann é:\n",
        "\n",
        "<br><br>\n",
        "<p align=center>$S  = \\sum_{i=1}^{n} f(x_i^*)\\Delta_{x_i}$ </p>\n",
        "<br><br>\n",
        "\n",
        "onde $\\Delta_{x_i} = x_{i} - x_{i-1}$ e $x_i^* \\in [x_{i-1}, x_i]$  \n",
        "<br>\n",
        "\n",
        "Ao determinarmos a escolha de $x_i^*$, determinamos o tipo de soma de Riemann.\n",
        "\n",
        "Alguns exemplos de métodos de integração de Riemann são:\n",
        "* **Soma de Riemann pela esquerda**: quando $x_i^* = x_{i-1} \\; \\forall \\;i$ (para todos os intervalos);\n",
        "* **Soma de Riemann pela direita**: quando $x_i^* = x_{i} \\; \\forall \\;i$ ;\n",
        "* **Soma trapezoidal**.\n",
        "\n",
        "<br>\n",
        "<font color='blue'>Soma de Riemann pela esquerda:</font>\n",
        "\n",
        "\n",
        "![](https://upload.wikimedia.org/wikipedia/commons/c/c9/LeftRiemann2.svg)\n",
        "\n",
        "\n",
        "<br>\n",
        "<font color='orange'>Soma de Riemann pela direita;</font>\n",
        "\n",
        "![](https://upload.wikimedia.org/wikipedia/commons/4/45/RightRiemann2.svg)\n",
        "\n",
        "<br>\n",
        "<font color='magenta'>Soma de Riemann trapezoidal;</font>\n",
        "\n",
        "![](https://upload.wikimedia.org/wikipedia/commons/7/76/TrapRiemann2.svg)\n",
        "\n",
        "<br><br>\n",
        "**Vejamos um exemplo de soma de Riemann abaixo.**\n",
        "\n"
      ]
    },
    {
      "cell_type": "markdown",
      "metadata": {
        "id": "EHuDaVmzeyw9"
      },
      "source": [
        "\n",
        "Imaginemos um problema simples de integração, com resultado analítico, como a exponencial:\n",
        "\n",
        "$f(x) = \\mathrm{e}^{-x}  \\Rightarrow \\qquad \\int ^{10}_{0} f(x)dx = -1* \\left(\\mathrm{e}^{-10} - \\mathrm{e}^{0}\\right)  = 0.9999546000702375$\n"
      ]
    },
    {
      "cell_type": "code",
      "metadata": {
        "id": "-wtmX-ebeyw-",
        "outputId": "f296d929-f023-47ed-a01a-c281a54c9977",
        "colab": {
          "base_uri": "https://localhost:8080/",
          "height": 35
        }
      },
      "source": [
        "import math\n",
        "math.exp(0)-math.exp(-10)\n"
      ],
      "execution_count": 33,
      "outputs": [
        {
          "output_type": "execute_result",
          "data": {
            "text/plain": [
              "0.9999546000702375"
            ]
          },
          "metadata": {
            "tags": []
          },
          "execution_count": 33
        }
      ]
    },
    {
      "cell_type": "markdown",
      "metadata": {
        "id": "hjY4mriGeyxE"
      },
      "source": [
        "Ao fazer uma  integração numérica da função f(x), a largura escolhida do intervalo pode influenciar na precisão do resultado. Nesse mesmo exemplo anterior, por exemplo, se decidirmos usar intervalos de largura $1$."
      ]
    },
    {
      "cell_type": "code",
      "metadata": {
        "id": "Ng3WvOCheyxF",
        "outputId": "d85837a3-b853-4c57-b928-ef6db7d00073",
        "colab": {
          "base_uri": "https://localhost:8080/",
          "height": 72
        }
      },
      "source": [
        "x=range(0,10)\n",
        "y=[math.exp(-xi) for xi in x]  # isto se chama \"list comprehension\"\n",
        "print(x)\n",
        "print(y)"
      ],
      "execution_count": 34,
      "outputs": [
        {
          "output_type": "stream",
          "text": [
            "range(0, 10)\n",
            "[1.0, 0.36787944117144233, 0.1353352832366127, 0.049787068367863944, 0.01831563888873418, 0.006737946999085467, 0.0024787521766663585, 0.0009118819655545162, 0.00033546262790251185, 0.00012340980408667956]\n"
          ],
          "name": "stdout"
        }
      ]
    },
    {
      "cell_type": "code",
      "metadata": {
        "id": "aG8OEh1aeyxK",
        "outputId": "494e9f36-55e1-4724-e642-7a96f912e17d",
        "colab": {
          "base_uri": "https://localhost:8080/",
          "height": 265
        }
      },
      "source": [
        "import matplotlib.pyplot as plt\n",
        "import numpy as np\n",
        "plt.bar(x,y,color=\"red\",align=\"edge\",width=1)\n",
        "x1 = np.linspace(0,10, 1000) # intervalo de 0 a 10, com 1000 divisões\n",
        "y1=[math.exp(-xi) for xi in x1]\n",
        "plt.plot(x1,y1)\n",
        "plt.show()"
      ],
      "execution_count": 35,
      "outputs": [
        {
          "output_type": "display_data",
          "data": {
            "image/png": "[encoded data removed]",
            "text/plain": [
              "<Figure size 432x288 with 1 Axes>"
            ]
          },
          "metadata": {
            "tags": [],
            "needs_background": "light"
          }
        }
      ]
    },
    {
      "cell_type": "markdown",
      "metadata": {
        "id": "Maa5TOtdeyxQ"
      },
      "source": [
        "* Os retângulos acima representam a soma de Riemann pela esquerda ou direita? \n",
        "\n",
        "* Se fizermos a soma de Riemann dos retângulos acima, o resultado deveria ser __maior__ ou __menor__ do que a integral analítica? "
      ]
    },
    {
      "cell_type": "code",
      "metadata": {
        "id": "knxQbtUieyxR",
        "outputId": "2bf18055-be85-47a1-8347-4486669ddc94",
        "colab": {
          "base_uri": "https://localhost:8080/",
          "height": 35
        }
      },
      "source": [
        "x_i = 0\n",
        "x_f = 10\n",
        "dx = 1\n",
        "x = np.arange(x_i,x_f,dx)\n",
        "S = 0\n",
        "for xi in x:\n",
        "    S = S+ math.exp(-xi)*dx # *dx que e 1 nesse caso\n",
        "    \n",
        "print(\"Soma de 10 caixinhas= \",S)"
      ],
      "execution_count": 36,
      "outputs": [
        {
          "output_type": "stream",
          "text": [
            "Soma de 10 caixinhas=  1.5819048852379485\n"
          ],
          "name": "stdout"
        }
      ]
    },
    {
      "cell_type": "code",
      "metadata": {
        "id": "yvpElBUpeyxU",
        "outputId": "0dcea64c-2d1e-4a21-c9d5-7803b66456d6",
        "colab": {
          "base_uri": "https://localhost:8080/",
          "height": 35
        }
      },
      "source": [
        "x_i = 0\n",
        "x_f = 10\n",
        "dx = 0.01\n",
        "n_steps = round((x_f - x_i)/dx)\n",
        "\n",
        "x = np.arange(x_i,x_f,dx)\n",
        "\n",
        "S1= 0\n",
        "for xi in x:\n",
        "    S1 = S1+ math.exp(-xi) * dx\n",
        "\n",
        "print(f\"Soma de {n_steps} caixinhas = \",S1)"
      ],
      "execution_count": 37,
      "outputs": [
        {
          "output_type": "stream",
          "text": [
            "Soma de 1000 caixinhas =  1.0049627060117017\n"
          ],
          "name": "stdout"
        }
      ]
    },
    {
      "cell_type": "markdown",
      "metadata": {
        "id": "zz8ch5fReyxZ"
      },
      "source": [
        "## Exercícios\n",
        "\n",
        "1. Quantos intervalos (ou qual largura de intervalo) é preciso implementar para ter uma precisão de 1% no resultado numérico na integração de $f(x)$ de 0 a 10? \n",
        "\n",
        "$\\dfrac{R_{num}-R_{an}}{R_{an}} \\leq 10\\% $\n",
        "\n",
        "2. Faça a integração numérica pela esquerda da mesma função. Compare o resultado com a integração pela direita.\n",
        "\n",
        "3. Faça a integração por trapézios. Lembre que a área de um trapézio é dada por: $A=\\frac{(a + b)h}{2}$\n",
        "\n",
        "3. Faça a integração numérica das funções trigonométricas $\\sin(x)$ e $\\cos(x)$ num período $0 < x \\leq 2\\pi$\n",
        "\n",
        "4. Faça a integração das funções hiperbólicas  $\\sinh(x)$ e $\\cosh(x)$ no intervalo $0-10$."
      ]
    },
    {
      "cell_type": "code",
      "metadata": {
        "id": "TpEjSHNGeyxa",
        "outputId": "7cdf789f-0b37-4258-dc81-11ef380d7e62"
      },
      "source": [
        "sh = [math.sinh(xi) for xi in x1]\n",
        "plt.plot(x1,sh)\n",
        "plt.show()"
      ],
      "execution_count": null,
      "outputs": [
        {
          "output_type": "display_data",
          "data": {
            "image/png": "[encoded data removed]",
            "text/plain": [
              "<Figure size 432x288 with 1 Axes>"
            ]
          },
          "metadata": {
            "tags": [],
            "needs_background": "light"
          }
        }
      ]
    },
    {
      "cell_type": "markdown",
      "metadata": {
        "id": "8uQLcqN6ik_S"
      },
      "source": [
        "solução exercício em aula:"
      ]
    },
    {
      "cell_type": "code",
      "metadata": {
        "id": "6RRCiXitiotD",
        "outputId": "f001455d-3109-4e71-86ab-6830a8c6a8be",
        "colab": {
          "base_uri": "https://localhost:8080/",
          "height": 87
        }
      },
      "source": [
        "'Exercício 01:'\n",
        "x_i = 0\n",
        "x_f = 10\n",
        "dx = 1\n",
        "r_ana = 0.9999546000702375\n",
        "n_steps = round((x_f - x_i)/dx)\n",
        "\n",
        "x = np.arange(x_i,x_f,dx)\n",
        "condicao = 100\n",
        "\n",
        "while (abs(condicao) > 0.001):\n",
        "    x = np.arange(x_i,x_f,dx)\n",
        "    S1= 0\n",
        "    for xi in x:\n",
        "        S1 = S1+ math.exp(-xi) * dx\n",
        "    condicao = abs(S1 - r_ana)/r_ana\n",
        "    dx = dx/10\n",
        "    print(condicao,dx,S1) \n",
        "#print(f\"Soma de {n_steps} caixinhas = \",S1) "
      ],
      "execution_count": 38,
      "outputs": [
        {
          "output_type": "stream",
          "text": [
            "0.5819767068693262 0.1 1.5819048852379485\n",
            "0.050833194477505665 0.01 1.0507854867242843\n",
            "0.005008333319445099 0.001 1.0049627060117017\n",
            "0.0005000833333330618 0.0001 1.0004546606998224\n"
          ],
          "name": "stdout"
        }
      ]
    },
    {
      "cell_type": "code",
      "metadata": {
        "id": "eQ5B4jaMw44T",
        "outputId": "f2322b6b-30e1-480e-c957-448d1ec9b992",
        "colab": {
          "base_uri": "https://localhost:8080/",
          "height": 580
        }
      },
      "source": [
        "'Exercício 02:'\n",
        "import matplotlib.pyplot as plt\n",
        "import numpy as np\n",
        "\n",
        "def f(x):\n",
        "    return np.exp(-x)\n",
        "\n",
        "def integral_esquerda(f,a,b,dx):\n",
        "    x = np.arange(a,b,dx)\n",
        "    sum1 = 0\n",
        "    for i in range(len(x)-1):\n",
        "        sum1 = sum1 + f(x[i]) * dx\n",
        "    print(f'Soma pela esquerda = {sum1}')         \n",
        "    return x\n",
        "\n",
        "def integral_direita(f,a,b,dx):\n",
        "    x = np.arange(a,b,dx)\n",
        "    sum2 = 0\n",
        "    for i in range(1,len(x)):\n",
        "        sum2 = sum2 + f(x[i]) * dx\n",
        "    print(f'Soma pela direita = {sum2}')      \n",
        "    return x\n",
        "\n",
        "integral_esquerda(f, a=0, b=10, dx= 0.01)\n",
        "integral_direita(f, a=0, b=10, dx= 0.01)    \n",
        "\n",
        "plt.figure(1)\n",
        "plt.title('Integral pela esquerda')\n",
        "y1 = [math.exp(-xi) for xi in x]\n",
        "plt.bar(x, y1, color=\"purple\", align=\"edge\", width=1)\n",
        "plt.plot(x,y1)\n",
        "plt.show()\n",
        "\n",
        "plt.figure(2)\n",
        "plt.title('Integral pela direita')\n",
        "y2 = [math.exp(-xi) for xi in x]\n",
        "plt.bar(x, y2, color=\"green\", align=\"edge\", width=1)\n",
        "plt.plot(x,y2)\n",
        "plt.show()\n",
        "\n"
      ],
      "execution_count": 66,
      "outputs": [
        {
          "output_type": "stream",
          "text": [
            "Soma pela esquerda = 1.0049622474496354\n",
            "Soma pela direita = 0.9949627060117006\n"
          ],
          "name": "stdout"
        },
        {
          "output_type": "display_data",
          "data": {
            "image/png": "[encoded data removed]",
            "text/plain": [
              "<Figure size 432x288 with 1 Axes>"
            ]
          },
          "metadata": {
            "tags": [],
            "needs_background": "light"
          }
        },
        {
          "output_type": "display_data",
          "data": {
            "image/png": "[encoded data removed]",
            "text/plain": [
              "<Figure size 432x288 with 1 Axes>"
            ]
          },
          "metadata": {
            "tags": [],
            "needs_background": "light"
          }
        }
      ]
    },
    {
      "cell_type": "code",
      "metadata": {
        "id": "CtRAcS--dCn6",
        "outputId": "bffed6fd-0225-4508-9932-42faf73c1d43",
        "colab": {
          "base_uri": "https://localhost:8080/",
          "height": 52
        }
      },
      "source": [
        "'Exercício 03:'\n",
        "\n",
        "import matplotlib.pyplot as plt\n",
        "import numpy as np\n",
        "\n",
        "def f(x):\n",
        "    return np.exp(-x)\n",
        "\n",
        "def trapezio(f,a,b,n=10):\n",
        "    \"\"\"f : função\n",
        "    a , b : números\n",
        "        Intervalo de Integração [a,b]\n",
        "    n : inteiro\n",
        "        quantidade de subintervalos entre [a,b]\n",
        "    \"\"\"\n",
        "    x = np.linspace(a,b,n+1) # N+1 points make N subintervals\n",
        "    y = f(x)\n",
        "    y_direita = y[1:] # pontoa à direita\n",
        "    y_esquerda = y[:-1] # pontos à esquerda\n",
        "    dx = (b - a)/n\n",
        "    t = (dx/2) * np.sum(y_direita + y_esquerda)\n",
        "    print(f'O resultado para esta integração é: {t:}')\n",
        "    return t\n",
        "\n",
        "trapezio(f,0,10)\n",
        "\n",
        "#plt.figure(1)\n",
        "#plt.title('Integral Método: Trapézio')\n",
        "#y = [math.exp(-xi) for xi in x]\n",
        "#plt.bar(x, y, color=\"purple\", align=\"edge\", width=1)\n",
        "#plt.plot(x,y)\n",
        "#plt.show()\n"
      ],
      "execution_count": 4,
      "outputs": [
        {
          "output_type": "stream",
          "text": [
            "O resultado para esta integração é: 1.08192758520283\n"
          ],
          "name": "stdout"
        },
        {
          "output_type": "execute_result",
          "data": {
            "text/plain": [
              "1.08192758520283"
            ]
          },
          "metadata": {
            "tags": []
          },
          "execution_count": 4
        }
      ]
    },
    {
      "cell_type": "markdown",
      "metadata": {
        "id": "6UKLyVZ7eyxe"
      },
      "source": [
        "### Exercícios extras de resolução numérica de equações diferenciais\n",
        "\n",
        "1. Imagine que tem um/a maratonista treinando, que num trecho de $5 km$ tem velocidade quase constante de $12 km/h$. Produza uma lista distância percorrida em intervalos de 1 minuto.\n",
        "\n",
        "1. O/A mesmo/a atleta no seguinte trecho acelera por $200$ metros até chegar em $15 km/h$ por $2 km$. Queremos obter uma tabela ou gráfico da distância percorrida en função do tempo e o tempo total para chegar em $7 km$, faça isto utilizando listas.\n",
        "\n",
        "1. Considere um péndulo simples num plano. O comprimento da linha é $1$ metro, a massa é $0,2 kg$ e a aceleração de gravidade $9,8 m/s^2$. Faça um gráfico ou crie uma tabela para a posição em coordenadas cartesianas em função do tempo, utilizando listas.\n",
        "\n",
        "\n",
        "- (opcional) Pesquise sobre o pacote numpy e os objetos desse pacote chamados array, tente utilizálos ao invés de listas para resolver os exercícios.\n",
        "\n",
        "- (opcional) Pesquise sobre o pacote scipy e seu modulo integrate para resolver integrações ou equações diferenciais numéricamente.\n"
      ]
    },
    {
      "cell_type": "markdown",
      "metadata": {
        "id": "5jtFSZnpP9AV"
      },
      "source": [
        ""
      ]
    }
  ]
}