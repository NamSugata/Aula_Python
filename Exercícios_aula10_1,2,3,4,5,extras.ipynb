{
  "nbformat": 4,
  "nbformat_minor": 0,
  "metadata": {
    "kernelspec": {
      "display_name": "Python 3",
      "language": "python",
      "name": "python3"
    },
    "language_info": {
      "codemirror_mode": {
        "name": "ipython",
        "version": 3
      },
      "file_extension": ".py",
      "mimetype": "text/x-python",
      "name": "python",
      "nbconvert_exporter": "python",
      "pygments_lexer": "ipython3",
      "version": "3.7.0"
    },
    "colab": {
      "name": "Exercícios_aula10_1,2,3,4,5,extras.ipynb",
      "provenance": [],
      "collapsed_sections": [],
      "include_colab_link": true
    }
  },
  "cells": [
    {
      "cell_type": "markdown",
      "metadata": {
        "id": "view-in-github",
        "colab_type": "text"
      },
      "source": [
        "<a href=\"https://colab.research.google.com/github/NamSugata/Aula_Python/blob/master/Exerc%C3%ADcios_aula10_1%2C2%2C3%2C4%2C5%2Cextras.ipynb\" target=\"_parent\"><img src=\"https://colab.research.google.com/assets/colab-badge.svg\" alt=\"Open In Colab\"/></a>"
      ]
    },
    {
      "cell_type": "markdown",
      "metadata": {
        "id": "zz8ch5fReyxZ"
      },
      "source": [
        "## Exercícios\n",
        "\n",
        "1. Quantos intervalos (ou qual largura de intervalo) é preciso implementar para ter uma precisão de 1% no resultado numérico na integração de $f(x)$ de 0 a 10? \n",
        "\n",
        "$\\dfrac{R_{num}-R_{an}}{R_{an}} \\leq 10\\% $\n",
        "\n",
        "2. Faça a integração numérica pela esquerda da mesma função. Compare o resultado com a integração pela direita.\n",
        "\n",
        "3. Faça a integração por trapézios. Lembre que a área de um trapézio é dada por: $A=\\frac{(a + b)h}{2}$\n",
        "\n",
        "3. Faça a integração numérica das funções trigonométricas $\\sin(x)$ e $\\cos(x)$ num período $0 < x \\leq 2\\pi$\n",
        "\n",
        "4. Faça a integração das funções hiperbólicas  $\\sinh(x)$ e $\\cosh(x)$ no intervalo $0-10$."
      ]
    },
    {
      "cell_type": "markdown",
      "metadata": {
        "id": "8uQLcqN6ik_S"
      },
      "source": [
        "solução exercício em aula:"
      ]
    },
    {
      "cell_type": "code",
      "metadata": {
        "id": "6RRCiXitiotD",
        "outputId": "6de8aa07-e570-409c-d5bb-c560413a6564",
        "colab": {
          "base_uri": "https://localhost:8080/"
        }
      },
      "source": [
        "'Exercício 01:'\n",
        "x_i = 0\n",
        "x_f = 10\n",
        "dx = 1\n",
        "r_ana = 0.9999546000702375\n",
        "n_steps = round((x_f - x_i)/dx)\n",
        "\n",
        "x = np.arange(x_i,x_f,dx)\n",
        "condicao = 100\n",
        "\n",
        "while (abs(condicao) > 0.001):\n",
        "    x = np.arange(x_i,x_f,dx)\n",
        "    S1= 0\n",
        "    for xi in x:\n",
        "        S1 = S1+ math.exp(-xi) * dx\n",
        "    condicao = abs(S1 - r_ana)/r_ana\n",
        "    dx = dx/10\n",
        "    print(condicao,dx,S1) \n",
        "#print(f\"Soma de {n_steps} caixinhas = \",S1) "
      ],
      "execution_count": 32,
      "outputs": [
        {
          "output_type": "stream",
          "text": [
            "0.5819767068693262 0.1 1.5819048852379485\n",
            "0.050833194477505665 0.01 1.0507854867242843\n",
            "0.005008333319445099 0.001 1.0049627060117017\n",
            "0.0005000833333330618 0.0001 1.0004546606998224\n"
          ],
          "name": "stdout"
        }
      ]
    },
    {
      "cell_type": "code",
      "metadata": {
        "id": "eQ5B4jaMw44T",
        "outputId": "bf153671-2ac8-44a9-da60-e9e00ba125f5",
        "colab": {
          "base_uri": "https://localhost:8080/",
          "height": 580
        }
      },
      "source": [
        "'Exercício 02:'\n",
        "import matplotlib.pyplot as plt\n",
        "import numpy as np\n",
        "\n",
        "def f(x):\n",
        "    return np.exp(-x)\n",
        "\n",
        "def integral_esquerda(f,a,b,dx):\n",
        "    x = np.arange(a,b,dx)\n",
        "    sum1 = 0\n",
        "    for i in range(len(x)-1):\n",
        "        sum1 = sum1 + f(x[i]) * dx\n",
        "    print(f'Soma pela esquerda = {sum1}')         \n",
        "    return x\n",
        "\n",
        "def integral_direita(f,a,b,dx):\n",
        "    x = np.arange(a,b,dx)\n",
        "    sum2 = 0\n",
        "    for i in range(1,len(x)):\n",
        "        sum2 = sum2 + f(x[i]) * dx\n",
        "    print(f'Soma pela direita = {sum2}')      \n",
        "    return x\n",
        "\n",
        "integral_esquerda(f, a=0, b=10, dx= 0.01)\n",
        "integral_direita(f, a=0, b=10, dx= 0.01)    \n",
        "\n",
        "plt.figure(1)\n",
        "plt.title('Integral pela esquerda')\n",
        "y1 = [math.exp(-xi) for xi in x]\n",
        "plt.bar(x, y1, color=\"purple\", align=\"edge\", width=1)\n",
        "plt.plot(x,y1)\n",
        "plt.show()\n",
        "\n",
        "plt.figure(2)\n",
        "plt.title('Integral pela direita')\n",
        "y2 = [math.exp(-xi) for xi in x]\n",
        "plt.bar(x, y2, color=\"green\", align=\"edge\", width=1)\n",
        "plt.plot(x,y2)\n",
        "plt.show()\n",
        "\n"
      ],
      "execution_count": 33,
      "outputs": [
        {
          "output_type": "stream",
          "text": [
            "Soma pela esquerda = 1.0049622474496354\n",
            "Soma pela direita = 0.9949627060117006\n"
          ],
          "name": "stdout"
        },
        {
          "output_type": "display_data",
          "data": {
            "image/png": "[encoded data removed]",
            "text/plain": [
              "<Figure size 432x288 with 1 Axes>"
            ]
          },
          "metadata": {
            "tags": [],
            "needs_background": "light"
          }
        },
        {
          "output_type": "display_data",
          "data": {
            "image/png": "[encoded data removed]",
            "text/plain": [
              "<Figure size 432x288 with 1 Axes>"
            ]
          },
          "metadata": {
            "tags": [],
            "needs_background": "light"
          }
        }
      ]
    },
    {
      "cell_type": "code",
      "metadata": {
        "id": "CtRAcS--dCn6",
        "outputId": "cd4d4f92-6b3d-44b4-9391-9798bd1f3874",
        "colab": {
          "base_uri": "https://localhost:8080/"
        }
      },
      "source": [
        "'Exercício 03:'\n",
        "\n",
        "import matplotlib.pyplot as plt\n",
        "import numpy as np\n",
        "\n",
        "def f(x):\n",
        "    return np.exp(-x)\n",
        "\n",
        "def trapezio(f,a,b,n=100):\n",
        "    \"\"\"f : função\n",
        "    a , b : números\n",
        "        Intervalo de Integração [a,b]\n",
        "    n : inteiro\n",
        "        quantidade de subintervalos entre [a,b]\n",
        "    \"\"\"\n",
        "    x = np.linspace(a,b,n+1) # N+1 points make N subintervals\n",
        "    y = f(x)\n",
        "    y_direita = y[1:] # pontoa à direita\n",
        "    y_esquerda = y[:-1] # pontos à esquerda\n",
        "    dx = (b - a)/n\n",
        "    t = (dx/2) * np.sum(y_direita + y_esquerda)\n",
        "    print(f'O resultado para esta integração é: {t:}')\n",
        "    return t\n",
        "\n",
        "trapezio(f,0,10)\n",
        "\n",
        "#plt.figure(1)\n",
        "#plt.title('Integral Método: Trapézio')\n",
        "#y = [math.exp(-xi) for xi in x]\n",
        "#plt.bar(x, y, color=\"purple\", align=\"edge\", width=1)\n",
        "#plt.plot(x,y)\n",
        "#plt.show()\n"
      ],
      "execution_count": 34,
      "outputs": [
        {
          "output_type": "stream",
          "text": [
            "O resultado para esta integração é: 1.0007877567207717\n"
          ],
          "name": "stdout"
        },
        {
          "output_type": "execute_result",
          "data": {
            "text/plain": [
              "1.0007877567207717"
            ]
          },
          "metadata": {
            "tags": []
          },
          "execution_count": 34
        }
      ]
    },
    {
      "cell_type": "code",
      "metadata": {
        "id": "F14Y7UXfeeBz",
        "outputId": "a28243b2-e8ae-428b-b9e2-ce929655d0aa",
        "colab": {
          "base_uri": "https://localhost:8080/"
        }
      },
      "source": [
        "'Exercício 04:'\n",
        "\n",
        "from math import cos, pi\n",
        "from scipy.integrate import quad\n",
        "\n",
        "# função que vamos integrar:\n",
        "def f(x):\n",
        "    return cos(2*x)\n",
        "# Chama o quad para integrar f de 0 até 2*pi\n",
        "res, err = quad(f, 0, pi)\n",
        "\n",
        "print(\"O resultado numérico é: {:f} (+-{:g})\"\n",
        "    .format(res, err))"
      ],
      "execution_count": 35,
      "outputs": [
        {
          "output_type": "stream",
          "text": [
            "O resultado numérico é: 0.000000 (+-2.23587e-14)\n"
          ],
          "name": "stdout"
        }
      ]
    },
    {
      "cell_type": "code",
      "metadata": {
        "id": "IpVfNZuBjCHA",
        "outputId": "a7f3d0a4-3aa9-4fdf-e771-028945760e7c",
        "colab": {
          "base_uri": "https://localhost:8080/"
        }
      },
      "source": [
        "'Exercício 04:'\n",
        "\n",
        "from math import sin, pi\n",
        "from scipy.integrate import quad\n",
        "\n",
        "# função que vamos integrar:\n",
        "def f(x):\n",
        "    return sin(x)\n",
        "# Chama o quad para integrar f de 0 até 2*pi\n",
        "res, err = quad(f, 0, 2*pi)\n",
        "\n",
        "print(\"O resultado numérico é: {:f} (+-{:g})\"\n",
        "    .format(res, err))"
      ],
      "execution_count": 36,
      "outputs": [
        {
          "output_type": "stream",
          "text": [
            "O resultado numérico é: 0.000000 (+-4.39989e-14)\n"
          ],
          "name": "stdout"
        }
      ]
    },
    {
      "cell_type": "code",
      "metadata": {
        "id": "dGL_kYcpkbu1",
        "outputId": "9640abc3-3e0d-4a14-e10e-508856330756",
        "colab": {
          "base_uri": "https://localhost:8080/"
        }
      },
      "source": [
        "'Exercício 05:'\n",
        "from math import sinh, pi\n",
        "from scipy.integrate import quad\n",
        "\n",
        "# função que vamos integrar:\n",
        "def f(x):\n",
        "    return sinh(x)\n",
        "# Chama o quad para integrar f de 0 até 10\n",
        "res, err = quad(f, 0, 10)\n",
        "\n",
        "print(\"O resultado numérico é: {:f} (+-{:g})\"\n",
        "    .format(res, err))"
      ],
      "execution_count": 37,
      "outputs": [
        {
          "output_type": "stream",
          "text": [
            "O resultado numérico é: 11012.232920 (+-3.1191e-10)\n"
          ],
          "name": "stdout"
        }
      ]
    },
    {
      "cell_type": "code",
      "metadata": {
        "id": "9uxDAAx-k3Yh",
        "outputId": "32df3f95-96d9-4379-c4b9-fdaff583c254",
        "colab": {
          "base_uri": "https://localhost:8080/"
        }
      },
      "source": [
        "'Exercício 05'\n",
        "from math import cosh, pi\n",
        "from scipy.integrate import quad\n",
        "\n",
        "# função que vamos integrar:\n",
        "def f(x):\n",
        "    return cosh(x)\n",
        "# Chama o quad para integrar f de 0 até 10\n",
        "res, err = quad(f, 0, 10)\n",
        "\n",
        "print(\"O resultado numérico é: {:f} (+-{:g})\"\n",
        "    .format(res, err))"
      ],
      "execution_count": 38,
      "outputs": [
        {
          "output_type": "stream",
          "text": [
            "O resultado numérico é: 11013.232875 (+-3.11972e-10)\n"
          ],
          "name": "stdout"
        }
      ]
    },
    {
      "cell_type": "markdown",
      "metadata": {
        "id": "6UKLyVZ7eyxe"
      },
      "source": [
        "### Exercícios extras de resolução numérica de equações diferenciais\n",
        "\n",
        "1. Imagine que tem um/a maratonista treinando, que num trecho de $5 km$ tem velocidade quase constante de $12 km/h$. Produza uma lista distância percorrida em intervalos de 1 minuto.\n",
        "\n",
        "1. O/A mesmo/a atleta no seguinte trecho acelera por $200$ metros até chegar em $15 km/h$ por $2 km$. Queremos obter uma tabela ou gráfico da distância percorrida en função do tempo e o tempo total para chegar em $7 km$, faça isto utilizando listas.\n",
        "\n",
        "1. Considere um péndulo simples num plano. O comprimento da linha é $1$ metro, a massa é $0,2 kg$ e a aceleração de gravidade $9,8 m/s^2$. Faça um gráfico ou crie uma tabela para a posição em coordenadas cartesianas em função do tempo, utilizando listas.\n",
        "\n",
        "\n",
        "- (opcional) Pesquise sobre o pacote numpy e os objetos desse pacote chamados array, tente utilizálos ao invés de listas para resolver os exercícios.\n",
        "\n",
        "- (opcional) Pesquise sobre o pacote scipy e seu modulo integrate para resolver integrações ou equações diferenciais numéricamente.\n"
      ]
    },
    {
      "cell_type": "markdown",
      "metadata": {
        "id": "5jtFSZnpP9AV"
      },
      "source": [
        ""
      ]
    }
  ]
}