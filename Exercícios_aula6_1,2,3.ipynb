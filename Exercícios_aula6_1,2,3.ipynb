{
  "nbformat": 4,
  "nbformat_minor": 0,
  "metadata": {
    "kernelspec": {
      "display_name": "Python 3",
      "language": "python",
      "name": "python3"
    },
    "language_info": {
      "codemirror_mode": {
        "name": "ipython",
        "version": 3
      },
      "file_extension": ".py",
      "mimetype": "text/x-python",
      "name": "python",
      "nbconvert_exporter": "python",
      "pygments_lexer": "ipython3",
      "version": "3.6.4"
    },
    "colab": {
      "name": "Exercícios_aula6_1,2,3.ipynb",
      "provenance": [],
      "collapsed_sections": [],
      "include_colab_link": true
    }
  },
  "cells": [
    {
      "cell_type": "markdown",
      "metadata": {
        "id": "view-in-github",
        "colab_type": "text"
      },
      "source": [
        "<a href=\"https://colab.research.google.com/github/NamSugata/Aula_Python/blob/master/Exerc%C3%ADcios_aula6_1%2C2%2C3.ipynb\" target=\"_parent\"><img src=\"https://colab.research.google.com/assets/colab-badge.svg\" alt=\"Open In Colab\"/></a>"
      ]
    },
    {
      "cell_type": "markdown",
      "metadata": {
        "id": "7xJo458eRIz_"
      },
      "source": [
        "### Exercícios\n",
        "\n",
        "1. Considere o seguinte script:"
      ]
    },
    {
      "cell_type": "code",
      "metadata": {
        "id": "NajHrqwGdYXZ",
        "outputId": "58e3e498-9fab-4470-d753-4713a85d6613",
        "colab": {
          "base_uri": "https://localhost:8080/",
          "height": 193
        }
      },
      "source": [
        "!pip3 install ColabTurtle"
      ],
      "execution_count": 20,
      "outputs": [
        {
          "output_type": "stream",
          "text": [
            "Collecting ColabTurtle\n",
            "  Downloading https://files.pythonhosted.org/packages/49/01/6da7091c2c6c917cce99c000b89acb6aa27b66ef6eafc0c0ccf59b98694f/ColabTurtle-2.0.0.tar.gz\n",
            "Building wheels for collected packages: ColabTurtle\n",
            "  Building wheel for ColabTurtle (setup.py) ... \u001b[?25l\u001b[?25hdone\n",
            "  Created wheel for ColabTurtle: filename=ColabTurtle-2.0.0-cp36-none-any.whl size=4032 sha256=78aa1d5829bcfd830d997bc9086021f3608483c3eb7eb75138830bd19cbf0883\n",
            "  Stored in directory: /root/.cache/pip/wheels/a8/29/ec/ad346f0042ae467cc74f4378916348faf975b07890651dcae7\n",
            "Successfully built ColabTurtle\n",
            "Installing collected packages: ColabTurtle\n",
            "Successfully installed ColabTurtle-2.0.0\n"
          ],
          "name": "stdout"
        }
      ]
    },
    {
      "cell_type": "code",
      "metadata": {
        "id": "vB4IycDrhrGa"
      },
      "source": [
        "import ColabTurtle.Turtle as tess\n",
        "\n",
        "def draw_bar(t, height):\n",
        "    \"\"\" Get turtle t to draw one bar, of height. \"\"\"\n",
        "    t.forward(height)\n",
        "    t.right(90)\n",
        "    t.forward(40)\n",
        "    t.right(90)\n",
        "    t.forward(height)\n",
        "    t.left(90)\n",
        "    t.forward(10)\n",
        "    t.left(90)\n",
        "\n",
        "tess.initializeTurtle()   # inicialização\n",
        "\n",
        "tess.color(\"blue\")\n",
        "tess.bgcolor(\"orange\")\n",
        "tess.penup() #levantar a caneta\n",
        "tess.goto(10,450) #mudar posicao de inicio \n",
        "tess.pendown() #abaixar a caneta\n",
        "\n",
        "xs = [48,117,200,240,160,260,220]\n",
        "\n",
        "for a in xs:\n",
        "    draw_bar(tess, a)"
      ],
      "execution_count": null,
      "outputs": []
    },
    {
      "cell_type": "markdown",
      "metadata": {
        "id": "7UXSE3AaRI0H"
      },
      "source": [
        "1) Modifique-o para que o resultado seja um **histograma**, como o mostrado na figura abaixo.\n",
        "Amplie seu script para que seja possível passar ao programa dados (frequência), com o valor do bin (classe de frequência) e cores determinados pelo usuário.\n",
        "\n",
        "\n",
        "Adicione declarações condicionais à função para casos passíveis de gerar erros, como por exemplo, se alguma variável do argumento da \n",
        "função não for definida.\n",
        "\n",
        "***Exemplo***: amplie sua função para tomar como argumento uma lista que contenha as frequências do histograma e verifique que o argumento realmente é uma lista. Caso não seja, imprima uma mensagem de erro.\n",
        "\n",
        "![](https://github.com/malbouis/Python_intro/blob/master/aulas_2019/pics/histo.png)\n",
        "\n",
        "2) Repita o exercício 1) usando **Manipulação de exceção em Python** (pesquisem!!!!), com as cláusulas ```try``` e ```except```.  <=== **A ser apresentado em sala de aula**.\n",
        "\n",
        "3) **Desafio**: Faça um programa equivalente ao do item 1., utilizando ***matplotlib*** e ***numpy*** ao invés de ***turtle***"
      ]
    },
    {
      "cell_type": "markdown",
      "metadata": {
        "id": "t-GDCRpkPDqA"
      },
      "source": [
        "Solução dos Exercícios:"
      ]
    },
    {
      "cell_type": "code",
      "metadata": {
        "id": "CdKckk-JPB_0"
      },
      "source": [
        "\"Exercício 01 - funções\"\n",
        "def cor_barra():\n",
        "    cor = input('Digite uma cor: ')\n",
        "    if cor in ('red', 'green', 'orange', 'purple', 'white', 'blue'):\n",
        "\t\t    return cores.append(cor)\n",
        "    else:\n",
        "        print('Digite uma cor válida (red, green, orange, purple, white, blue.)')\t\t\n",
        "\n",
        "def altura():\n",
        "    altura = input('Digite a altura')\n",
        "    if (altura //1 == 1):\n",
        "        return altura.append(altura)\n",
        "    else:\n",
        "        print('Digite um número inteiro para altura.')      "
      ],
      "execution_count": 46,
      "outputs": []
    },
    {
      "cell_type": "code",
      "metadata": {
        "id": "JhBx6hIg_MTw"
      },
      "source": [
        "'Exercício 01 - usando listas:'\n",
        "\n",
        "import ColabTurtle.Turtle as joana\n",
        "\n",
        "def fazer_barra(t, n, altura, cores, largura):\n",
        "    j = 0\n",
        "    while j < n:\n",
        "        draw_bar(t, altura[j], cores[j], largura)\n",
        "        j += 1\n",
        "\n",
        "def pos_inicial(t):\n",
        "    t.penup() #levantar a caneta\n",
        "    t.goto(10,450) #mudar posicao de inicio \n",
        "    t.pendown() #abaixar a caneta\n",
        "\n",
        "def draw_bar(t, altura, cor, bin):\n",
        "    \"\"\" Desenha uma barra com altura escolhida pelo usuário. \"\"\"\n",
        "    t.color(cor)\n",
        "    t.forward(altura)\n",
        "    t.right(90)\n",
        "    t.forward(bin)\n",
        "    t.right(90)\n",
        "    t.forward(altura)\n",
        "    t.left(90)\n",
        "    t.penup()\n",
        "    t.forward(10)\n",
        "    t.pendown()\n",
        "    t.left(90)\n",
        "\n",
        "altura = []\n",
        "cores = []\n",
        "i = 0\n",
        "\n",
        "n = int(input('Digite o numero de elementos: '))\n",
        "largura = int(input('Digite a largura da coluna: '))\n",
        "\n",
        "while i < n:\n",
        "    a = int(input('Digite a altura: '))\n",
        "    altura.append(a)\n",
        "    b = input('Digite a cor: ')\n",
        "    cores.append(b)\n",
        "    i += 1\n",
        "    \n",
        "joana.initializeTurtle()   # inicialização\n",
        "joana.speed(10)\n",
        "joana.bgcolor(\"orange\")\n",
        "pos_inicial(joana)\n",
        "fazer_barra(joana, n, altura, cores, largura)"
      ],
      "execution_count": null,
      "outputs": []
    },
    {
      "cell_type": "code",
      "metadata": {
        "id": "DmM_RblvDPxM"
      },
      "source": [
        "\"Exercício 01 - condicionais:\"\n",
        "\n",
        "import ColabTurtle.Turtle as joana\n",
        "\n",
        "def fazer_barra(t, n, altura, cores, largura):\n",
        "    j = 0\n",
        "    while j < n:\n",
        "        draw_bar(t, altura[j], cores[j], largura)\n",
        "        j += 1\n",
        "\n",
        "def pos_inicial(t):\n",
        "    t.penup() #levantar a caneta\n",
        "    t.goto(10,450) #mudar posicao de inicio \n",
        "    t.pendown() #abaixar a caneta\n",
        "\n",
        "def draw_bar(t, altura, cor, bin):\n",
        "    \"\"\" Desenha uma barra com altura escolhida pelo usuário. \"\"\"\n",
        "    t.color(cor)\n",
        "    t.forward(altura)\n",
        "    t.right(90)\n",
        "    t.forward(bin)\n",
        "    t.right(90)\n",
        "    t.forward(altura)\n",
        "    t.left(90)\n",
        "    t.penup()\n",
        "    t.forward(10)\n",
        "    t.pendown()\n",
        "    t.left(90)\n",
        "\n",
        "altura = []\n",
        "cores = []\n",
        "i = 0\n",
        "\n",
        "n = int(input('Digite o numero de elementos: '))\n",
        "largura = int(input('Digite a largura da coluna: '))\n",
        "\n",
        "\n",
        "while i < n:\n",
        "    a = int(input('Digite a altura: '))\n",
        "    altura.append(a)\n",
        "    b = input('Digite a cor: ')\n",
        "    if b in ('white', 'yellow', 'orange', 'red', 'green', 'blue', 'purple', 'grey'):\n",
        "        cores.append(b)\n",
        "    else:\n",
        "        print('Digite uma cor válida.')\n",
        "    i += 1\n",
        "    \n",
        "joana.initializeTurtle()   # inicialização\n",
        "joana.speed(10)\n",
        "joana.bgcolor(\"black\")\n",
        "pos_inicial(joana)\n",
        "fazer_barra(joana, n, altura, cores, largura)"
      ],
      "execution_count": null,
      "outputs": []
    },
    {
      "cell_type": "code",
      "metadata": {
        "id": "ClaItP-kOULI"
      },
      "source": [
        "'Exercício 2'\n",
        "import ColabTurtle.Turtle as tess\n",
        "\n",
        "def fazer_barra(t, n, altura, cores, largura):\n",
        "    j = 0\n",
        "    while j < n:\n",
        "        draw_bar(t, altura[j], cores[j], largura)\n",
        "        j += 1\n",
        "\n",
        "def pos_inicial(t):\n",
        "    t.penup() #levantar a caneta\n",
        "    t.goto(10,450) #mudar posicao de inicio \n",
        "    t.pendown() #abaixar a caneta\n",
        "\n",
        "def draw_bar(t, height, cor, bin):\n",
        "    \"\"\" Get turtle t to draw one bar, of height. \"\"\"\n",
        "    t.color(cor)\n",
        "    t.forward(height)\n",
        "    t.right(90)\n",
        "    t.forward(bin)\n",
        "    t.right(90)\n",
        "    t.forward(height)\n",
        "    t.left(90)\n",
        "    t.penup()\n",
        "    t.forward(10)\n",
        "    t.pendown()\n",
        "    t.left(90)\n",
        "\n",
        "def cor():\n",
        "    while True:\n",
        "        try:\n",
        "            b = input('Digite a cor: ')\n",
        "            if b in ('white', 'yellow', 'orange', 'red', 'blue', 'purple', 'grey'):\n",
        "                return cores.append(b)\n",
        "                break\n",
        "        except ValueError:\n",
        "            print(\"Digite uma cor válida.\")\n",
        "\n",
        "altura = []\n",
        "cores = []\n",
        "\n",
        "n = int(input('Digite a quantidade de elementos: '))\n",
        "largura = int(input('Digite a largura: '))\n",
        "print()\n",
        "\n",
        "i = 0\n",
        "while i < n:\n",
        "    a = int(input('Digite a altura: '))\n",
        "    altura.append(a)\n",
        "    cor()\n",
        "    print()\n",
        "    i += 1\n",
        "    \n",
        "tess.initializeTurtle()   # inicialização\n",
        "tess.speed(10)\n",
        "tess.bgcolor(\"black\")\n",
        "pos_inicial(tess)\n",
        "fazer_barra(tess, n, altura, cores, largura)"
      ],
      "execution_count": null,
      "outputs": []
    },
    {
      "cell_type": "code",
      "metadata": {
        "id": "IEVXkDmNOKD8"
      },
      "source": [
        "'Exercício 03:'\n",
        "import matplotlib.pyplot as plt\n",
        "\n",
        "meses = [0, 0, 15, 45, 10, 0, 35, 60, 0, 60, 0, 0] \n",
        "plt.hist(meses, bins=10, rwidth=0.95, color='purple')\n",
        "plt.xlabel(\"mês\")\n",
        "plt.ylabel(\"Frequência\")\n",
        "plt.show()"
      ],
      "execution_count": null,
      "outputs": []
    },
    {
      "cell_type": "code",
      "metadata": {
        "id": "1KOTa7JyKZsv"
      },
      "source": [
        "help(plt.hist)\n"
      ],
      "execution_count": null,
      "outputs": []
    }
  ]
}