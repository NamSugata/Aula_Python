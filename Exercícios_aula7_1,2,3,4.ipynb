{
  "nbformat": 4,
  "nbformat_minor": 0,
  "metadata": {
    "kernelspec": {
      "display_name": "Python 3",
      "language": "python",
      "name": "python3"
    },
    "language_info": {
      "codemirror_mode": {
        "name": "ipython",
        "version": 3
      },
      "file_extension": ".py",
      "mimetype": "text/x-python",
      "name": "python",
      "nbconvert_exporter": "python",
      "pygments_lexer": "ipython3",
      "version": "3.6.4"
    },
    "colab": {
      "name": "Exercícios_aula7_1,2,3,4.ipynb",
      "provenance": [],
      "collapsed_sections": [],
      "include_colab_link": true
    }
  },
  "cells": [
    {
      "cell_type": "markdown",
      "metadata": {
        "id": "view-in-github",
        "colab_type": "text"
      },
      "source": [
        "<a href=\"https://colab.research.google.com/github/NamSugata/Aula_Python/blob/master/Exerc%C3%ADcios_aula7_1%2C2%2C3%2C4.ipynb\" target=\"_parent\"><img src=\"https://colab.research.google.com/assets/colab-badge.svg\" alt=\"Open In Colab\"/></a>"
      ]
    },
    {
      "cell_type": "markdown",
      "metadata": {
        "id": "_L86htJ301CQ"
      },
      "source": [
        "## Exercícios\n",
        "\n",
        "1) A **conjectura de Collatz**, diz que \"Todos os inteiros positivos irão eventualmente convergir para 1 usando as regras do Collatz\". Faça um programa que verifique a conjectura de Collatz para alguns valores. As regras de Collatz são: Dado um número ***n***: \n",
        "   * se ***n*** for par, divida-o por ***2***;\n",
        "   * Se ***n*** for ímpar, atualize-o para 3*n + 1\n",
        "  \n",
        "  \n",
        "2) Modifique a função counter para contar o número de vezes que os dígitos 0 e 5 aparecem em um dado número n. Por exemplo, n = 10568, tem 2 dígitos 0 ou 5. \n",
        "\n",
        "3) Encapsule e generalize a seguinte declaração:"
      ]
    },
    {
      "cell_type": "code",
      "metadata": {
        "id": "5surCllG01CR"
      },
      "source": [
        "for i in [12, 16, 17, 24, 29]:\n",
        "    if i % 2 == 1:  # If the number is odd\n",
        "       break        #  ... immediately exit the loop\n",
        "    print(i)\n",
        "print(\"done\")"
      ],
      "execution_count": null,
      "outputs": []
    },
    {
      "cell_type": "markdown",
      "metadata": {
        "id": "DlANgSf501CV"
      },
      "source": [
        "4) O método de Newton para raiz quadrada. Suponha que você queira calcular a raiz quadrada de ***n***. Se você começar com quase qualquer aproximação, poderá calcular uma aproximação melhor (mais próxima da resposta real) com a seguinte fórmula: melhor = (approx + n/approx)/2\n",
        "\n",
        "\n",
        "Usando um loop e repetindo esta fórmula até que a melhor aproximação se aproxime o suficiente da anterior (podemos considerar uma diferença de 0,001), podemos escrever uma função para calcular a raiz quadrada.\n",
        "\n",
        "\n",
        "Esse é um exemplo de repetição **indefinida**. Com qual tipo de loop você deve escrever o seu programa?"
      ]
    },
    {
      "cell_type": "markdown",
      "metadata": {
        "id": "bxQKL5zwdm4l"
      },
      "source": [
        "Solução dos Exercícios:"
      ]
    },
    {
      "cell_type": "code",
      "metadata": {
        "id": "B2vTqccpOWzG",
        "outputId": "78d665f0-f63c-4c81-f2c2-91ff94e9226d",
        "colab": {
          "base_uri": "https://localhost:8080/",
          "height": 121
        }
      },
      "source": [
        "'Exercício 01'\n",
        "\n",
        "n = int(input(\"Digite um número inteiro: \"))\n",
        "\n",
        "while (n > 1): \n",
        "    if (n%2 == 0):\n",
        "        n = n/2\n",
        "    else:\n",
        "        n = 3*n + 1\n",
        "    print (n) \n",
        "           "
      ],
      "execution_count": null,
      "outputs": [
        {
          "output_type": "stream",
          "text": [
            "Digite um número inteiro: 5\n",
            "16\n",
            "8.0\n",
            "4.0\n",
            "2.0\n",
            "1.0\n"
          ],
          "name": "stdout"
        }
      ]
    },
    {
      "cell_type": "code",
      "metadata": {
        "id": "LIJlwMdNZsLK",
        "outputId": "603fc651-e55f-4dd6-c621-fee237ea4e6a",
        "colab": {
          "base_uri": "https://localhost:8080/",
          "height": 35
        }
      },
      "source": [
        "'Exercício 02:'\n",
        "def count(x):\n",
        "    count = 0\n",
        "    while x!=0:\n",
        "        if x % 10 == 0 or x % 10 == 5:\n",
        "            count = count + 1\n",
        "        x = x // 10\n",
        "    return count\n",
        "\n",
        "\n",
        "count(123450000)\n",
        "\n"
      ],
      "execution_count": 3,
      "outputs": [
        {
          "output_type": "execute_result",
          "data": {
            "text/plain": [
              "5"
            ]
          },
          "metadata": {
            "tags": []
          },
          "execution_count": 3
        }
      ]
    },
    {
      "cell_type": "code",
      "metadata": {
        "id": "yBFOyCij7ws4",
        "outputId": "ed6b44dd-dc6a-4cf9-add1-7c6ee799c500",
        "colab": {
          "base_uri": "https://localhost:8080/",
          "height": 69
        }
      },
      "source": [
        "'Exercício 3:'\n",
        "\n",
        "def check_odd(numbers):\n",
        "    for i in numbers:\n",
        "        if i % 2 == 1:  # If the number is odd\n",
        "            break        #  ... immediately exit the loop\n",
        "        print(i)\n",
        "    print(\"done\")\n",
        "\n",
        "check_odd([12, 16, 17, 24, 29])      "
      ],
      "execution_count": 5,
      "outputs": [
        {
          "output_type": "stream",
          "text": [
            "12\n",
            "16\n",
            "done\n"
          ],
          "name": "stdout"
        }
      ]
    },
    {
      "cell_type": "code",
      "metadata": {
        "id": "pZuIb8Pu9FBV",
        "outputId": "8c3b642a-846b-45a4-d782-e6dc7cef4d3e",
        "colab": {
          "base_uri": "https://localhost:8080/",
          "height": 52
        }
      },
      "source": [
        "'Exercício 4:'\n",
        "\n",
        "def newton_metodo(x):\n",
        "    aprox = x/2.5 \n",
        "    count = 0\n",
        "    while True:\n",
        "          count = count + 1 \n",
        "          melhor = (aprox + x/aprox)/2.0\n",
        "          if aprox - melhor == 0:\n",
        "              return melhor\n",
        "          aprox = melhor\n",
        "\n",
        "x = int(input('Digite o número para calcular raíz quadrada: '))\n",
        "raiz = newton_metodo(x)\n",
        "\n",
        "print('O resultado para a raíz quadrada é: ', round(raiz,2))\n",
        "\n"
      ],
      "execution_count": 17,
      "outputs": [
        {
          "output_type": "stream",
          "text": [
            "Digite o número para calcular raíz quadrada: 45\n",
            "O resultado para a raíz quadrada é:  6.71\n"
          ],
          "name": "stdout"
        }
      ]
    }
  ]
}