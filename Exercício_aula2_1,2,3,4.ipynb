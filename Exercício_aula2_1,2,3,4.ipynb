{
  "nbformat": 4,
  "nbformat_minor": 0,
  "metadata": {
    "kernelspec": {
      "display_name": "Python 3",
      "language": "python",
      "name": "python3"
    },
    "language_info": {
      "codemirror_mode": {
        "name": "ipython",
        "version": 3
      },
      "file_extension": ".py",
      "mimetype": "text/x-python",
      "name": "python",
      "nbconvert_exporter": "python",
      "pygments_lexer": "ipython3",
      "version": "3.7.0"
    },
    "colab": {
      "name": "Exercício_aula2_1,2,3,4.ipynb",
      "provenance": [],
      "collapsed_sections": [],
      "include_colab_link": true
    }
  },
  "cells": [
    {
      "cell_type": "markdown",
      "metadata": {
        "id": "view-in-github",
        "colab_type": "text"
      },
      "source": [
        "<a href=\"https://colab.research.google.com/github/NamSugata/Aula_Python/blob/master/Exerc%C3%ADcio_aula2_1%2C2%2C3%2C4.ipynb\" target=\"_parent\"><img src=\"https://colab.research.google.com/assets/colab-badge.svg\" alt=\"Open In Colab\"/></a>"
      ]
    },
    {
      "cell_type": "markdown",
      "metadata": {
        "id": "Vz8GxGVqyAm5",
        "colab_type": "text"
      },
      "source": [
        "## Exercícios\n",
        "\n",
        "### Exercício 1:\n",
        "Considere as seguintes declarações de atribuições:\n",
        "   * largura = 17 \n",
        "   * altura = 12.0\n",
        "   * delimitador = \".\"\n",
        "   \n",
        "Para cada uma das expressões a seguir, escreva o valor das expressões e o tipo (do valor da expressão):\n",
        "1. largura/2\n",
        "1. largura/2.0\n",
        "1. altura/3\n",
        "1. 1 + 2 * 5\n",
        "1. delimitador*5\n",
        "\n",
        "Use o interpretador de python para verificar suas respostas.\n",
        "\n",
        "### Exercício 2:\n",
        "O volume de uma esfera de raio *r* é $\\frac{4}{3} \\pi r^{3}$ \n",
        "\n",
        "Qual é o volume de uma esfera de raio 5?\n",
        "\n",
        "### Exercício 3:\n",
        "Suponha que o preço de um livro seja 24.95 reais, porém as livrarias têm desconto de 40%. Os custos de envio são de 3.00 reais para o primeiro livro e 0.75 reais para os livros adicionais. Qual é o custo total da compra de 60 livros?  \n",
        "\n",
        "### Exercício 4:\n",
        "Um laser vermelho (com comprimento de onda $\\lambda = 632.8$ nm) incide em uma fenda dupla produzindo um padrão de interferência com franjas claras e escuras, em um anteparo situado a uma distância D = 1.98 m da fenda. Calcule a distância $\\Delta y$ entre dois máximos consecutivos de interferência. Considere o espaçamento entre as fendas, $d$, como sendo igual a 0.250 mm.\n",
        "*Dica: a distância entre dois máximos de interferência consecutivos pode ser aproximada por $\\Delta y = \\frac{\\lambda D}{d}$.*"
      ]
    },
    {
      "cell_type": "code",
      "metadata": {
        "id": "M3nTDYmJnybc",
        "colab_type": "code",
        "colab": {
          "base_uri": "https://localhost:8080/",
          "height": 35
        },
        "outputId": "9953a6a3-5302-4fbb-c009-c2d8ffc51745"
      },
      "source": [
        "'Exercício 01'\n",
        "\n",
        "largura = 17\n",
        "altura = 12.0\n",
        "delimitador = \".\"\n",
        "\n",
        "x = largura/2\n",
        "y = largura/2.0\n",
        "z = altura/3\n",
        "w = 1 + 2 * 5\n",
        "v = delimitador*5\n",
        "\n",
        "print(x, type(x),y,type(y),z,type(z),w,type(w),v, type(v))\n",
        "\n"
      ],
      "execution_count": null,
      "outputs": [
        {
          "output_type": "stream",
          "text": [
            "8.5 <class 'float'> 8.5 <class 'float'> 4.0 <class 'float'> 11 <class 'int'> ..... <class 'str'>\n"
          ],
          "name": "stdout"
        }
      ]
    },
    {
      "cell_type": "code",
      "metadata": {
        "id": "fsJoDsUJpaev",
        "colab_type": "code",
        "colab": {
          "base_uri": "https://localhost:8080/",
          "height": 35
        },
        "outputId": "15d31044-c237-4588-93c8-c553c6967ea9"
      },
      "source": [
        "'Exercício 02'\n",
        "\n",
        "import math\n",
        "r = 5\n",
        "v = 3/4*(math.pi * (r**3))\n",
        "print('O volume da esfera de raio 5 é: ',v,'u.v.')"
      ],
      "execution_count": null,
      "outputs": [
        {
          "output_type": "stream",
          "text": [
            "O volume da esfera de raio 5 é:  294.5243112740431 u.v.\n"
          ],
          "name": "stdout"
        }
      ]
    },
    {
      "cell_type": "code",
      "metadata": {
        "id": "mzi3eQiOtwlt",
        "colab_type": "code",
        "colab": {
          "base_uri": "https://localhost:8080/",
          "height": 35
        },
        "outputId": "c9f63c22-2a97-4cd4-9771-ffd91e72b2a9"
      },
      "source": [
        "'Exercício 03'\n",
        "\n",
        "livro = 24.95\n",
        "desconto = 0.40\n",
        "custo_envio = 3.00\n",
        "custo_adicionais = 0.75\n",
        "\n",
        "valor_compra = 60 * (livro - livro * desconto) \n",
        "valor_frete = 59 * custo_adicionais + custo_envio \n",
        "\n",
        "preço_total = valor_compra + valor_frete\n",
        "\n",
        "print('O preço total é de {:.2f} Reais.'.format(preço_total))"
      ],
      "execution_count": null,
      "outputs": [
        {
          "output_type": "stream",
          "text": [
            "O preço total é de 945.45 Reais.\n"
          ],
          "name": "stdout"
        }
      ]
    },
    {
      "cell_type": "code",
      "metadata": {
        "id": "Pw07eWPX0HwU",
        "colab_type": "code",
        "colab": {
          "base_uri": "https://localhost:8080/",
          "height": 35
        },
        "outputId": "407feeac-cd2d-4384-ae4b-d99abd2ae066"
      },
      "source": [
        "'Exercício 4'\n",
        "\n",
        "comprimento_onda = 632.8 * 10 ** (-9)\n",
        "distancia_anteparo = 1.98\n",
        "distancia_fendas = 0.250 * 10 ** (-3)\n",
        "\n",
        "y = (comprimento_onda * distancia_anteparo)/ distancia_fendas\n",
        "\n",
        "print('A distância entre os mávimos consecutivos é de: {} m'.format(y) )"
      ],
      "execution_count": 18,
      "outputs": [
        {
          "output_type": "stream",
          "text": [
            "A distância entre os mávimos consecutivos é: 0.005011776 m\n"
          ],
          "name": "stdout"
        }
      ]
    }
  ]
}