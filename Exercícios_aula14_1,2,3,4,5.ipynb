{
  "nbformat": 4,
  "nbformat_minor": 0,
  "metadata": {
    "kernelspec": {
      "display_name": "Python 3",
      "language": "python",
      "name": "python3"
    },
    "language_info": {
      "codemirror_mode": {
        "name": "ipython",
        "version": 3
      },
      "file_extension": ".py",
      "mimetype": "text/x-python",
      "name": "python",
      "nbconvert_exporter": "python",
      "pygments_lexer": "ipython3",
      "version": "3.7.0"
    },
    "colab": {
      "name": "Exercícios_aula14_1,2,3,4,5.ipynb",
      "provenance": [],
      "include_colab_link": true
    }
  },
  "cells": [
    {
      "cell_type": "markdown",
      "metadata": {
        "id": "view-in-github",
        "colab_type": "text"
      },
      "source": [
        "<a href=\"https://colab.research.google.com/github/NamSugata/Aula_Python/blob/master/Exerc%C3%ADcios_aula14_1%2C2%2C3%2C4%2C5.ipynb\" target=\"_parent\"><img src=\"https://colab.research.google.com/assets/colab-badge.svg\" alt=\"Open In Colab\"/></a>"
      ]
    },
    {
      "cell_type": "markdown",
      "metadata": {
        "id": "8p6Ps61XKT4L"
      },
      "source": [
        "##  Exercícios \n",
        "1. Escreva uma função booleana  chamada `entre`  que tome dois objetos MeuTempo, t1 e t2 , como argumentos, e retorne `True` se um terceiro objeto MeuTempo invocado estiver entre os dois tempos. Suponha que o tempo t1 <= t2 , e faça o teste fechado no limite inferior e abra no limite superior, isto é, retorne True se t1 <= obj < t2.\n",
        "\n",
        "1. Transforme a função acima em um método na classe MeuTempo.\n",
        "\n",
        "1. Sobrecarregue o(s) operador(es) necessário(s)  --ver a lista de métodos especiais em https://docs.python.org/3/reference/datamodel.html#special-method-names -- para que, em vez de ter que escrever :\n",
        "```python\n",
        "if t1.depois( t2 ):  \n",
        "     ...\n",
        "```\n",
        "possamos usar o mais conveniente:\n",
        "```python\n",
        "if t1  >  t2 :  \n",
        "     ...\n",
        "```\n",
        "\n",
        "1. Defina um novo tipo de tartaruga, TurtleGTX, que venha com alguns recursos extras: ela pode saltar para uma determinada distância, e tem um odômetro que rastreia até onde a tartaruga viajou desde que saiu da linha de produção. (A classe base tem vários sinônimos como `fd` e `forward` ; `back` , `backward` e `bk` : para este exercício, concentre-se **apenas** em colocar essa funcionalidade no método `forward`.) Pense cuidadosamente sobre como contar a distância se a tartaruga for solicitada a avançar por um valor negativo. (Não gostaríamos de comprar uma tartaruga de segunda mão cuja leitura do odômetro foi falsificada porque seu proprietário anterior a levou para trás ao redor do quarteirão com muita frequência. Tente isso em um carro perto de você e veja se o odômetro do carro conta para cima ou para baixo quando você marcha ré.)\n",
        "\n",
        "1. Depois de percorrer uma distância aleatória, sua tartaruga deve quebrar com um pneu furado. Depois disso, aumente uma exceção sempre que `forward` for chamado. Também forneça um método `trocar_pneu` que possa consertar o pneu furado e eliminar a exceção para a tartaruga continuar seu percorso."
      ]
    },
    {
      "cell_type": "code",
      "metadata": {
        "id": "JaOXgrqdKT4L"
      },
      "source": [
        "'Exercício 01:'\r\n",
        "\r\n",
        "def  entre(self, time2, time3): \r\n",
        "    \"\" \"Retorna True se self for estritamente maior que time2\" \"\" \r\n",
        "    if  self.horas < time2.horas < time3.hora: \r\n",
        "        return  True \r\n",
        "    if  self.horas > time2.horas or time2.horas > time3.horas or self.horas > time3.horas: \r\n",
        "        return  False \r\n",
        "\r\n",
        "    if  self.minutos < time2.minutos < time3.minutos:\r\n",
        "        return  True\r\n",
        "    if  self.minutos > time2.minutos or time2.minutos > time3.minutos or self.minutos > time3.minutos: \r\n",
        "        return  False \r\n",
        "\r\n",
        "    if  self.segundos <= time2.segundos < time3.segundos: \r\n",
        "        return  True \r\n",
        "\r\n",
        "    return  False\r\n"
      ],
      "execution_count": 1,
      "outputs": []
    },
    {
      "cell_type": "code",
      "metadata": {
        "id": "_XtY0-zO4G-1"
      },
      "source": [
        "'Exercício 02:'\r\n",
        "\r\n",
        "class  MeuTempo :\r\n",
        "    def  __init__ ( self ,  hrs = 0 ,  mins = 0 ,  segs = 0 ): \r\n",
        "        \"\" \"Criar um objeto MeuTempo inicializado para hrs, mins, segs\" \"\" \r\n",
        "        self.horas  =  hrs \r\n",
        "        self.minutos  =  mins\r\n",
        "        self.segundos  =  segs\r\n",
        "\r\n",
        "    # Definições de métodos anteriores aqui ... \r\n",
        "    # bla bla incremento, __str__ etc\r\n",
        "    \r\n",
        "    def  entre(self, time2, time3): \r\n",
        "        \"\" \"Retorna True se self for estritamente maior que time2\" \"\" \r\n",
        "        if  self.horas < time2.horas < time3.horas: \r\n",
        "            return  True \r\n",
        "        if  self.horas > time2.horas or time2.horas > time3.horas or self.horas > time3.horas: \r\n",
        "            return  False \r\n",
        "\r\n",
        "        if  self.minutos < time2.minutos < time3.minutos:\r\n",
        "            return  True \r\n",
        "        if  self.minutos > time2.minutos or time2.minutos > time3.minutos or self.minutos > time3.minutos: \r\n",
        "            return  False \r\n",
        "\r\n",
        "        if  self.segundos <= time2.segundos < time3.segundos: \r\n",
        "            return  True \r\n",
        "\r\n",
        "        return  False"
      ],
      "execution_count": 3,
      "outputs": []
    },
    {
      "cell_type": "code",
      "metadata": {
        "colab": {
          "base_uri": "https://localhost:8080/"
        },
        "id": "6WYCxa5a4QVz",
        "outputId": "e012f153-8e0d-4109-dae3-5e12e3c0e64c"
      },
      "source": [
        "time1 = MeuTempo(23, 30, 00)\r\n",
        "time2 = MeuTempo(1, 00, 00)\r\n",
        "time3 = MeuTempo(5, 00, 00)\r\n",
        "\r\n",
        "MeuTempo.entre(time1,time2,time3)"
      ],
      "execution_count": 4,
      "outputs": [
        {
          "output_type": "execute_result",
          "data": {
            "text/plain": [
              "False"
            ]
          },
          "metadata": {
            "tags": []
          },
          "execution_count": 4
        }
      ]
    }
  ]
}