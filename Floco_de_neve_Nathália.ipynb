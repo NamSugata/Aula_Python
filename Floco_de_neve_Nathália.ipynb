{
  "nbformat": 4,
  "nbformat_minor": 0,
  "metadata": {
    "colab": {
      "name": "Floco de neve_Nathália.ipynb",
      "provenance": [],
      "authorship_tag": "ABX9TyMGAAPY/8oUNphsENT/GcZ2",
      "include_colab_link": true
    },
    "kernelspec": {
      "name": "python3",
      "display_name": "Python 3"
    }
  },
  "cells": [
    {
      "cell_type": "markdown",
      "metadata": {
        "id": "view-in-github",
        "colab_type": "text"
      },
      "source": [
        "<a href=\"https://colab.research.google.com/github/NamSugata/Aula_Python/blob/master/Floco_de_neve_Nath%C3%A1lia.ipynb\" target=\"_parent\"><img src=\"https://colab.research.google.com/assets/colab-badge.svg\" alt=\"Open In Colab\"/></a>"
      ]
    },
    {
      "cell_type": "markdown",
      "metadata": {
        "id": "SSAN3kURTP2M"
      },
      "source": [
        "Floco de neve - Feito no pycharm:"
      ]
    },
    {
      "cell_type": "code",
      "metadata": {
        "id": "ZtbuYNzqTKB8"
      },
      "source": [
        "\"\"\"'Snow Flake:'\n",
        "import math\n",
        "import turtle\n",
        "joana = turtle.Turtle()\n",
        "\n",
        "def snowflake(t,x):\n",
        "    t.left(60)\n",
        "    fractal(t,x)\n",
        "    t.right(120)\n",
        "    fractal(t,x)\n",
        "    t.right(120)\n",
        "    fractal(t,x)\n",
        "\n",
        "def fractal(t,x):\n",
        "    curva_koch(t,x/3)\n",
        "    t.left(60)\n",
        "    curva_koch(t, x / 3)\n",
        "    t.right(120)\n",
        "    curva_koch(t, x / 3)\n",
        "    t.left(60)\n",
        "    curva_koch(t, x / 3)\n",
        "def curva_koch(t,x):\n",
        "    pontinha(t,x)\n",
        "    t.left(60)\n",
        "    pontinha(t,x)\n",
        "    t.right(120)\n",
        "    pontinha(t,x)\n",
        "    t.left(60)\n",
        "    pontinha(t,x)\n",
        "def pontinha(t,x):\n",
        "    t.circle(x, 60)\n",
        "    t.right(120)\n",
        "    t.circle(x, 60)\n",
        "\n",
        "#pontinha(joana, 40)\n",
        "#curva_koch(joana, 40)\n",
        "#fractal(joana, 40)\n",
        "snowflake(joana,40)\n",
        "joana.speed(100)\n",
        "turtle.done()\"\"\"\n"
      ],
      "execution_count": null,
      "outputs": []
    }
  ]
}