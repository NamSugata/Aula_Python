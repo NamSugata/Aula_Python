{
  "nbformat": 4,
  "nbformat_minor": 0,
  "metadata": {
    "kernelspec": {
      "display_name": "Python 3",
      "language": "python",
      "name": "python3"
    },
    "language_info": {
      "codemirror_mode": {
        "name": "ipython",
        "version": 3
      },
      "file_extension": ".py",
      "mimetype": "text/x-python",
      "name": "python",
      "nbconvert_exporter": "python",
      "pygments_lexer": "ipython3",
      "version": "3.6.4"
    },
    "colab": {
      "name": "Exercícios_aula8_1,2,3,4.ipynb",
      "provenance": [],
      "collapsed_sections": [],
      "include_colab_link": true
    }
  },
  "cells": [
    {
      "cell_type": "markdown",
      "metadata": {
        "id": "view-in-github",
        "colab_type": "text"
      },
      "source": [
        "<a href=\"https://colab.research.google.com/github/NamSugata/Aula_Python/blob/master/Exerc%C3%ADcios_aula8_1%2C2%2C3%2C4.ipynb\" target=\"_parent\"><img src=\"https://colab.research.google.com/assets/colab-badge.svg\" alt=\"Open In Colab\"/></a>"
      ]
    },
    {
      "cell_type": "markdown",
      "metadata": {
        "id": "QuAg2OjIJ36Y"
      },
      "source": [
        "## Exercício\n",
        "\n",
        "1. Resolução numérica de equações diferenciais. Imagine que tem um/a maratonista treinando, que num trecho de $5 km$ tem velocidade quase constante de $12 km/h$. Produza uma lista distância percorrida em intervalos de 1 minuto. \n",
        "\n",
        "2. O/A mesmo/a atleta no seguinte trecho acelera  por $200$ metros até chegar em $15 km/h$  por $2 km$. Queremos obter uma tabela ou gráfico da distância percorrida en função do tempo e o tempo total para chegar em $7 km$, faça isto utilizando listas. \n",
        "\n",
        "3. Considere um péndulo simples num plano. O comprimento da linha é $1$ metro, a massa é $0,2 kg$ e a aceleração de gravidade $9,8 m/s^2$. Faça um gráfico ou crie uma tabela para a posição em coordenadas cartesianas em função do tempo, utilizando listas.\n",
        "\n",
        "4. (opcional) Pesquise sobre o pacote `numpy` e os objetos desse pacote chamados `array`, tente utilizálos ao invés de listas para resolver os exercícios.\n",
        "\n",
        "Dica: podem usar o pacote `matplotlib.pyplot` para fazer um gráfico:"
      ]
    },
    {
      "cell_type": "code",
      "metadata": {
        "id": "XEkSrUBqJ36Z"
      },
      "source": [
        "import matplotlib.pyplot as plt\n",
        "\n",
        "t=[0,1,2,3,4,5,6,7,8,9,10]\n",
        "x=[0,4.2,8,10,23,30,35,41,44,50,55]\n",
        "\n",
        "plt.plot(t,x)\n",
        "plt.xlabel(\"tempo s\")\n",
        "plt.ylabel(\"distância m\")"
      ],
      "execution_count": null,
      "outputs": []
    },
    {
      "cell_type": "markdown",
      "metadata": {
        "id": "8gcXpug4cPw5"
      },
      "source": [
        "Solução dos exercícios - aula listas 08:"
      ]
    },
    {
      "cell_type": "code",
      "metadata": {
        "id": "vJMWgpqGcWpa",
        "outputId": "8a0ce3eb-b577-49f7-8ea1-f9a71403c01f",
        "colab": {
          "base_uri": "https://localhost:8080/",
          "height": 35
        }
      },
      "source": [
        "'Exercícios 01:'\n",
        "\n",
        "\n",
        "distancia = 5\n",
        "velocidade = 12\n",
        "\n",
        "def converte_velocidade(velocidade):\n",
        "    x = velocidade / 60             #converte a velocidade de Km/h para Km/min\n",
        "    return x\n",
        "\n",
        "elementos = int(distancia/ converte_velocidade(velocidade)) \n",
        "\n",
        "d = []\n",
        "for i in range(elementos+1):\n",
        "    a = i * converte_velocidade(velocidade)\n",
        "    d.append(round(a,2))\n",
        "       \n",
        "\n",
        "print(d,len(d))\n"
      ],
      "execution_count": 5,
      "outputs": [
        {
          "output_type": "stream",
          "text": [
            "[0.0, 0.2, 0.4, 0.6, 0.8, 1.0, 1.2, 1.4, 1.6, 1.8, 2.0, 2.2, 2.4, 2.6, 2.8, 3.0, 3.2, 3.4, 3.6, 3.8, 4.0, 4.2, 4.4, 4.6, 4.8, 5.0] 26\n"
          ],
          "name": "stdout"
        }
      ]
    },
    {
      "cell_type": "code",
      "metadata": {
        "id": "PopuOf6kq27Y",
        "outputId": "acf67c37-bf96-4cd1-d714-04474b69a152",
        "colab": {
          "base_uri": "https://localhost:8080/",
          "height": 313
        }
      },
      "source": [
        "import matplotlib.pyplot as plt\n",
        "import numpy as np\n",
        "a = 0\n",
        "b = elementos+1\n",
        "t = np.arange(a, b, 1)\n",
        "\n",
        "x = d\n",
        "\n",
        "plt.plot(t, d,'b--',  color = 'green')\n",
        "plt.title('Gráfico da primeira etapa da corrida')  \n",
        "plt.xlabel(\"tempo (min)\")\n",
        "plt.ylabel(\"distância (km)\")"
      ],
      "execution_count": 14,
      "outputs": [
        {
          "output_type": "execute_result",
          "data": {
            "text/plain": [
              "Text(0, 0.5, 'distância (km)')"
            ]
          },
          "metadata": {
            "tags": []
          },
          "execution_count": 14
        },
        {
          "output_type": "display_data",
          "data": {
            "image/png": "[encoded data removed]",
            "text/plain": [
              "<Figure size 432x288 with 1 Axes>"
            ]
          },
          "metadata": {
            "tags": [],
            "needs_background": "light"
          }
        }
      ]
    },
    {
      "cell_type": "code",
      "metadata": {
        "id": "1a1bE6L33LqC"
      },
      "source": [
        "\"Exercícios 02:\"\n",
        "\n",
        "def converte_velocidade(velocidade):\n",
        "  x = velocidade/60\n",
        "  return x\n",
        "def converte_pos(posicao):\n",
        "  p = pos*1000\n",
        "  return p\n",
        "\n",
        "#nos primeiros 200m:\n",
        "pos_inicial = 0\n",
        "pos_final = 0.2\n",
        "vel_ini = 12\n",
        "vel_final = 15\n",
        "\n",
        "a = (converte_velocidade(vel_final)**2 - converte_velocidade(vel_ini)**2)/ (2 * pos_final)\n",
        "t1 = int(pos_final/converte_velocidade(vel_final)-converte_velocidade(vel_ini))\n",
        "\n",
        "\n",
        "t = []\n",
        "for i in range (0,t1):\n",
        "    t.append(1)\n",
        "      \n",
        "x = []\n",
        "for i in range(200):\n",
        "    j = (a*(t**2))/2\n",
        "    x.append(j)\n",
        "\n",
        "print (a,t)\n",
        "print(x,t)\n",
        "\n",
        "\n"
      ],
      "execution_count": null,
      "outputs": []
    },
    {
      "cell_type": "markdown",
      "metadata": {
        "id": "9E6bH7CvRHp-"
      },
      "source": [
        "Exercício pasta A"
      ]
    },
    {
      "cell_type": "code",
      "metadata": {
        "id": "VtgMcexoS7jD",
        "outputId": "ab27069d-11a8-4e24-fb38-0cf36307b944",
        "colab": {
          "base_uri": "https://localhost:8080/",
          "height": 72
        }
      },
      "source": [
        "d0 = 0\n",
        "dfin = 5\n",
        "v = 12\n",
        "\n",
        "t = [i for i in range(0,30)] # intervalo de 0 a 30 pq quis, poderia ser outro valor\n",
        "                             # mas tem q ser um intervalo tal que dfim esteja\n",
        "                             # para obter então o tempo total em 5km\n",
        "\n",
        "d = [d0 + (v/60)*ti for ti in t] # velocidade em km/min\n",
        "\n",
        "print(d)              # print da lista de posição\n",
        "\n",
        "i=d.index(5)          # pega o item da lista que tem valor igual a 5\n",
        "                      # e calcula o tempo para tal distancia (item da lista)\n",
        "                      \n",
        "print(\"O atleta percorreu {0} kilômetros em {1} minutos\".format(d[i],t[i]))\n"
      ],
      "execution_count": 3,
      "outputs": [
        {
          "output_type": "stream",
          "text": [
            "[0.0, 0.2, 0.4, 0.6000000000000001, 0.8, 1.0, 1.2000000000000002, 1.4000000000000001, 1.6, 1.8, 2.0, 2.2, 2.4000000000000004, 2.6, 2.8000000000000003, 3.0, 3.2, 3.4000000000000004, 3.6, 3.8000000000000003, 4.0, 4.2, 4.4, 4.6000000000000005, 4.800000000000001, 5.0, 5.2, 5.4, 5.6000000000000005, 5.800000000000001]\n",
            "O atleta percorreu 5.0 kilômetros em 25 minutos\n"
          ],
          "name": "stdout"
        }
      ]
    },
    {
      "cell_type": "code",
      "metadata": {
        "id": "peF9Boo2RGC5"
      },
      "source": [
        "d0 = 0\n",
        "d01 = 5\n",
        "d02 = 5.2\n",
        "dfin = 7\n",
        "\n",
        "v1 = 12\n",
        "v2 = 15\n",
        "a = 202.5\n",
        "\n",
        "t1 = [i for i in range(0,30)]        # intervalo de 0 a 30 pq quis, poderia ser outro valor\n",
        "                                     # mas tem q ser um intervalo tal que dfim esteja\n",
        "                                     # para obter então o tempo total em 5km\n",
        "t2 = [i for i in range(30,60)]\n",
        "t3 = [i for i in range(60,100)]\n",
        "\n",
        "\n",
        "d1 = [d0 + (v1/60)*ti for ti in t1]                        # velocidade em km/min\n",
        "d2 = [d01 + (v1/60)*ti + (a/2)*ti**2 for ti in t2]\n",
        "d3 = [d02 + (v2/60)*ti for ti in t3]\n",
        "\n",
        "\n",
        "\n",
        "\n",
        "\n",
        "print(d)              # print da lista de posição\n",
        "\n",
        "i=d.index(5)          # pega o item da lista que tem valor igual a 5\n",
        "                      # e calcula o tempo para tal distancia (item da lista)\n",
        "                      \n",
        "print(\"O atleta percorreu {0} kilômetros em {1} minutos\".format(d[i],t[i]))"
      ],
      "execution_count": null,
      "outputs": []
    }
  ]
}