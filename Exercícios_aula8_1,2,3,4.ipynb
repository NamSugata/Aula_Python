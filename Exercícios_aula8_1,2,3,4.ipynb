{
  "nbformat": 4,
  "nbformat_minor": 0,
  "metadata": {
    "kernelspec": {
      "display_name": "Python 3",
      "language": "python",
      "name": "python3"
    },
    "language_info": {
      "codemirror_mode": {
        "name": "ipython",
        "version": 3
      },
      "file_extension": ".py",
      "mimetype": "text/x-python",
      "name": "python",
      "nbconvert_exporter": "python",
      "pygments_lexer": "ipython3",
      "version": "3.6.4"
    },
    "colab": {
      "name": "Exercícios_aula8_1,2,3,4.ipynb",
      "provenance": [],
      "collapsed_sections": [],
      "include_colab_link": true
    }
  },
  "cells": [
    {
      "cell_type": "markdown",
      "metadata": {
        "id": "view-in-github",
        "colab_type": "text"
      },
      "source": [
        "<a href=\"https://colab.research.google.com/github/NamSugata/Aula_Python/blob/master/Exerc%C3%ADcios_aula8_1%2C2%2C3%2C4.ipynb\" target=\"_parent\"><img src=\"https://colab.research.google.com/assets/colab-badge.svg\" alt=\"Open In Colab\"/></a>"
      ]
    },
    {
      "cell_type": "markdown",
      "metadata": {
        "id": "QuAg2OjIJ36Y"
      },
      "source": [
        "## Exercício\n",
        "\n",
        "1. Resolução numérica de equações diferenciais. Imagine que tem um/a maratonista treinando, que num trecho de $5 km$ tem velocidade quase constante de $12 km/h$. Produza uma lista distância percorrida em intervalos de 1 minuto. \n",
        "\n",
        "2. O/A mesmo/a atleta no seguinte trecho acelera  por $200$ metros até chegar em $15 km/h$  por $2 km$. Queremos obter uma tabela ou gráfico da distância percorrida en função do tempo e o tempo total para chegar em $7 km$, faça isto utilizando listas. \n",
        "\n",
        "3. Considere um péndulo simples num plano. O comprimento da linha é $1$ metro, a massa é $0,2 kg$ e a aceleração de gravidade $9,8 m/s^2$. Faça um gráfico ou crie uma tabela para a posição em coordenadas cartesianas em função do tempo, utilizando listas.\n",
        "\n",
        "4. (opcional) Pesquise sobre o pacote `numpy` e os objetos desse pacote chamados `array`, tente utilizálos ao invés de listas para resolver os exercícios.\n",
        "\n",
        "Dica: podem usar o pacote `matplotlib.pyplot` para fazer um gráfico:"
      ]
    },
    {
      "cell_type": "code",
      "metadata": {
        "id": "XEkSrUBqJ36Z"
      },
      "source": [
        "import matplotlib.pyplot as plt\n",
        "\n",
        "t=[0,1,2,3,4,5,6,7,8,9,10]\n",
        "x=[0,4.2,8,10,23,30,35,41,44,50,55]\n",
        "\n",
        "plt.plot(t,x)\n",
        "plt.xlabel(\"tempo s\")\n",
        "plt.ylabel(\"distância m\")"
      ],
      "execution_count": null,
      "outputs": []
    },
    {
      "cell_type": "markdown",
      "metadata": {
        "id": "8gcXpug4cPw5"
      },
      "source": [
        "Solução dos exercícios - aula listas 08:"
      ]
    },
    {
      "cell_type": "code",
      "metadata": {
        "id": "vJMWgpqGcWpa"
      },
      "source": [
        "'Exercícios 01:'\n",
        "\n",
        "\n",
        "distancia = 5\n",
        "velocidade = 12\n",
        "\n",
        "def converte_velocidade(velocidade):\n",
        "    x = velocidade / 60\n",
        "    return x\n",
        "\n",
        "elementos = int(distancia/ converte_velocidade(velocidade)) \n",
        "\n",
        "d = []\n",
        "for i in range(elementos+1):\n",
        "    a = i * converte_velocidade(velocidade)\n",
        "    d.append(round(a,2))\n",
        "       \n",
        "\n",
        "print(d,len(d))\n"
      ],
      "execution_count": null,
      "outputs": []
    },
    {
      "cell_type": "code",
      "metadata": {
        "id": "1a1bE6L33LqC"
      },
      "source": [
        "\"Exercícios 02:\"\n",
        "\n",
        "def converte_velocidade(velocidade):\n",
        "  x = velocidade/60\n",
        "  return x\n",
        "def converte_pos(posicao):\n",
        "  p = pos*1000\n",
        "  return p\n",
        "\n",
        "#nos primeiros 200m:\n",
        "pos_inicial = 0\n",
        "pos_final = 0.2\n",
        "vel_ini = 12\n",
        "vel_final = 15\n",
        "\n",
        "a = (converte_velocidade(vel_final)**2 - converte_velocidade(vel_ini)**2)/ (2 * pos_final)\n",
        "t1 = int(pos_final/converte_velocidade(vel_final)-converte_velocidade(vel_ini))\n",
        "\n",
        "\n",
        "t = []\n",
        "for i in range (0,t1):\n",
        "    t.append(1)\n",
        "      \n",
        "x = []\n",
        "for i in range(200):\n",
        "    j = a*(t**2)/2\n",
        "    x.append(pos_inicial+j)\n",
        "\n",
        "print (a,t)\n",
        "print(x,t)\n",
        "\n",
        "\n"
      ],
      "execution_count": null,
      "outputs": []
    }
  ]
}