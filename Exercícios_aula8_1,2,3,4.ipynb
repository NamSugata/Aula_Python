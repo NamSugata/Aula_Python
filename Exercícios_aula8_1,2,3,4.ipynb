{
  "nbformat": 4,
  "nbformat_minor": 0,
  "metadata": {
    "kernelspec": {
      "display_name": "Python 3",
      "language": "python",
      "name": "python3"
    },
    "language_info": {
      "codemirror_mode": {
        "name": "ipython",
        "version": 3
      },
      "file_extension": ".py",
      "mimetype": "text/x-python",
      "name": "python",
      "nbconvert_exporter": "python",
      "pygments_lexer": "ipython3",
      "version": "3.6.4"
    },
    "colab": {
      "name": "Exercícios_aula8_1,2,3,4.ipynb",
      "provenance": [],
      "collapsed_sections": [],
      "include_colab_link": true
    }
  },
  "cells": [
    {
      "cell_type": "markdown",
      "metadata": {
        "id": "view-in-github",
        "colab_type": "text"
      },
      "source": [
        "<a href=\"https://colab.research.google.com/github/NamSugata/Aula_Python/blob/master/Exerc%C3%ADcios_aula8_1%2C2%2C3%2C4.ipynb\" target=\"_parent\"><img src=\"https://colab.research.google.com/assets/colab-badge.svg\" alt=\"Open In Colab\"/></a>"
      ]
    },
    {
      "cell_type": "markdown",
      "metadata": {
        "id": "QuAg2OjIJ36Y"
      },
      "source": [
        "## Exercício\n",
        "\n",
        "1. Resolução numérica de equações diferenciais. Imagine que tem um/a maratonista treinando, que num trecho de $5 km$ tem velocidade quase constante de $12 km/h$. Produza uma lista distância percorrida em intervalos de 1 minuto. \n",
        "\n",
        "2. O/A mesmo/a atleta no seguinte trecho acelera  por $200$ metros até chegar em $15 km/h$  por $2 km$. Queremos obter uma tabela ou gráfico da distância percorrida en função do tempo e o tempo total para chegar em $7 km$, faça isto utilizando listas. \n",
        "\n",
        "3. Considere um péndulo simples num plano. O comprimento da linha é $1$ metro, a massa é $0,2 kg$ e a aceleração de gravidade $9,8 m/s^2$. Faça um gráfico ou crie uma tabela para a posição em coordenadas cartesianas em função do tempo, utilizando listas.\n",
        "\n",
        "4. (opcional) Pesquise sobre o pacote `numpy` e os objetos desse pacote chamados `array`, tente utilizálos ao invés de listas para resolver os exercícios.\n",
        "\n",
        "Dica: podem usar o pacote `matplotlib.pyplot` para fazer um gráfico:"
      ]
    },
    {
      "cell_type": "code",
      "metadata": {
        "id": "XEkSrUBqJ36Z"
      },
      "source": [
        "import matplotlib.pyplot as plt\n",
        "\n",
        "t=[0,1,2,3,4,5,6,7,8,9,10]\n",
        "x=[0,4.2,8,10,23,30,35,41,44,50,55]\n",
        "\n",
        "plt.plot(t,x)\n",
        "plt.xlabel(\"tempo s\")\n",
        "plt.ylabel(\"distância m\")"
      ],
      "execution_count": null,
      "outputs": []
    },
    {
      "cell_type": "markdown",
      "metadata": {
        "id": "8gcXpug4cPw5"
      },
      "source": [
        "Solução dos exercícios - aula listas 08:"
      ]
    },
    {
      "cell_type": "code",
      "metadata": {
        "id": "vJMWgpqGcWpa",
        "outputId": "c4d5294d-a312-42a6-be45-562dcb3c35c8",
        "colab": {
          "base_uri": "https://localhost:8080/"
        }
      },
      "source": [
        "'Exercícios 01:'\n",
        "\n",
        "\n",
        "distancia = 5\n",
        "velocidade = 12\n",
        "\n",
        "def converte_velocidade(velocidade):\n",
        "    x = velocidade / 60             #converte a velocidade de Km/h para Km/min\n",
        "    return x\n",
        "\n",
        "elementos = int(distancia/ converte_velocidade(velocidade)) #tempo em minutos\n",
        "t = [i for i in range (0, elementos + 1)]\n",
        "d = []\n",
        "for i in range(elementos+1):\n",
        "    a = i * converte_velocidade(velocidade)\n",
        "    d.append(round(a,2))\n",
        "       \n",
        "\n",
        "print(d,len(d))\n"
      ],
      "execution_count": 39,
      "outputs": [
        {
          "output_type": "stream",
          "text": [
            "[0.0, 0.2, 0.4, 0.6, 0.8, 1.0, 1.2, 1.4, 1.6, 1.8, 2.0, 2.2, 2.4, 2.6, 2.8, 3.0, 3.2, 3.4, 3.6, 3.8, 4.0, 4.2, 4.4, 4.6, 4.8, 5.0] 26\n"
          ],
          "name": "stdout"
        }
      ]
    },
    {
      "cell_type": "code",
      "metadata": {
        "id": "PopuOf6kq27Y"
      },
      "source": [
        "import matplotlib.pyplot as plt\n",
        "import numpy as np\n",
        "a = 0\n",
        "b = elementos+1\n",
        "t = np.arange(a, b, 1)\n",
        "\n",
        "x = d\n",
        "\n",
        "plt.plot(t, d,'b--',  color = 'green')\n",
        "plt.title('Gráfico da primeira etapa da corrida')  \n",
        "plt.xlabel(\"tempo (min)\")\n",
        "plt.ylabel(\"distância (km)\")"
      ],
      "execution_count": null,
      "outputs": []
    },
    {
      "cell_type": "code",
      "metadata": {
        "id": "K6x4Z7wF81mD",
        "outputId": "ec72e3bb-3a24-4703-bc88-01fbb9d1ac75",
        "colab": {
          "base_uri": "https://localhost:8080/"
        }
      },
      "source": [
        "def converte_velocidade(velocidade):\n",
        "    '''Converte a velocidade \n",
        "    para km/min.\n",
        "    '''\n",
        "    x = velocidade/60\n",
        "    return x\n",
        "\n",
        "pos_inicial = 5 #Km\n",
        "pos_final = 7   #Km\n",
        "vel_ini = 12    #km/h\n",
        "vel_final = 15  #km/h    \n",
        "\n",
        "vel_minutos = converte_velocidade(vel_final)\n",
        "tempo = int((pos_final-pos_inicial)/vel_minutos)\n",
        "\n",
        "intervalo = [i for i in range(26)]\n",
        "espaço = [x/100 for x in range(0,5200,200)]\n",
        "\n",
        "for i in range(tempo+1):\n",
        "    intervalo.append(tempo + i)\n",
        "    dist = pos_inicial + i * vel_minutos\n",
        "    espaco.append(round(dist,2))\n",
        "\n",
        "print(intervalo)\n",
        "print(espaco)"
      ],
      "execution_count": 54,
      "outputs": [
        {
          "output_type": "stream",
          "text": [
            "[0, 1, 2, 3, 4, 5, 6, 7, 8, 9, 10, 11, 12, 13, 14, 15, 16, 17, 18, 19, 20, 21, 22, 23, 24, 25, 8, 9, 10, 11, 12, 13, 14, 15, 16]\n",
            "[0.0, 0.2, 0.4, 0.6, 0.8, 1.0, 1.2, 1.4, 1.6, 1.8, 2.0, 2.2, 2.4, 2.6, 2.8, 3.0, 3.2, 3.4, 3.6, 3.8, 4.0, 4.2, 4.4, 4.6, 4.8, 5.0, 5.0, 5.25, 5.5, 5.75, 6.0, 6.25, 6.5, 6.75, 7.0, 5.0, 5.25, 5.5, 5.75, 6.0, 6.25, 6.5, 6.75, 7.0, 5.0, 5.25, 5.5, 5.75, 6.0, 6.25, 6.5, 6.75, 7.0, 5.0, 5.25, 5.5, 5.75, 6.0, 6.25, 6.5, 6.75, 7.0, 5.0, 5.25, 5.5, 5.75, 6.0, 6.25, 6.5, 6.75, 7.0, 5.0, 5.25, 5.5, 5.75, 6.0, 6.25, 6.5, 6.75, 7.0, 5.0, 5.25, 5.5, 5.75, 6.0, 6.25, 6.5, 6.75, 7.0]\n"
          ],
          "name": "stdout"
        }
      ]
    },
    {
      "cell_type": "code",
      "metadata": {
        "id": "AIIiK8r-ucEM",
        "outputId": "4fc49ecf-2736-4388-9acf-cde212bfa262",
        "colab": {
          "base_uri": "https://localhost:8080/",
          "height": 295
        }
      },
      "source": [
        "import numpy as np\n",
        "from numpy import sin, cos\n",
        "from scipy.integrate import odeint\n",
        "from matplotlib import pyplot as plt\n",
        "\n",
        "#definindo as equações\n",
        "def equations(y0,t):\n",
        "    theta, x = y0\n",
        "    f = [x, -(g/l) * sin(theta)]\n",
        "    return f\n",
        "\n",
        "def plotar_resultados(tempo, theta1):\n",
        "    plt.plot(tempo, theta1)\n",
        "\n",
        "    plt.title('Movimento pendular: ')\n",
        "    plt.xlabel('tempo (s)')\n",
        "    plt.ylabel('ângulo em (radianos)')\n",
        "    plt.grid(True)\n",
        "    plt.show()\n",
        "\n",
        "#parâmetros\n",
        "g = 9.8\n",
        "l = 1.0\n",
        "tempo = np.arange(0,10,0.025)\n",
        "\n",
        "#condições iniciais\n",
        "angulo_inicial = 10.0 #graus\n",
        "theta0 = np.radians(angulo_inicial)\n",
        "x0 = np.radians(0.0)\n",
        "\n",
        "#encontrando as soluções possíveis\n",
        "w = np.sqrt(g/l)\n",
        "theta1 = [theta0 * cos(w*t) for t in tempo]\n",
        "\n",
        "#plotar os resultados\n",
        "plotar_resultados(tempo, theta1)\n",
        "\n",
        "#for i in range(len(theta1)):\n",
        "#    print(f'{theta1[i]:3f} radianos - {tempo[i]:1f} s')"
      ],
      "execution_count": 7,
      "outputs": [
        {
          "output_type": "display_data",
          "data": {
            "image/png": "[encoded data removed]",
            "text/plain": [
              "<Figure size 432x288 with 1 Axes>"
            ]
          },
          "metadata": {
            "tags": [],
            "needs_background": "light"
          }
        }
      ]
    }
  ]
}