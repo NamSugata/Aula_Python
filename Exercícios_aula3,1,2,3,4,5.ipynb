{
  "nbformat": 4,
  "nbformat_minor": 0,
  "metadata": {
    "kernelspec": {
      "display_name": "Python 3",
      "language": "python",
      "name": "python3"
    },
    "language_info": {
      "codemirror_mode": {
        "name": "ipython",
        "version": 3
      },
      "file_extension": ".py",
      "mimetype": "text/x-python",
      "name": "python",
      "nbconvert_exporter": "python",
      "pygments_lexer": "ipython3",
      "version": "3.6.4"
    },
    "colab": {
      "name": "Exercícios_aula3,1,2,3,4,5.ipynb",
      "provenance": [],
      "collapsed_sections": [],
      "include_colab_link": true
    }
  },
  "cells": [
    {
      "cell_type": "markdown",
      "metadata": {
        "id": "view-in-github",
        "colab_type": "text"
      },
      "source": [
        "<a href=\"https://colab.research.google.com/github/NamSugata/Aula_Python/blob/master/Exerc%C3%ADcios_aula3%2C1%2C2%2C3%2C4%2C5.ipynb\" target=\"_parent\"><img src=\"https://colab.research.google.com/assets/colab-badge.svg\" alt=\"Open In Colab\"/></a>"
      ]
    },
    {
      "cell_type": "markdown",
      "metadata": {
        "id": "kAzo_U0J1QC4"
      },
      "source": [
        "## Exercícios:\n",
        "1. Crie uma funcão que tome um argumento e imprima o valor e o tipo dele.\n",
        "1. Crie uma função que calcule e imprima velocidade media de um objeto a partir de uma posição inicial, a final e o tempo transcorrido para um objeto em MRU. Também crie uma funcão que calcule e imprima a velocidade de um objeto a partir da aceleração constante e o tempo (MRUA) (p.ex. queda libre).\n",
        "1. Crie uma funcão para calcular o ángulo zenital do sol (da semana passada) tomando como argumento as medidas da altura e o comprimento da sombra.\n",
        "1. Crie uma função que faça a conversão de uma medida inicialmente em milhas para m, e outra para o inverso; uma de horas para segundos, e o inverso. Utilize estas funções para resolver novamente o primeiro exercício da semana passada (da corrida). Se uma pessoa demora 30 minutos em 4 milhas, qual velocidade media em km/h ? e o tempo medio por kilometro?\n",
        "1. Crie funções para calcular os outros exemplos das aulas anteriores: IMC, volume de uma esfera, distancia entre pontos de máximos de difração. Decida quais serão os argumentos e o valor retornado.\n"
      ]
    },
    {
      "cell_type": "code",
      "metadata": {
        "id": "bAzYOdIK1QC5",
        "outputId": "fd6dac3d-3565-4b41-b67a-81152b8dab0e",
        "colab": {
          "base_uri": "https://localhost:8080/",
          "height": 35
        }
      },
      "source": [
        "'Exercício 01'\n",
        "\n",
        "def funcao_tipo(argumento):\n",
        "    print(f'você digitou: {argumento} que é do tipo: {type(argumento)}')\n",
        "\n",
        "funcao_tipo('amor')  \n",
        "\n"
      ],
      "execution_count": null,
      "outputs": [
        {
          "output_type": "stream",
          "text": [
            "você digitou: amor que é do tipo: <class 'str'>\n"
          ],
          "name": "stdout"
        }
      ]
    },
    {
      "cell_type": "code",
      "metadata": {
        "id": "PpP-6WSY-mKG",
        "outputId": "898d1557-2dd9-4522-bb91-b5294c290e80",
        "colab": {
          "base_uri": "https://localhost:8080/",
          "height": 87
        }
      },
      "source": [
        "'Exercício 02'\n",
        "\n",
        "def veloc_media(si,sf,t):\n",
        "    si = float(input('Digite a posição inicial em (m): '))\n",
        "    sf = float(input('Digite a posição final em (m): '))\n",
        "    t = int(input('Digite o intervalo de tempo em (s): '))\n",
        "    veloc_media = (sf - si)/ t\n",
        "    print(f'A velocidade média do móvel é: {veloc_media:.2f} m/s.')\n",
        "\n",
        "veloc_media(si,sf,t)\n",
        "\n",
        "  \n",
        "    "
      ],
      "execution_count": null,
      "outputs": [
        {
          "output_type": "stream",
          "text": [
            "Digite a posição inicial em (m): 1\n",
            "Digite a posição final em (m): 2\n",
            "Digite o intervalo de tempo em (s): 1\n",
            "A velocidade média do móvel é: 1.00 m/s.\n"
          ],
          "name": "stdout"
        }
      ]
    },
    {
      "cell_type": "code",
      "metadata": {
        "id": "6FUxqXH5I-rr",
        "outputId": "8b61ddbf-1f04-4880-b5ec-d3892cb05fcb",
        "colab": {
          "base_uri": "https://localhost:8080/",
          "height": 87
        }
      },
      "source": [
        "def velocidade_queda(vi,g,t):\n",
        "    vi = float(input('Digite a velocidade inicial em (m): '))\n",
        "    g = float(input('Digite a aceleração da gravidade em (m/s²): '))\n",
        "    t = int(input('Digite o tempo de queda em (s): '))\n",
        "    velocidade_queda = vi + g * t\n",
        "    print(f'A velocidade de queda do móvel é: {velocidade_queda:.2f} m/s.')\n",
        "\n",
        "\n",
        "velocidade_queda(vi,g,t)  "
      ],
      "execution_count": null,
      "outputs": [
        {
          "output_type": "stream",
          "text": [
            "Digite a velocidade inicial em (m): 0\n",
            "Digite a aceleração da gravidade em (m/s²): 9.8\n",
            "Digite o tempo de queda em (s): 1\n",
            "A velocidade de queda do móvel é: 9.80 m/s.\n"
          ],
          "name": "stdout"
        }
      ]
    },
    {
      "cell_type": "code",
      "metadata": {
        "id": "Ta-dR76oM-Rg",
        "outputId": "4d8593cd-567e-457d-e9ec-4f5048dc130c",
        "colab": {
          "base_uri": "https://localhost:8080/",
          "height": 69
        }
      },
      "source": [
        "'Exercício 03'\n",
        "'''\n",
        "      Função que calcula o ângulo zenital a do sol e imprime na tela o valor em graus.\n",
        "      Ho(m): altura da objeto/pessoa ao sol\n",
        "      hs(m): tamanho da sombra do objeto\n",
        "      '''\n",
        "import math\n",
        "\n",
        "def angulo_azimutal(Ho,h):\n",
        "    tan = hs / Ho\n",
        "    a = math.degrees(math.atan(tan))\n",
        "    print(f'O ângulo azimutal do sol é: {a:.2f} graus para uma pessoa com altura, {Ho:.2f} m e sombra, {hs:.2f} m.')\n",
        "\n",
        "Ho = float(input('Digite a altura da pessoa em (m): '))\n",
        "hs = float(input('Digite o tamanho da sombra em (m): '))\n",
        "\n",
        "angulo_azimutal(Ho,hs)"
      ],
      "execution_count": null,
      "outputs": [
        {
          "output_type": "stream",
          "text": [
            "Digite a altura da pessoa em (m): 1\n",
            "Digite o tamanho da sombra em (m): 1\n",
            "O ângulo azimutal do sol é: 45.00 graus para uma pessoa com altura, 1.00 m e sombra, 1.00 m.\n"
          ],
          "name": "stdout"
        }
      ]
    },
    {
      "cell_type": "code",
      "metadata": {
        "id": "PXZPlGYSiRxf",
        "outputId": "b2cc40c5-57bb-49b7-907a-ee77e537c1c7",
        "colab": {
          "base_uri": "https://localhost:8080/",
          "height": 87
        }
      },
      "source": [
        "'Exercício 04:'\n",
        "\n",
        "def milha_metro(milhas):\n",
        "    mi = float(milhas)\n",
        "    me = mi * 1609.34\n",
        "    return me\n",
        "\n",
        "def metro_milha(metro):\n",
        "    me = float(metro)\n",
        "    mi = me / 1609.34\n",
        "    return mi\n",
        "\n",
        "def hora_segundo(h):\n",
        "    hora = float(h)\n",
        "    seg = int(hora * 3600)\n",
        "    return seg\n",
        "\n",
        "def segundo_hora(s):\n",
        "    segundo = int(s)\n",
        "    hora = float(segundo/3600)\n",
        "    return hora\n",
        "\n",
        "def minuto_segundo(min):\n",
        "    minutos = float(min)\n",
        "    seg = int(minutos * 60)\n",
        "    return seg\n",
        "\n",
        "def minuto_hora(min):\n",
        "    minutos = float(min)\n",
        "    hora = minutos/60\n",
        "    return hora    \n",
        "\n",
        "def kilometro_metro(kilometro):\n",
        "    kilometro = float(km)\n",
        "    metro = kilometro/1000\n",
        "    return metro    \n",
        "\n",
        "def converte_velocidade(vm):\n",
        "    #Função que converte velocidade\n",
        "    #de (vm) m/s para (vk) Km/h.\n",
        "    conversao = 3.6\n",
        "    vk = vm * conversao\n",
        "    return vk\n",
        "\n",
        "def velocidade_media(deslocamento,t):\n",
        "    velocidade = milha_metro(deslocamento)/minuto_segundo(t)\n",
        "    v = converte_velocidade(velocidade)\n",
        "    print(f'a velocidade média é: {v:.2f} km/h.')\n",
        "\n",
        "\n",
        "x = float(input('Digite o valor do deslocamento (mi): '))\n",
        "t = int(input('Digite o valor do tempo (min): '))\n",
        "\n",
        "velocidade_media(x,t)\n",
        "\n",
        "'Problema semana passada deslocamento = 10 quilômetros e t = 43,5 min.'\n",
        "\n",
        "def velocidade_media1(deslocamento,t):\n",
        "    #Função que calcula velocidade\n",
        "    #em m/s para deslocamento em km\n",
        "    #e tempo em min.\n",
        "    velocidade = x /minuto_segundo(t)\n",
        "    v = converte_velocidade(velocidade)\n",
        "    print(f'a velocidade média para um móvel que anda 10 quilômetros em 43,5 minutos é: {v:.2f} km/h.')\n",
        "\n",
        "velocidade_media(10,43.5)    \n",
        "\n"
      ],
      "execution_count": 7,
      "outputs": [
        {
          "output_type": "stream",
          "text": [
            "Digite o valor do deslocamento (mi): 4000\n",
            "Digite o valor do tempo (min): 5\n",
            "a velocidade média é: 77248.32 km/h.\n",
            "a velocidade média é: 22.20 km/h.\n"
          ],
          "name": "stdout"
        }
      ]
    },
    {
      "cell_type": "code",
      "metadata": {
        "id": "uaSG5CUjhvFd",
        "outputId": "90c46a1a-3194-4349-a9f4-574ade0afb47",
        "colab": {
          "base_uri": "https://localhost:8080/",
          "height": 87
        }
      },
      "source": [
        "'Exercício 05'\n",
        "\n",
        "#IMC, . Decida quais serão os argumentos e o valor retornado.\n",
        "\n",
        "def imc(massa,altura):\n",
        "    imc = massa/altura**2\n",
        "    print(f'O IMC para uma pessoa com massa {massa:.2f} Kg e altura {altura:.2f} m é: {imc:.2f}.')\n",
        "    return imc\n",
        "\n",
        "massa = float(input('Insira sua massa corporal em quilogramas: '))\n",
        "altura = float(input('insira sua altura em metros: '))\n",
        "\n",
        "imc(massa,altura)"
      ],
      "execution_count": null,
      "outputs": [
        {
          "output_type": "stream",
          "text": [
            "Insira sua massa corporal em quilogramas: 57\n",
            "insira sua altura em metros: 1.77\n",
            "O IMC para uma pessoa com massa 57.00 Kg e altura 1.77 m é: 18.19.\n"
          ],
          "name": "stdout"
        },
        {
          "output_type": "execute_result",
          "data": {
            "text/plain": [
              "18.194005553959588"
            ]
          },
          "metadata": {
            "tags": []
          },
          "execution_count": 7
        }
      ]
    },
    {
      "cell_type": "code",
      "metadata": {
        "id": "vfq4cI2smOgm",
        "outputId": "ce68ec71-b44d-4b23-d17b-e1ee42249303",
        "colab": {
          "base_uri": "https://localhost:8080/",
          "height": 69
        }
      },
      "source": [
        "'volume de uma esfera'\n",
        "import math\n",
        "def volume_esfera(raio):\n",
        "    volume = 4/3*(math.pi*raio**3)\n",
        "    print(f'O volume da esfera de raio {raio:.2f} cm é {volume:.2f} cm³.')\n",
        "    return volume_esfera\n",
        "\n",
        "raio = float(input('Insira o valor do raio da esfera (cm): '))\n",
        "volume_esfera(raio)"
      ],
      "execution_count": null,
      "outputs": [
        {
          "output_type": "stream",
          "text": [
            "Insira o valor do raio da esfera (cm): 1\n",
            "O volume da esfera de raio 1.00 cm é 4.19 cm³.\n"
          ],
          "name": "stdout"
        },
        {
          "output_type": "execute_result",
          "data": {
            "text/plain": [
              "<function __main__.volume_esfera>"
            ]
          },
          "metadata": {
            "tags": []
          },
          "execution_count": 9
        }
      ]
    },
    {
      "cell_type": "code",
      "metadata": {
        "id": "cwsFJ1XPrPtg",
        "outputId": "03754fc1-287e-4db1-e72b-70abc023ad33",
        "colab": {
          "base_uri": "https://localhost:8080/",
          "height": 87
        }
      },
      "source": [
        "'distancia entre pontos de máximos de difração:'\n",
        "\n",
        "def nano_metro(nano):\n",
        "    conversao = 10**(-9)\n",
        "    metro = nano * conversao\n",
        "    return metro\n",
        "\n",
        "def mili_metro(milimetro):\n",
        "    conversao = 10**(-3)\n",
        "    m = milimetro * conversao\n",
        "    return m\n",
        "\n",
        "def distancia_maximos(comprimento_onda,distancia_anteparo,distancia_fendas):\n",
        "    y = (nano_metro(comprimento_onda) * distancia_anteparo)/ mili_metro(distancia_fendas)\n",
        "    print(f'A distância entre os máximos consecutivos é de: {y:.2f} m.')\n",
        "                      \n",
        "comprimento_onda = float(input('Digite o comprimento de onda em (nm): '))\n",
        "distancia_anteparo = float(input('Digite a distância da fenda ao anteparo em (m): '))\n",
        "distancia_fendas = float(input('Digite a distância entre as fendas em (cm): '))\n",
        "\n",
        "distancia_maximos(comprimento_onda,distancia_anteparo,distancia_fendas)"
      ],
      "execution_count": 2,
      "outputs": [
        {
          "output_type": "stream",
          "text": [
            "Digite o comprimento de onda em (nm): 632.8\n",
            "Digite a distância da fenda ao anteparo em (m): 1.98\n",
            "Digite a distância entre as fendas em (cm): 0.250\n",
            "A distância entre os máximos consecutivos é de: 0.01 m.\n"
          ],
          "name": "stdout"
        }
      ]
    }
  ]
}